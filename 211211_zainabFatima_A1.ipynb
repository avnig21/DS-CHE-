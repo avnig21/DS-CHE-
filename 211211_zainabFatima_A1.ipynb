{
 "cells": [
  {
   "cell_type": "markdown",
   "metadata": {
    "id": "tIol1e9EzB-Z"
   },
   "source": [
    "# DS : CHE\n",
    "\n"
   ]
  },
  {
   "cell_type": "markdown",
   "metadata": {
    "id": "lV7ZG3lKzB-d"
   },
   "source": [
    "# Week-1 Assignment"
   ]
  },
  {
   "cell_type": "markdown",
   "metadata": {
    "id": "rLK_mGZlJ_Y_"
   },
   "source": [
    "**Welcome to your first assignment of SimuTech Winter Project 2022! I hope you are excited to implement and test everything you have learnt up until now. The dataset which you'll use includes information about properties of superheated vapor.**\n",
    "\n",
    "The dataset consists of the thermophysical properties: specific volume, specific internal energy, specific enthalpy, specific entropy of superheated vapor.\n",
    "\n",
    "Pressure is in kPa and Temperature in centigrade. In the dataframe 75, 100, 125 are temperatures.\n",
    "\n",
    "**There are some interesting set of questions for you to get a basic understanding of pandas and data visualization libraries. GOOD LUCK!**\n",
    "\n",
    "\n",
    "***Let's get started with importing numpy, pandas and matplotlib!***"
   ]
  },
  {
   "cell_type": "markdown",
   "metadata": {
    "id": "3urmJxE7KKVj"
   },
   "source": [
    "### 1) Import all the libraries"
   ]
  },
  {
   "cell_type": "code",
   "execution_count": 27,
   "metadata": {
    "id": "2kLDKA3bKGMD"
   },
   "outputs": [],
   "source": [
    "import numpy as np\n",
    "import pandas as pd\n",
    "import matplotlib.pyplot as plt\n"
   ]
  },
  {
   "cell_type": "markdown",
   "metadata": {
    "id": "0bpXri-3KVei"
   },
   "source": [
    "### 2) Read the csv file."
   ]
  },
  {
   "cell_type": "code",
   "execution_count": 28,
   "metadata": {
    "id": "XwzSYh42Kdej"
   },
   "outputs": [],
   "source": [
    "df=pd.read_csv(\"/home/zainab/Downloads/superheated_vapor_properties.csv\")\n"
   ]
  },
  {
   "cell_type": "markdown",
   "metadata": {
    "id": "K72xx38QKeRU"
   },
   "source": [
    "### 3) Display shape of dataframe\n"
   ]
  },
  {
   "cell_type": "code",
   "execution_count": 29,
   "metadata": {
    "id": "YPqY3euIKoCk"
   },
   "outputs": [
    {
     "name": "stdout",
     "output_type": "stream",
     "text": [
      "(544, 37)\n"
     ]
    }
   ],
   "source": [
    "print(df.shape)\n"
   ]
  },
  {
   "cell_type": "markdown",
   "metadata": {
    "id": "qJm2x6TMKolc"
   },
   "source": [
    "### 4) Print all columns of dataframe\n",
    "Return an array containing names of all the columns."
   ]
  },
  {
   "cell_type": "code",
   "execution_count": 30,
   "metadata": {
    "id": "ocVSOb3kKvQV"
   },
   "outputs": [
    {
     "data": {
      "text/plain": [
       "['Pressure',\n",
       " 'Property',\n",
       " 'Liq_Sat',\n",
       " 'Vap_Sat',\n",
       " '75',\n",
       " '100',\n",
       " '125',\n",
       " '150',\n",
       " '175',\n",
       " '200',\n",
       " '220',\n",
       " '225',\n",
       " '240',\n",
       " '250',\n",
       " '260',\n",
       " '275',\n",
       " '280',\n",
       " '290',\n",
       " '300',\n",
       " '320',\n",
       " '325',\n",
       " '340',\n",
       " '350',\n",
       " '360',\n",
       " '375',\n",
       " '380',\n",
       " '400',\n",
       " '425',\n",
       " '450',\n",
       " '475',\n",
       " '500',\n",
       " '525',\n",
       " '550',\n",
       " '575',\n",
       " '600',\n",
       " '625',\n",
       " '650']"
      ]
     },
     "execution_count": 30,
     "metadata": {},
     "output_type": "execute_result"
    }
   ],
   "source": [
    "list(df.columns.values)\n"
   ]
  },
  {
   "cell_type": "markdown",
   "metadata": {
    "id": "HE0-ugnfKvl9"
   },
   "source": [
    "### 5) Display the number of null values in each column of the dataframe"
   ]
  },
  {
   "cell_type": "code",
   "execution_count": 31,
   "metadata": {
    "id": "xU-1sxGCK7UF"
   },
   "outputs": [
    {
     "name": "stdout",
     "output_type": "stream",
     "text": [
      "Pressure      0\n",
      "Property      0\n",
      "Liq_Sat       0\n",
      "Vap_Sat       0\n",
      "75          528\n",
      "100         508\n",
      "125         488\n",
      "150         448\n",
      "175         384\n",
      "200         320\n",
      "220         408\n",
      "225         400\n",
      "240         408\n",
      "250         344\n",
      "260         384\n",
      "275         340\n",
      "280         380\n",
      "290         488\n",
      "300          60\n",
      "320         480\n",
      "325         136\n",
      "340         476\n",
      "350          68\n",
      "360         476\n",
      "375         204\n",
      "380         476\n",
      "400           0\n",
      "425         204\n",
      "450           0\n",
      "475         204\n",
      "500           0\n",
      "525         272\n",
      "550           0\n",
      "575         340\n",
      "600           0\n",
      "625         476\n",
      "650           0\n",
      "dtype: int64\n"
     ]
    }
   ],
   "source": [
    "Nval=df.isna().sum()\n",
    "print(Nval)\n"
   ]
  },
  {
   "cell_type": "markdown",
   "metadata": {
    "id": "04L2giwTLElt"
   },
   "source": [
    "###  6) Print a list of all the unique items in the Property column"
   ]
  },
  {
   "cell_type": "code",
   "execution_count": 32,
   "metadata": {
    "id": "Svgs2agDLYxt"
   },
   "outputs": [
    {
     "name": "stdout",
     "output_type": "stream",
     "text": [
      "['V' 'U' 'H' 'S']\n"
     ]
    }
   ],
   "source": [
    "\n",
    "    print(df[\"Property\"].unique())\n"
   ]
  },
  {
   "cell_type": "markdown",
   "metadata": {
    "id": "68YuzJ5zXJAx"
   },
   "source": [
    "### 7) Create a column which contains the Pressure and Property columns, seperated with 'at' (For eg. V at 1, H at 101.325). Using this print the following:\n",
    "- Enthalpy at 75 kPa and 573 K\n",
    "- Entropy at 493 K and 250 kPa"
   ]
  },
  {
   "cell_type": "code",
   "execution_count": 33,
   "metadata": {
    "id": "igpYFRjLXLiZ"
   },
   "outputs": [
    {
     "name": "stdout",
     "output_type": "stream",
     "text": [
      "26    3075.1\n",
      "Name: 300, dtype: float64\n",
      "59   NaN\n",
      "Name: 220, dtype: float64\n"
     ]
    }
   ],
   "source": [
    "dfa = df['Property'].astype(str)+\" \"+\"at\"+\" \"+df[\"Pressure\"].astype(str)\n",
    "df['prop at press']=dfa\n",
    "res1=df[df['prop at press']=='H at 75.0']\n",
    "res2=df[df['prop at press']=='S at 250.0']\n",
    "\n",
    "print(res1['300'])\n",
    "print(res2['220'])\n",
    "\n"
   ]
  },
  {
   "cell_type": "markdown",
   "metadata": {
    "id": "SR7p7NhNU2vy"
   },
   "source": [
    "### 8) Find out the column with the highest number of missing values"
   ]
  },
  {
   "cell_type": "code",
   "execution_count": 34,
   "metadata": {
    "id": "Jj4cUag7WZYB"
   },
   "outputs": [
    {
     "data": {
      "text/plain": [
       "'75'"
      ]
     },
     "execution_count": 34,
     "metadata": {},
     "output_type": "execute_result"
    }
   ],
   "source": [
    "df.count().idxmin()\n"
   ]
  },
  {
   "cell_type": "markdown",
   "metadata": {
    "id": "yL9loV4IWZwp"
   },
   "source": [
    "### 9) What is the average enthalpy of Sat. Liq. at all different pressures in the dataset ?"
   ]
  },
  {
   "cell_type": "code",
   "execution_count": 35,
   "metadata": {
    "id": "WjOwyU89WlwR"
   },
   "outputs": [
    {
     "name": "stdout",
     "output_type": "stream",
     "text": [
      "936.9707720588237\n"
     ]
    }
   ],
   "source": [
    "df.loc[df['Property']==\"H\",\"Avg\"]=df[\"Liq_Sat\"]\n",
    "ans=df[\"Avg\"].mean()\n",
    "print(ans)\n"
   ]
  },
  {
   "cell_type": "markdown",
   "metadata": {
    "id": "PfUPj9e7Wmkx"
   },
   "source": [
    "### 10) Separate out the V,U,H,S data from the dataset into V_data, U_data, H_data, S_data"
   ]
  },
  {
   "cell_type": "code",
   "execution_count": 36,
   "metadata": {
    "id": "Qoy0rPpUW2lp"
   },
   "outputs": [
    {
     "data": {
      "text/html": [
       "<div>\n",
       "<style scoped>\n",
       "    .dataframe tbody tr th:only-of-type {\n",
       "        vertical-align: middle;\n",
       "    }\n",
       "\n",
       "    .dataframe tbody tr th {\n",
       "        vertical-align: top;\n",
       "    }\n",
       "\n",
       "    .dataframe thead th {\n",
       "        text-align: right;\n",
       "    }\n",
       "</style>\n",
       "<table border=\"1\" class=\"dataframe\">\n",
       "  <thead>\n",
       "    <tr style=\"text-align: right;\">\n",
       "      <th></th>\n",
       "      <th>100</th>\n",
       "      <th>125</th>\n",
       "      <th>150</th>\n",
       "      <th>175</th>\n",
       "      <th>200</th>\n",
       "      <th>220</th>\n",
       "      <th>225</th>\n",
       "      <th>240</th>\n",
       "      <th>250</th>\n",
       "      <th>260</th>\n",
       "      <th>...</th>\n",
       "      <th>600</th>\n",
       "      <th>625</th>\n",
       "      <th>650</th>\n",
       "      <th>75</th>\n",
       "      <th>Avg</th>\n",
       "      <th>Liq_Sat</th>\n",
       "      <th>Pressure</th>\n",
       "      <th>Property</th>\n",
       "      <th>Vap_Sat</th>\n",
       "      <th>prop at press</th>\n",
       "    </tr>\n",
       "  </thead>\n",
       "  <tbody>\n",
       "    <tr>\n",
       "      <th>0</th>\n",
       "      <td>2688.6</td>\n",
       "      <td>2736.0</td>\n",
       "      <td>2783.7</td>\n",
       "      <td>2831.7</td>\n",
       "      <td>2880.1</td>\n",
       "      <td>NaN</td>\n",
       "      <td>2928.7</td>\n",
       "      <td>NaN</td>\n",
       "      <td>2977.7</td>\n",
       "      <td>NaN</td>\n",
       "      <td>...</td>\n",
       "      <td>3705.6</td>\n",
       "      <td>NaN</td>\n",
       "      <td>3816.4</td>\n",
       "      <td>2641.5</td>\n",
       "      <td>29.335</td>\n",
       "      <td>29.335</td>\n",
       "      <td>1.0</td>\n",
       "      <td>H</td>\n",
       "      <td>2514.4</td>\n",
       "      <td>H at 1.0</td>\n",
       "    </tr>\n",
       "    <tr>\n",
       "      <th>1</th>\n",
       "      <td>2687.5</td>\n",
       "      <td>2735.2</td>\n",
       "      <td>2783.1</td>\n",
       "      <td>2831.2</td>\n",
       "      <td>2879.6</td>\n",
       "      <td>NaN</td>\n",
       "      <td>2928.4</td>\n",
       "      <td>NaN</td>\n",
       "      <td>2977.4</td>\n",
       "      <td>NaN</td>\n",
       "      <td>...</td>\n",
       "      <td>3705.5</td>\n",
       "      <td>NaN</td>\n",
       "      <td>3816.3</td>\n",
       "      <td>2640.0</td>\n",
       "      <td>191.832</td>\n",
       "      <td>191.832</td>\n",
       "      <td>10.0</td>\n",
       "      <td>H</td>\n",
       "      <td>2584.8</td>\n",
       "      <td>H at 10.0</td>\n",
       "    </tr>\n",
       "    <tr>\n",
       "      <th>2</th>\n",
       "      <td>2686.3</td>\n",
       "      <td>2734.2</td>\n",
       "      <td>2782.3</td>\n",
       "      <td>2830.6</td>\n",
       "      <td>2879.2</td>\n",
       "      <td>NaN</td>\n",
       "      <td>2928.0</td>\n",
       "      <td>NaN</td>\n",
       "      <td>2977.1</td>\n",
       "      <td>NaN</td>\n",
       "      <td>...</td>\n",
       "      <td>3705.4</td>\n",
       "      <td>NaN</td>\n",
       "      <td>3816.2</td>\n",
       "      <td>2638.4</td>\n",
       "      <td>251.453</td>\n",
       "      <td>251.453</td>\n",
       "      <td>20.0</td>\n",
       "      <td>H</td>\n",
       "      <td>2609.9</td>\n",
       "      <td>H at 20.0</td>\n",
       "    </tr>\n",
       "    <tr>\n",
       "      <th>3</th>\n",
       "      <td>2685.1</td>\n",
       "      <td>2733.3</td>\n",
       "      <td>2781.6</td>\n",
       "      <td>2830.0</td>\n",
       "      <td>2878.7</td>\n",
       "      <td>NaN</td>\n",
       "      <td>2927.6</td>\n",
       "      <td>NaN</td>\n",
       "      <td>2976.8</td>\n",
       "      <td>NaN</td>\n",
       "      <td>...</td>\n",
       "      <td>3705.4</td>\n",
       "      <td>NaN</td>\n",
       "      <td>3816.2</td>\n",
       "      <td>2636.8</td>\n",
       "      <td>289.302</td>\n",
       "      <td>289.302</td>\n",
       "      <td>30.0</td>\n",
       "      <td>H</td>\n",
       "      <td>2625.4</td>\n",
       "      <td>H at 30.0</td>\n",
       "    </tr>\n",
       "    <tr>\n",
       "      <th>4</th>\n",
       "      <td>2683.8</td>\n",
       "      <td>2732.3</td>\n",
       "      <td>2780.9</td>\n",
       "      <td>2829.5</td>\n",
       "      <td>2878.2</td>\n",
       "      <td>NaN</td>\n",
       "      <td>2927.2</td>\n",
       "      <td>NaN</td>\n",
       "      <td>2976.5</td>\n",
       "      <td>NaN</td>\n",
       "      <td>...</td>\n",
       "      <td>3705.3</td>\n",
       "      <td>NaN</td>\n",
       "      <td>3816.1</td>\n",
       "      <td>NaN</td>\n",
       "      <td>317.650</td>\n",
       "      <td>317.650</td>\n",
       "      <td>40.0</td>\n",
       "      <td>H</td>\n",
       "      <td>2636.9</td>\n",
       "      <td>H at 40.0</td>\n",
       "    </tr>\n",
       "    <tr>\n",
       "      <th>...</th>\n",
       "      <td>...</td>\n",
       "      <td>...</td>\n",
       "      <td>...</td>\n",
       "      <td>...</td>\n",
       "      <td>...</td>\n",
       "      <td>...</td>\n",
       "      <td>...</td>\n",
       "      <td>...</td>\n",
       "      <td>...</td>\n",
       "      <td>...</td>\n",
       "      <td>...</td>\n",
       "      <td>...</td>\n",
       "      <td>...</td>\n",
       "      <td>...</td>\n",
       "      <td>...</td>\n",
       "      <td>...</td>\n",
       "      <td>...</td>\n",
       "      <td>...</td>\n",
       "      <td>...</td>\n",
       "      <td>...</td>\n",
       "      <td>...</td>\n",
       "    </tr>\n",
       "    <tr>\n",
       "      <th>131</th>\n",
       "      <td>NaN</td>\n",
       "      <td>NaN</td>\n",
       "      <td>NaN</td>\n",
       "      <td>NaN</td>\n",
       "      <td>NaN</td>\n",
       "      <td>NaN</td>\n",
       "      <td>NaN</td>\n",
       "      <td>NaN</td>\n",
       "      <td>NaN</td>\n",
       "      <td>NaN</td>\n",
       "      <td>...</td>\n",
       "      <td>3617.6</td>\n",
       "      <td>3679.1</td>\n",
       "      <td>3740.4</td>\n",
       "      <td>NaN</td>\n",
       "      <td>1433.700</td>\n",
       "      <td>1433.700</td>\n",
       "      <td>10600.0</td>\n",
       "      <td>H</td>\n",
       "      <td>2716.9</td>\n",
       "      <td>H at 10600.0</td>\n",
       "    </tr>\n",
       "    <tr>\n",
       "      <th>132</th>\n",
       "      <td>NaN</td>\n",
       "      <td>NaN</td>\n",
       "      <td>NaN</td>\n",
       "      <td>NaN</td>\n",
       "      <td>NaN</td>\n",
       "      <td>NaN</td>\n",
       "      <td>NaN</td>\n",
       "      <td>NaN</td>\n",
       "      <td>NaN</td>\n",
       "      <td>NaN</td>\n",
       "      <td>...</td>\n",
       "      <td>3615.9</td>\n",
       "      <td>3677.5</td>\n",
       "      <td>3738.9</td>\n",
       "      <td>NaN</td>\n",
       "      <td>1442.200</td>\n",
       "      <td>1442.200</td>\n",
       "      <td>10800.0</td>\n",
       "      <td>H</td>\n",
       "      <td>2713.1</td>\n",
       "      <td>H at 10800.0</td>\n",
       "    </tr>\n",
       "    <tr>\n",
       "      <th>133</th>\n",
       "      <td>NaN</td>\n",
       "      <td>NaN</td>\n",
       "      <td>NaN</td>\n",
       "      <td>NaN</td>\n",
       "      <td>NaN</td>\n",
       "      <td>NaN</td>\n",
       "      <td>NaN</td>\n",
       "      <td>NaN</td>\n",
       "      <td>NaN</td>\n",
       "      <td>NaN</td>\n",
       "      <td>...</td>\n",
       "      <td>3614.2</td>\n",
       "      <td>3675.9</td>\n",
       "      <td>3737.5</td>\n",
       "      <td>NaN</td>\n",
       "      <td>1450.600</td>\n",
       "      <td>1450.600</td>\n",
       "      <td>11000.0</td>\n",
       "      <td>H</td>\n",
       "      <td>2709.3</td>\n",
       "      <td>H at 11000.0</td>\n",
       "    </tr>\n",
       "    <tr>\n",
       "      <th>134</th>\n",
       "      <td>NaN</td>\n",
       "      <td>NaN</td>\n",
       "      <td>NaN</td>\n",
       "      <td>NaN</td>\n",
       "      <td>NaN</td>\n",
       "      <td>NaN</td>\n",
       "      <td>NaN</td>\n",
       "      <td>NaN</td>\n",
       "      <td>NaN</td>\n",
       "      <td>NaN</td>\n",
       "      <td>...</td>\n",
       "      <td>3612.5</td>\n",
       "      <td>3674.4</td>\n",
       "      <td>3736.0</td>\n",
       "      <td>NaN</td>\n",
       "      <td>1458.900</td>\n",
       "      <td>1458.900</td>\n",
       "      <td>11200.0</td>\n",
       "      <td>H</td>\n",
       "      <td>2705.4</td>\n",
       "      <td>H at 11200.0</td>\n",
       "    </tr>\n",
       "    <tr>\n",
       "      <th>135</th>\n",
       "      <td>NaN</td>\n",
       "      <td>NaN</td>\n",
       "      <td>NaN</td>\n",
       "      <td>NaN</td>\n",
       "      <td>NaN</td>\n",
       "      <td>NaN</td>\n",
       "      <td>NaN</td>\n",
       "      <td>NaN</td>\n",
       "      <td>NaN</td>\n",
       "      <td>NaN</td>\n",
       "      <td>...</td>\n",
       "      <td>3610.8</td>\n",
       "      <td>3672.8</td>\n",
       "      <td>3734.6</td>\n",
       "      <td>NaN</td>\n",
       "      <td>1467.200</td>\n",
       "      <td>1467.200</td>\n",
       "      <td>11400.0</td>\n",
       "      <td>H</td>\n",
       "      <td>2701.5</td>\n",
       "      <td>H at 11400.0</td>\n",
       "    </tr>\n",
       "  </tbody>\n",
       "</table>\n",
       "<p>136 rows × 39 columns</p>\n",
       "</div>"
      ],
      "text/plain": [
       "        100     125     150     175     200  220     225  240     250  260  \\\n",
       "0    2688.6  2736.0  2783.7  2831.7  2880.1  NaN  2928.7  NaN  2977.7  NaN   \n",
       "1    2687.5  2735.2  2783.1  2831.2  2879.6  NaN  2928.4  NaN  2977.4  NaN   \n",
       "2    2686.3  2734.2  2782.3  2830.6  2879.2  NaN  2928.0  NaN  2977.1  NaN   \n",
       "3    2685.1  2733.3  2781.6  2830.0  2878.7  NaN  2927.6  NaN  2976.8  NaN   \n",
       "4    2683.8  2732.3  2780.9  2829.5  2878.2  NaN  2927.2  NaN  2976.5  NaN   \n",
       "..      ...     ...     ...     ...     ...  ...     ...  ...     ...  ...   \n",
       "131     NaN     NaN     NaN     NaN     NaN  NaN     NaN  NaN     NaN  NaN   \n",
       "132     NaN     NaN     NaN     NaN     NaN  NaN     NaN  NaN     NaN  NaN   \n",
       "133     NaN     NaN     NaN     NaN     NaN  NaN     NaN  NaN     NaN  NaN   \n",
       "134     NaN     NaN     NaN     NaN     NaN  NaN     NaN  NaN     NaN  NaN   \n",
       "135     NaN     NaN     NaN     NaN     NaN  NaN     NaN  NaN     NaN  NaN   \n",
       "\n",
       "     ...     600     625     650      75       Avg   Liq_Sat  Pressure  \\\n",
       "0    ...  3705.6     NaN  3816.4  2641.5    29.335    29.335       1.0   \n",
       "1    ...  3705.5     NaN  3816.3  2640.0   191.832   191.832      10.0   \n",
       "2    ...  3705.4     NaN  3816.2  2638.4   251.453   251.453      20.0   \n",
       "3    ...  3705.4     NaN  3816.2  2636.8   289.302   289.302      30.0   \n",
       "4    ...  3705.3     NaN  3816.1     NaN   317.650   317.650      40.0   \n",
       "..   ...     ...     ...     ...     ...       ...       ...       ...   \n",
       "131  ...  3617.6  3679.1  3740.4     NaN  1433.700  1433.700   10600.0   \n",
       "132  ...  3615.9  3677.5  3738.9     NaN  1442.200  1442.200   10800.0   \n",
       "133  ...  3614.2  3675.9  3737.5     NaN  1450.600  1450.600   11000.0   \n",
       "134  ...  3612.5  3674.4  3736.0     NaN  1458.900  1458.900   11200.0   \n",
       "135  ...  3610.8  3672.8  3734.6     NaN  1467.200  1467.200   11400.0   \n",
       "\n",
       "     Property  Vap_Sat  prop at press  \n",
       "0           H   2514.4       H at 1.0  \n",
       "1           H   2584.8      H at 10.0  \n",
       "2           H   2609.9      H at 20.0  \n",
       "3           H   2625.4      H at 30.0  \n",
       "4           H   2636.9      H at 40.0  \n",
       "..        ...      ...            ...  \n",
       "131         H   2716.9   H at 10600.0  \n",
       "132         H   2713.1   H at 10800.0  \n",
       "133         H   2709.3   H at 11000.0  \n",
       "134         H   2705.4   H at 11200.0  \n",
       "135         H   2701.5   H at 11400.0  \n",
       "\n",
       "[136 rows x 39 columns]"
      ]
     },
     "execution_count": 36,
     "metadata": {},
     "output_type": "execute_result"
    }
   ],
   "source": [
    "V_data=pd.DataFrame()  \n",
    "U_data=pd.DataFrame()\n",
    "H_data=pd.DataFrame()  \n",
    "S_data=pd.DataFrame()\n",
    "\n",
    "for x in range(len(df.index)):\n",
    "    if(df['Property'].values[x]==\"H\"):\n",
    "        H_data=H_data.append(df.loc[x],ignore_index=True)\n",
    "    elif(df['Property'].values[x]==\"V\"):\n",
    "        V_data=V_data.append(df.loc[x],ignore_index=True)\n",
    "    elif(df['Property'].values[x]==\"U\"):\n",
    "        U_data=U_data.append(df.loc[x],ignore_index=True)\n",
    "    elif(df['Property'].values[x]==\"S\"):\n",
    "        S_data=S_data.append(df.loc[x],ignore_index=True)\n",
    "        \n",
    "H_data"
   ]
  },
  {
   "cell_type": "markdown",
   "metadata": {
    "id": "0IqKY_vvW216"
   },
   "source": [
    "### 11) Plot the properties (specific volume, specific internal energy, specific enthalpy, specific entropy) vs Pressure for saturated liquid.\n",
    "\n",
    "Note: \n",
    "- Try using the subplot feature of matplotlib(Explore it!!)\n",
    "- Provide appropriate title, labels, markersize and other parameters to the plot "
   ]
  },
  {
   "cell_type": "code",
   "execution_count": 37,
   "metadata": {
    "id": "ZsUW7kZzXeKR"
   },
   "outputs": [
    {
     "data": {
      "image/png": "[encoded data removed]",
      "text/plain": [
       "<Figure size 432x288 with 4 Axes>"
      ]
     },
     "metadata": {
      "needs_background": "light"
     },
     "output_type": "display_data"
    }
   ],
   "source": [
    "fig,axes=plt.subplots(nrows=2,ncols=2)\n",
    "V_data.plot(ax=axes[0,0],x=\"Pressure\",y=\"Liq_Sat\")\n",
    "U_data.plot(ax=axes[0,1],x=\"Pressure\",y=\"Liq_Sat\")\n",
    "H_data.plot(ax=axes[1,0],x=\"Pressure\",y=\"Liq_Sat\")\n",
    "S_data.plot(ax=axes[1,1],x=\"Pressure\",y=\"Liq_Sat\")\n",
    "axes[0,0].set_title(\"V vs P\")\n",
    "axes[0,1].set_title(\"U vs P\")\n",
    "axes[1,0].set_title(\"H vs P\")\n",
    "axes[1,1].set_title(\"S vs P\")\n",
    "fig.tight_layout()"
   ]
  },
  {
   "cell_type": "markdown",
   "metadata": {
    "id": "Ds33LC6dXema"
   },
   "source": [
    "### 12) Plot the same for saturated vapor."
   ]
  },
  {
   "cell_type": "code",
   "execution_count": 38,
   "metadata": {
    "id": "TRy2Tb_GXqcp"
   },
   "outputs": [
    {
     "data": {
      "image/png": "[encoded data removed]",
      "text/plain": [
       "<Figure size 432x288 with 4 Axes>"
      ]
     },
     "metadata": {
      "needs_background": "light"
     },
     "output_type": "display_data"
    }
   ],
   "source": [
    "fig,axes=plt.subplots(nrows=2,ncols=2)\n",
    "V_data.plot(ax=axes[0,0],x=\"Pressure\",y=\"Vap_Sat\")\n",
    "U_data.plot(ax=axes[0,1],x=\"Pressure\",y=\"Vap_Sat\")\n",
    "H_data.plot(ax=axes[1,0],x=\"Pressure\",y=\"Vap_Sat\")\n",
    "S_data.plot(ax=axes[1,1],x=\"Pressure\",y=\"Vap_Sat\")\n",
    "axes[0,0].set_title(\"V vs P\")\n",
    "axes[0,1].set_title(\"U vs P\")\n",
    "axes[1,0].set_title(\"H vs P\")\n",
    "axes[1,1].set_title(\"S vs P\")\n",
    "fig.tight_layout()"
   ]
  },
  {
   "cell_type": "markdown",
   "metadata": {
    "id": "ate8hMAkYCph"
   },
   "source": [
    "### 13) Plot the specific volume of saturated liquid between 300 kPa and 1500 kPa"
   ]
  },
  {
   "cell_type": "code",
   "execution_count": 39,
   "metadata": {
    "id": "pbBwBWxGZhAz"
   },
   "outputs": [
    {
     "data": {
      "image/png": "[encoded data removed]",
      "text/plain": [
       "<Figure size 432x288 with 1 Axes>"
      ]
     },
     "metadata": {
      "needs_background": "light"
     },
     "output_type": "display_data"
    }
   ],
   "source": [
    "pre = V_data[(V_data['Pressure']>=300) & (V_data['Pressure']<=1500)]\n",
    "pre\n",
    "plt.plot(pre['Pressure'],pre['Liq_Sat'])\n",
    "plt.title(\"Plot\")\n",
    "plt.show()\n"
   ]
  },
  {
   "cell_type": "markdown",
   "metadata": {
    "id": "KeUT5_QFWySs"
   },
   "source": [
    "## Playing with Numpy"
   ]
  },
  {
   "cell_type": "code",
   "execution_count": null,
   "metadata": {},
   "outputs": [],
   "source": []
  },
  {
   "cell_type": "markdown",
   "metadata": {
    "id": "xTFgCWtqdZSi"
   },
   "source": [
    "### 14) Implement the derivative of the sigmoid function using numpy. \n",
    "\n",
    "Note: \n",
    "- Read about sigmoid function over the internet.\n",
    "- Input of the function can be a scalar or a numpy array.\n",
    "\n",
    "**Test Case:**\n",
    "\n",
    "**Input:**\n",
    "\n",
    " [[9, 2, 5, 0, 0]\n",
    "\n",
    "   [7, 5, 0, 0, 0]]\n",
    "\n",
    "Output:\n",
    "\n",
    "[[0.99987661, 0.88079708, 0.99330715, 0.5, 0.5 ]\n",
    "\n",
    "[0.99908895, 0.99330715, 0.5,  0.5,  0.5 ]]"
   ]
  },
  {
   "cell_type": "code",
   "execution_count": 40,
   "metadata": {
    "id": "BMLOKdEQdg_J"
   },
   "outputs": [
    {
     "name": "stdout",
     "output_type": "stream",
     "text": [
      "9 2 5 0 0 7 5 0 0 0\n",
      "number of rows 2\n",
      "number of columns 5\n",
      "[[0.99987661 0.88079708 0.99330715 0.5        0.5       ]\n",
      " [0.99908895 0.99330715 0.5        0.5        0.5       ]]\n"
     ]
    }
   ],
   "source": [
    "lists=list(map(int,input().split()))\n",
    "\n",
    "n=int(input(\"number of rows \"))\n",
    "m=int(input(\"number of columns \"))\n",
    "\n",
    "\n",
    "values=np.array(lists).reshape(n,m)\n",
    "\n",
    "\n",
    "results =np.exp(values)/(np.exp(values)+1)\n",
    "print(results)\n"
   ]
  },
  {
   "cell_type": "markdown",
   "metadata": {
    "id": "0nJ76FFIeTKq"
   },
   "source": [
    "### 15) Define a function which takes in a a numpy array of shape (length, height, depth) and returns a vector of shape (length\\*height*depth, 1)\n"
   ]
  },
  {
   "cell_type": "code",
   "execution_count": 37,
   "metadata": {
    "id": "e6XecJLkeUmK"
   },
   "outputs": [],
   "source": [
    "def shape(img):\n",
    "    Anss = img.reshape( img.shape[0]*img.shape[1]*img.shape[2],1)\n",
    "    return Anss"
   ]
  },
  {
   "cell_type": "markdown",
   "metadata": {
    "id": "TyyKAFLGdHtx"
   },
   "source": [
    "### 16) Define a softmax function that calculates the softmax for each row of the input x.\n",
    "\n",
    "Note:\n",
    "- The code should work for a row vector and also for matrices of shape (n, m)\n",
    "\n",
    "**Test Case:**\n",
    "\n",
    "**Input:**\n",
    "\n",
    " [[9 2 5 0 0]\n",
    "\n",
    "   [7 5 0 0 0]]\n",
    "\n",
    "Output:\n",
    "\n",
    "[[9.80897665e-01 8.94462891e-04 1.79657674e-02 1.21052389e-04\n",
    "  1.21052389e-04]\n",
    "\n",
    " [8.78679856e-01 1.18916387e-01 8.01252314e-04 8.01252314e-04\n",
    "  8.01252314e-04]]"
   ]
  },
  {
   "cell_type": "code",
   "execution_count": 36,
   "metadata": {
    "id": "wvcifD48dYsC"
   },
   "outputs": [
    {
     "name": "stdout",
     "output_type": "stream",
     "text": [
      "9 2 5 0 0 7 5 0 0 0\n"
     ]
    },
    {
     "data": {
      "text/plain": [
       "array([[9.80897665e-01, 8.94462891e-04, 1.79657674e-02, 1.21052389e-04,\n",
       "        1.21052389e-04],\n",
       "       [8.78679856e-01, 1.18916387e-01, 8.01252314e-04, 8.01252314e-04,\n",
       "        8.01252314e-04]])"
      ]
     },
     "execution_count": 36,
     "metadata": {},
     "output_type": "execute_result"
    }
   ],
   "source": [
    "def value(x):\n",
    "    i,j=np.shape(x)\n",
    "    soft=np.zeros((i,j))\n",
    "    \n",
    "    for k in range (i):\n",
    "        for z in range (j):\n",
    "            soft[k,z]=np.exp(x[k,z])/(np.sum(np.exp(x[k,:])))\n",
    "    return soft\n",
    "\n",
    "lists=list(map(int,input().split()))\n",
    "\n",
    "value(np.array(lists).reshape(2,5))\n"
   ]
  },
  {
   "cell_type": "code",
   "execution_count": null,
   "metadata": {},
   "outputs": [],
   "source": []
  }
 ],
 "metadata": {
  "colab": {
   "provenance": []
  },
  "kernelspec": {
   "display_name": "Python 3",
   "language": "python",
   "name": "python3"
  },
  "language_info": {
   "codemirror_mode": {
    "name": "ipython",
    "version": 3
   },
   "file_extension": ".py",
   "mimetype": "text/x-python",
   "name": "python",
   "nbconvert_exporter": "python",
   "pygments_lexer": "ipython3",
   "version": "3.7.6"
  }
 },
 "nbformat": 4,
 "nbformat_minor": 1
}
