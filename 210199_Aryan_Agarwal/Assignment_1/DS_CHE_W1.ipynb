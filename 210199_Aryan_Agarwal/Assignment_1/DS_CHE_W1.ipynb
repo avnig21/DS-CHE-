{
 "cells": [
  {
   "cell_type": "markdown",
   "metadata": {
    "id": "tIol1e9EzB-Z"
   },
   "source": [
    "# DS : CHE\n",
    "\n"
   ]
  },
  {
   "cell_type": "markdown",
   "metadata": {
    "id": "lV7ZG3lKzB-d"
   },
   "source": [
    "# Week-1 Assignment"
   ]
  },
  {
   "cell_type": "markdown",
   "metadata": {
    "id": "rLK_mGZlJ_Y_"
   },
   "source": [
    "**Welcome to your first assignment of SimuTech Winter Project 2022! I hope you are excited to implement and test everything you have learnt up until now. The dataset which you'll use includes information about properties of superheated vapor.**\n",
    "\n",
    "The dataset consists of the thermophysical properties: specific volume, specific internal energy, specific enthalpy, specific entropy of superheated vapor.\n",
    "\n",
    "Pressure is in kPa and Temperature in centigrade. In the dataframe 75, 100, 125 are temperatures.\n",
    "\n",
    "**There are some interesting set of questions for you to get a basic understanding of pandas and data visualization libraries. GOOD LUCK!**\n",
    "\n",
    "\n",
    "***Let's get started with importing numpy, pandas and matplotlib!***"
   ]
  },
  {
   "cell_type": "markdown",
   "metadata": {
    "id": "3urmJxE7KKVj"
   },
   "source": [
    "### 1) Import all the libraries"
   ]
  },
  {
   "cell_type": "code",
   "execution_count": 1,
   "metadata": {
    "id": "2kLDKA3bKGMD"
   },
   "outputs": [],
   "source": [
    "#your code here\n",
    "import numpy as np\n",
    "import pandas as pd\n",
    "from matplotlib import pyplot as plt"
   ]
  },
  {
   "cell_type": "markdown",
   "metadata": {
    "id": "0bpXri-3KVei"
   },
   "source": [
    "### 2) Read the csv file."
   ]
  },
  {
   "cell_type": "code",
   "execution_count": 2,
   "metadata": {
    "id": "XwzSYh42Kdej"
   },
   "outputs": [],
   "source": [
    "#your code here\n",
    "df = pd.read_csv('superheated_vapor_properties.csv')"
   ]
  },
  {
   "cell_type": "markdown",
   "metadata": {
    "id": "K72xx38QKeRU"
   },
   "source": [
    "### 3) Display shape of dataframe\n"
   ]
  },
  {
   "cell_type": "code",
   "execution_count": 3,
   "metadata": {
    "id": "YPqY3euIKoCk"
   },
   "outputs": [
    {
     "data": {
      "text/plain": [
       "(544, 37)"
      ]
     },
     "execution_count": 3,
     "metadata": {},
     "output_type": "execute_result"
    }
   ],
   "source": [
    "#your code here\n",
    "df.shape"
   ]
  },
  {
   "cell_type": "markdown",
   "metadata": {
    "id": "qJm2x6TMKolc"
   },
   "source": [
    "### 4) Print all columns of dataframe\n",
    "Return an array containing names of all the columns."
   ]
  },
  {
   "cell_type": "code",
   "execution_count": 4,
   "metadata": {
    "id": "ocVSOb3kKvQV"
   },
   "outputs": [
    {
     "name": "stdout",
     "output_type": "stream",
     "text": [
      "['Pressure', 'Property', 'Liq_Sat', 'Vap_Sat', '75', '100', '125', '150', '175', '200', '220', '225', '240', '250', '260', '275', '280', '290', '300', '320', '325', '340', '350', '360', '375', '380', '400', '425', '450', '475', '500', '525', '550', '575', '600', '625', '650']\n"
     ]
    }
   ],
   "source": [
    "#your code here\n",
    "print(df.columns.tolist())"
   ]
  },
  {
   "cell_type": "markdown",
   "metadata": {
    "id": "HE0-ugnfKvl9"
   },
   "source": [
    "### 5) Display the number of null values in each column of the dataframe"
   ]
  },
  {
   "cell_type": "code",
   "execution_count": 5,
   "metadata": {
    "id": "xU-1sxGCK7UF"
   },
   "outputs": [
    {
     "name": "stdout",
     "output_type": "stream",
     "text": [
      "Pressure  0\n",
      "Property  0\n",
      "Liq_Sat  0\n",
      "Vap_Sat  0\n",
      "75  528\n",
      "100  508\n",
      "125  488\n",
      "150  448\n",
      "175  384\n",
      "200  320\n",
      "220  408\n",
      "225  400\n",
      "240  408\n",
      "250  344\n",
      "260  384\n",
      "275  340\n",
      "280  380\n",
      "290  488\n",
      "300  60\n",
      "320  480\n",
      "325  136\n",
      "340  476\n",
      "350  68\n",
      "360  476\n",
      "375  204\n",
      "380  476\n",
      "400  0\n",
      "425  204\n",
      "450  0\n",
      "475  204\n",
      "500  0\n",
      "525  272\n",
      "550  0\n",
      "575  340\n",
      "600  0\n",
      "625  476\n",
      "650  0\n"
     ]
    }
   ],
   "source": [
    "#your code here\n",
    "col_list = df.columns.tolist()\n",
    "for col_name in col_list:\n",
    "    print(col_name ,'', df[col_name].isna().sum())"
   ]
  },
  {
   "cell_type": "markdown",
   "metadata": {
    "id": "04L2giwTLElt"
   },
   "source": [
    "###  6) Print a list of all the unique items in the Property column"
   ]
  },
  {
   "cell_type": "code",
   "execution_count": 6,
   "metadata": {
    "id": "Svgs2agDLYxt"
   },
   "outputs": [
    {
     "data": {
      "text/plain": [
       "array(['V', 'U', 'H', 'S'], dtype=object)"
      ]
     },
     "execution_count": 6,
     "metadata": {},
     "output_type": "execute_result"
    }
   ],
   "source": [
    "#your code here\n",
    "df.Property.unique()"
   ]
  },
  {
   "cell_type": "markdown",
   "metadata": {
    "id": "68YuzJ5zXJAx"
   },
   "source": [
    "### 7) Create a column which contains the Pressure and Property columns, seperated with 'at' (For eg. V at 1, H at 101.325). Using this print the following:\n",
    "- Enthalpy at 75 kPa and 573 K\n",
    "- Entropy at 493 K and 250 kPa"
   ]
  },
  {
   "cell_type": "code",
   "execution_count": 7,
   "metadata": {
    "id": "igpYFRjLXLiZ"
   },
   "outputs": [
    {
     "name": "stdout",
     "output_type": "stream",
     "text": [
      "nan 3132.4\n"
     ]
    }
   ],
   "source": [
    "#your code here\n",
    "for i in range(0,543):\n",
    "    if df.iloc[i]['Pressure']==75:\n",
    "        j=1\n",
    "    if df.iloc[i]['Pressure']==250:\n",
    "        k=1\n",
    "print(df.iloc[j]['575'],df.iloc[k]['500'])"
   ]
  },
  {
   "cell_type": "markdown",
   "metadata": {
    "id": "SR7p7NhNU2vy"
   },
   "source": [
    "### 8) Find out the column with the highest number of missing values"
   ]
  },
  {
   "cell_type": "code",
   "execution_count": 8,
   "metadata": {
    "id": "Jj4cUag7WZYB"
   },
   "outputs": [
    {
     "data": {
      "text/plain": [
       "'75'"
      ]
     },
     "execution_count": 8,
     "metadata": {},
     "output_type": "execute_result"
    }
   ],
   "source": [
    "#your code here\n",
    "df.count().idxmin()"
   ]
  },
  {
   "cell_type": "markdown",
   "metadata": {
    "id": "yL9loV4IWZwp"
   },
   "source": [
    "### 9) What is the average enthalpy of Sat. Liq. at all different pressures in the dataset ?"
   ]
  },
  {
   "cell_type": "code",
   "execution_count": 9,
   "metadata": {
    "id": "WjOwyU89WlwR"
   },
   "outputs": [
    {
     "data": {
      "text/plain": [
       "936.9707720588235"
      ]
     },
     "execution_count": 9,
     "metadata": {},
     "output_type": "execute_result"
    }
   ],
   "source": [
    "#your code here\n",
    "H_data = df[df['Property']== 'H']\n",
    "H_data['Liq_Sat'].mean()"
   ]
  },
  {
   "cell_type": "markdown",
   "metadata": {
    "id": "PfUPj9e7Wmkx"
   },
   "source": [
    "### 10) Separate out the V,U,H,S data from the dataset into V_data, U_data, H_data, S_data"
   ]
  },
  {
   "cell_type": "code",
   "execution_count": 10,
   "metadata": {
    "id": "Qoy0rPpUW2lp"
   },
   "outputs": [],
   "source": [
    "#your code here\n",
    "V_data = df[df['Property']== 'V']\n",
    "U_data = df[df['Property']== 'U']\n",
    "H_data = df[df['Property']== 'H']\n",
    "S_data = df[df['Property']== 'S']"
   ]
  },
  {
   "cell_type": "markdown",
   "metadata": {
    "id": "0IqKY_vvW216"
   },
   "source": [
    "### 11) Plot the properties (specific volume, specific internal energy, specific enthalpy, specific entropy) vs Pressure for saturated liquid.\n",
    "\n",
    "Note: \n",
    "- Try using the subplot feature of matplotlib(Explore it!!)\n",
    "- Provide appropriate title, labels, markersize and other parameters to the plot "
   ]
  },
  {
   "cell_type": "code",
   "execution_count": 11,
   "metadata": {
    "id": "ZsUW7kZzXeKR"
   },
   "outputs": [
    {
     "data": {
      "text/plain": [
       "Text(0.5, 1.0, 'Specific Entropy vs Pressure')"
      ]
     },
     "execution_count": 11,
     "metadata": {},
     "output_type": "execute_result"
    },
    {
     "data": {
      "image/png": "[encoded data removed]",
      "text/plain": [
       "<Figure size 432x288 with 4 Axes>"
      ]
     },
     "metadata": {
      "needs_background": "light"
     },
     "output_type": "display_data"
    }
   ],
   "source": [
    "#your code here\n",
    "plt.subplot(3,3,1)\n",
    "plt.plot(V_data['Pressure'],V_data['Liq_Sat'])\n",
    "plt.title('Specific Volume vs Pressure')\n",
    "plt.subplot(3,3,3)\n",
    "plt.plot(U_data['Pressure'],U_data['Liq_Sat'])\n",
    "plt.title('Specific Internal Energy vs Pressure')\n",
    "plt.subplot(3,3,7)\n",
    "plt.plot(H_data['Pressure'],H_data['Liq_Sat'])\n",
    "plt.title('Specific Enthalpy vs Pressure')\n",
    "plt.subplot(3,3,9)\n",
    "plt.plot(S_data['Pressure'],S_data['Liq_Sat'])\n",
    "plt.title('Specific Entropy vs Pressure')\n",
    "\n",
    "\n"
   ]
  },
  {
   "cell_type": "markdown",
   "metadata": {
    "id": "Ds33LC6dXema"
   },
   "source": [
    "### 12) Plot the same for saturated vapor."
   ]
  },
  {
   "cell_type": "code",
   "execution_count": 12,
   "metadata": {
    "id": "TRy2Tb_GXqcp"
   },
   "outputs": [
    {
     "data": {
      "text/plain": [
       "Text(0.5, 1.0, 'Specific Entropy vs Pressure')"
      ]
     },
     "execution_count": 12,
     "metadata": {},
     "output_type": "execute_result"
    },
    {
     "data": {
      "image/png": "[encoded data removed]",
      "text/plain": [
       "<Figure size 432x288 with 4 Axes>"
      ]
     },
     "metadata": {
      "needs_background": "light"
     },
     "output_type": "display_data"
    }
   ],
   "source": [
    "#your code here\n",
    "plt.subplot(3,3,1)\n",
    "plt.plot(V_data['Pressure'],V_data['Vap_Sat'])\n",
    "plt.title('Specific Volume vs Pressure')\n",
    "plt.subplot(3,3,3)\n",
    "plt.plot(U_data['Pressure'],U_data['Vap_Sat'])\n",
    "plt.title('Specific Internal Energy vs Pressure')\n",
    "plt.subplot(3,3,7)\n",
    "plt.plot(H_data['Pressure'],H_data['Vap_Sat'])\n",
    "plt.title('Specific Enthalpy vs Pressure')\n",
    "plt.subplot(3,3,9)\n",
    "plt.plot(S_data['Pressure'],S_data['Vap_Sat'])\n",
    "plt.title('Specific Entropy vs Pressure')\n"
   ]
  },
  {
   "cell_type": "markdown",
   "metadata": {
    "id": "ate8hMAkYCph"
   },
   "source": [
    "### 13) Plot the specific volume of saturated liquid between 300 kPa and 1500 kPa"
   ]
  },
  {
   "cell_type": "code",
   "execution_count": 13,
   "metadata": {
    "id": "pbBwBWxGZhAz"
   },
   "outputs": [
    {
     "data": {
      "text/plain": [
       "Text(0.5, 1.0, 'Specific Volume vs Pressure')"
      ]
     },
     "execution_count": 13,
     "metadata": {},
     "output_type": "execute_result"
    },
    {
     "data": {
      "image/png": "[encoded data removed]",
      "text/plain": [
       "<Figure size 432x288 with 1 Axes>"
      ]
     },
     "metadata": {
      "needs_background": "light"
     },
     "output_type": "display_data"
    }
   ],
   "source": [
    "#your code here\n",
    "new_data = V_data[(V_data.Pressure >= 300) & (V_data.Pressure <= 1500)]\n",
    "        \n",
    "plt.plot(new_data['Pressure'],new_data['Vap_Sat'])\n",
    "plt.title('Specific Volume vs Pressure')\n",
    "    \n"
   ]
  },
  {
   "cell_type": "markdown",
   "metadata": {
    "id": "KeUT5_QFWySs"
   },
   "source": [
    "## Playing with Numpy"
   ]
  },
  {
   "cell_type": "markdown",
   "metadata": {
    "id": "xTFgCWtqdZSi"
   },
   "source": [
    "### 14) Implement the derivative of the sigmoid function using numpy. \n",
    "\n",
    "Note: \n",
    "- Read about sigmoid function over the internet.\n",
    "- Input of the function can be a scalar or a numpy array.\n",
    "\n",
    "**Test Case:**\n",
    "\n",
    "**Input:**\n",
    "\n",
    " [[9, 2, 5, 0, 0]\n",
    "\n",
    "   [7, 5, 0, 0, 0]]\n",
    "\n",
    "Output:\n",
    "\n",
    "[[0.99987661, 0.88079708, 0.99330715, 0.5, 0.5 ]\n",
    "\n",
    "[0.99908895, 0.99330715, 0.5,  0.5,  0.5 ]]"
   ]
  },
  {
   "cell_type": "code",
   "execution_count": 19,
   "metadata": {
    "id": "BMLOKdEQdg_J"
   },
   "outputs": [
    {
     "name": "stdout",
     "output_type": "stream",
     "text": [
      "[[1.23379350e-04 1.04993585e-01 6.64805667e-03 2.50000000e-01\n",
      "  2.50000000e-01]\n",
      " [9.10221180e-04 6.64805667e-03 2.50000000e-01 2.50000000e-01\n",
      "  2.50000000e-01]]\n"
     ]
    }
   ],
   "source": [
    "#your code here\n",
    "def sigmoid(arr):\n",
    "    a=np\n",
    "    return (np.exp(arr))/((1+np.exp(arr))*(1+np.exp(arr)))\n",
    "arr = np.array([[9,2,5,0,0],[7,5,0,0,0]])\n",
    "print(sigmoid(arr))"
   ]
  },
  {
   "cell_type": "markdown",
   "metadata": {
    "id": "0nJ76FFIeTKq"
   },
   "source": [
    "### 15) Define a function which takes in a a numpy array of shape (length, height, depth) and returns a vector of shape (length\\*height*depth, 1)\n"
   ]
  },
  {
   "cell_type": "code",
   "execution_count": 15,
   "metadata": {
    "id": "e6XecJLkeUmK"
   },
   "outputs": [
    {
     "data": {
      "text/plain": [
       "(6, 1)"
      ]
     },
     "execution_count": 15,
     "metadata": {},
     "output_type": "execute_result"
    }
   ],
   "source": [
    "#your code here\n",
    "def volu(arr):\n",
    "    b=array.shape\n",
    "    c=np.reshape(arr,(b[0]*b[1]*b[2],1))\n",
    "    return c\n",
    "\n",
    "\n",
    "array = np.zeros((1,2,3))\n",
    "new_array=volu(array)\n",
    "new_array.shape\n",
    "    \n"
   ]
  },
  {
   "cell_type": "markdown",
   "metadata": {
    "id": "TyyKAFLGdHtx"
   },
   "source": [
    "### 16) Define a softmax function that calculates the softmax for each row of the input x.\n",
    "\n",
    "Note:\n",
    "- The code should work for a row vector and also for matrices of shape (n, m)\n",
    "\n",
    "**Test Case:**\n",
    "\n",
    "**Input:**\n",
    "\n",
    " [[9 2 5 0 0]\n",
    "\n",
    "   [7 5 0 0 0]]\n",
    "\n",
    "Output:\n",
    "\n",
    "[[9.80897665e-01 8.94462891e-04 1.79657674e-02 1.21052389e-04\n",
    "  1.21052389e-04]\n",
    "\n",
    " [8.78679856e-01 1.18916387e-01 8.01252314e-04 8.01252314e-04\n",
    "  8.01252314e-04]]"
   ]
  },
  {
   "cell_type": "code",
   "execution_count": 16,
   "metadata": {
    "id": "wvcifD48dYsC"
   },
   "outputs": [],
   "source": [
    "#your code here\n",
    "def softmax(lst):\n",
    "    list1=[]\n",
    "    list2=[]\n",
    "    sum=0\n",
    "    for x in lst[0]:\n",
    "        sum = sum + np.exp(x)\n",
    "    for x in lst[0]:\n",
    "        list1.append(np.exp(x)/sum)\n",
    "    sum = 0\n",
    "    for x in lst[1]:\n",
    "        sum = sum + np.exp(x)\n",
    "    for x in lst[1]:\n",
    "        list2.append(np.exp(x)/sum)\n",
    "    list = [list1,list2]\n",
    "    return list"
   ]
  },
  {
   "cell_type": "code",
   "execution_count": 17,
   "metadata": {},
   "outputs": [
    {
     "data": {
      "text/plain": [
       "[[0.9808976649146187,\n",
       "  0.0008944628906901777,\n",
       "  0.017965767417378736,\n",
       "  0.00012105238865619453,\n",
       "  0.00012105238865619453],\n",
       " [0.87867985588699,\n",
       "  0.11891638717077183,\n",
       "  0.0008012523140793875,\n",
       "  0.0008012523140793875,\n",
       "  0.0008012523140793875]]"
      ]
     },
     "execution_count": 17,
     "metadata": {},
     "output_type": "execute_result"
    }
   ],
   "source": [
    "softmax([[9 ,2, 5, 0, 0],[7, 5, 0, 0, 0]])"
   ]
  },
  {
   "cell_type": "code",
   "execution_count": null,
   "metadata": {},
   "outputs": [],
   "source": []
  }
 ],
 "metadata": {
  "colab": {
   "provenance": []
  },
  "kernelspec": {
   "display_name": "Python 3 (ipykernel)",
   "language": "python",
   "name": "python3"
  },
  "language_info": {
   "codemirror_mode": {
    "name": "ipython",
    "version": 3
   },
   "file_extension": ".py",
   "mimetype": "text/x-python",
   "name": "python",
   "nbconvert_exporter": "python",
   "pygments_lexer": "ipython3",
   "version": "3.10.4"
  }
 },
 "nbformat": 4,
 "nbformat_minor": 1
}
