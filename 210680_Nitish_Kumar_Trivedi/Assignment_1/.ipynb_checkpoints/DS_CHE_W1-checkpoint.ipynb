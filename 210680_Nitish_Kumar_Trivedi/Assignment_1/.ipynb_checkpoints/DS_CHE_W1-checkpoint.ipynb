{
 "cells": [
  {
   "cell_type": "markdown",
   "metadata": {
    "id": "tIol1e9EzB-Z"
   },
   "source": [
    "# DS : CHE\n",
    "\n"
   ]
  },
  {
   "cell_type": "markdown",
   "metadata": {
    "id": "lV7ZG3lKzB-d"
   },
   "source": [
    "# Week-1 Assignment"
   ]
  },
  {
   "cell_type": "markdown",
   "metadata": {
    "id": "rLK_mGZlJ_Y_"
   },
   "source": [
    "**Welcome to your first assignment of SimuTech Winter Project 2022! I hope you are excited to implement and test everything you have learnt up until now. The dataset which you'll use includes information about properties of superheated vapor.**\n",
    "\n",
    "The dataset consists of the thermophysical properties: specific volume, specific internal energy, specific enthalpy, specific entropy of superheated vapor.\n",
    "\n",
    "Pressure is in kPa and Temperature in centigrade. In the dataframe 75, 100, 125 are temperatures.\n",
    "\n",
    "**There are some interesting set of questions for you to get a basic understanding of pandas and data visualization libraries. GOOD LUCK!**\n",
    "\n",
    "\n",
    "***Let's get started with importing numpy, pandas and matplotlib!***"
   ]
  },
  {
   "cell_type": "markdown",
   "metadata": {
    "id": "3urmJxE7KKVj"
   },
   "source": [
    "### 1) Import all the libraries"
   ]
  },
  {
   "cell_type": "code",
   "execution_count": 1,
   "metadata": {
    "id": "2kLDKA3bKGMD"
   },
   "outputs": [],
   "source": [
    "#your code here\n",
    "import pandas as pd\n",
    "import numpy as np\n",
    "import matplotlib.pyplot as plt"
   ]
  },
  {
   "cell_type": "markdown",
   "metadata": {
    "id": "0bpXri-3KVei"
   },
   "source": [
    "### 2) Read the csv file."
   ]
  },
  {
   "cell_type": "code",
   "execution_count": 2,
   "metadata": {
    "id": "XwzSYh42Kdej"
   },
   "outputs": [],
   "source": [
    "#your code here\n",
    "df1 = pd.read_csv('superheated_vapor_properties.csv')"
   ]
  },
  {
   "cell_type": "markdown",
   "metadata": {
    "id": "K72xx38QKeRU"
   },
   "source": [
    "### 3) Display shape of dataframe\n"
   ]
  },
  {
   "cell_type": "code",
   "execution_count": 3,
   "metadata": {
    "id": "YPqY3euIKoCk"
   },
   "outputs": [
    {
     "data": {
      "text/plain": [
       "(544, 37)"
      ]
     },
     "execution_count": 3,
     "metadata": {},
     "output_type": "execute_result"
    }
   ],
   "source": [
    "#your code here\n",
    "df1.shape"
   ]
  },
  {
   "cell_type": "markdown",
   "metadata": {
    "id": "qJm2x6TMKolc"
   },
   "source": [
    "### 4) Print all columns of dataframe\n",
    "Return an array containing names of all the columns."
   ]
  },
  {
   "cell_type": "code",
   "execution_count": 4,
   "metadata": {
    "id": "ocVSOb3kKvQV"
   },
   "outputs": [
    {
     "data": {
      "text/plain": [
       "Index(['Pressure', 'Property', 'Liq_Sat', 'Vap_Sat', '75', '100', '125', '150',\n",
       "       '175', '200', '220', '225', '240', '250', '260', '275', '280', '290',\n",
       "       '300', '320', '325', '340', '350', '360', '375', '380', '400', '425',\n",
       "       '450', '475', '500', '525', '550', '575', '600', '625', '650'],\n",
       "      dtype='object')"
      ]
     },
     "execution_count": 4,
     "metadata": {},
     "output_type": "execute_result"
    }
   ],
   "source": [
    "#your code here\n",
    "df1.columns"
   ]
  },
  {
   "cell_type": "markdown",
   "metadata": {
    "id": "HE0-ugnfKvl9"
   },
   "source": [
    "### 5) Display the number of null values in each column of the dataframe"
   ]
  },
  {
   "cell_type": "code",
   "execution_count": 5,
   "metadata": {
    "id": "xU-1sxGCK7UF"
   },
   "outputs": [
    {
     "data": {
      "text/plain": [
       "Pressure      0\n",
       "Property      0\n",
       "Liq_Sat       0\n",
       "Vap_Sat       0\n",
       "75          528\n",
       "100         508\n",
       "125         488\n",
       "150         448\n",
       "175         384\n",
       "200         320\n",
       "220         408\n",
       "225         400\n",
       "240         408\n",
       "250         344\n",
       "260         384\n",
       "275         340\n",
       "280         380\n",
       "290         488\n",
       "300          60\n",
       "320         480\n",
       "325         136\n",
       "340         476\n",
       "350          68\n",
       "360         476\n",
       "375         204\n",
       "380         476\n",
       "400           0\n",
       "425         204\n",
       "450           0\n",
       "475         204\n",
       "500           0\n",
       "525         272\n",
       "550           0\n",
       "575         340\n",
       "600           0\n",
       "625         476\n",
       "650           0\n",
       "dtype: int64"
      ]
     },
     "execution_count": 5,
     "metadata": {},
     "output_type": "execute_result"
    }
   ],
   "source": [
    "#your code here\n",
    "df1.isna().sum()"
   ]
  },
  {
   "cell_type": "markdown",
   "metadata": {
    "id": "04L2giwTLElt"
   },
   "source": [
    "###  6) Print a list of all the unique items in the Property column"
   ]
  },
  {
   "cell_type": "code",
   "execution_count": 6,
   "metadata": {
    "id": "Svgs2agDLYxt"
   },
   "outputs": [
    {
     "data": {
      "text/plain": [
       "array(['V', 'U', 'H', 'S'], dtype=object)"
      ]
     },
     "execution_count": 6,
     "metadata": {},
     "output_type": "execute_result"
    }
   ],
   "source": [
    "#your code here\n",
    "df1.Property.unique()"
   ]
  },
  {
   "cell_type": "markdown",
   "metadata": {
    "id": "68YuzJ5zXJAx"
   },
   "source": [
    "### 7) Create a column which contains the Pressure and Property columns, seperated with 'at' (For eg. V at 1, H at 101.325). Using this print the following:\n",
    "- Enthalpy at 75 kPa and 573 K\n",
    "- Entropy at 493 K and 250 kPa"
   ]
  },
  {
   "cell_type": "code",
   "execution_count": 18,
   "metadata": {
    "id": "igpYFRjLXLiZ"
   },
   "outputs": [
    {
     "data": {
      "text/plain": [
       "0          V at 1.0\n",
       "1          U at 1.0\n",
       "2          H at 1.0\n",
       "3          S at 1.0\n",
       "4         V at 10.0\n",
       "           ...     \n",
       "539    S at 11200.0\n",
       "540    V at 11400.0\n",
       "541    U at 11400.0\n",
       "542    H at 11400.0\n",
       "543    S at 11400.0\n",
       "Length: 544, dtype: object"
      ]
     },
     "execution_count": 18,
     "metadata": {},
     "output_type": "execute_result"
    }
   ],
   "source": [
    "#your code here\n",
    "df2 = df1['Property'].astype(str)+\" \"+\"at\"+\" \"+df1[\"Pressure\"].astype(str)\n",
    "df2"
   ]
  },
  {
   "cell_type": "markdown",
   "metadata": {
    "id": "SR7p7NhNU2vy"
   },
   "source": [
    "### 8) Find out the column with the highest number of missing values"
   ]
  },
  {
   "cell_type": "code",
   "execution_count": 8,
   "metadata": {
    "id": "Jj4cUag7WZYB"
   },
   "outputs": [
    {
     "data": {
      "text/plain": [
       "'75'"
      ]
     },
     "execution_count": 8,
     "metadata": {},
     "output_type": "execute_result"
    }
   ],
   "source": [
    "#your code here\n",
    "df1.count().idxmin()"
   ]
  },
  {
   "cell_type": "markdown",
   "metadata": {
    "id": "yL9loV4IWZwp"
   },
   "source": [
    "### 9) What is the average enthalpy of Sat. Liq. at all different pressures in the dataset ?"
   ]
  },
  {
   "cell_type": "code",
   "execution_count": 9,
   "metadata": {
    "id": "WjOwyU89WlwR"
   },
   "outputs": [
    {
     "data": {
      "text/plain": [
       "936.9707720588236"
      ]
     },
     "execution_count": 9,
     "metadata": {},
     "output_type": "execute_result"
    }
   ],
   "source": [
    "#your code here\n",
    "df1.loc[df1['Property']==\"H\",'ANS'] = df1['Liq_Sat']\n",
    "val = df1['ANS'].mean()\n",
    "val"
   ]
  },
  {
   "cell_type": "markdown",
   "metadata": {
    "id": "PfUPj9e7Wmkx"
   },
   "source": [
    "### 10) Separate out the V,U,H,S data from the dataset into V_data, U_data, H_data, S_data"
   ]
  },
  {
   "cell_type": "code",
   "execution_count": 10,
   "metadata": {
    "id": "Qoy0rPpUW2lp"
   },
   "outputs": [
    {
     "data": {
      "text/html": [
       "<div>\n",
       "<style scoped>\n",
       "    .dataframe tbody tr th:only-of-type {\n",
       "        vertical-align: middle;\n",
       "    }\n",
       "\n",
       "    .dataframe tbody tr th {\n",
       "        vertical-align: top;\n",
       "    }\n",
       "\n",
       "    .dataframe thead th {\n",
       "        text-align: right;\n",
       "    }\n",
       "</style>\n",
       "<table border=\"1\" class=\"dataframe\">\n",
       "  <thead>\n",
       "    <tr style=\"text-align: right;\">\n",
       "      <th></th>\n",
       "      <th>Pressure</th>\n",
       "      <th>Property</th>\n",
       "      <th>Liq_Sat</th>\n",
       "      <th>Vap_Sat</th>\n",
       "      <th>75</th>\n",
       "      <th>100</th>\n",
       "      <th>125</th>\n",
       "      <th>150</th>\n",
       "      <th>175</th>\n",
       "      <th>200</th>\n",
       "      <th>...</th>\n",
       "      <th>450</th>\n",
       "      <th>475</th>\n",
       "      <th>500</th>\n",
       "      <th>525</th>\n",
       "      <th>550</th>\n",
       "      <th>575</th>\n",
       "      <th>600</th>\n",
       "      <th>625</th>\n",
       "      <th>650</th>\n",
       "      <th>ANS</th>\n",
       "    </tr>\n",
       "  </thead>\n",
       "  <tbody>\n",
       "    <tr>\n",
       "      <th>0</th>\n",
       "      <td>1.0</td>\n",
       "      <td>V</td>\n",
       "      <td>1.000</td>\n",
       "      <td>129200.000</td>\n",
       "      <td>160640.0</td>\n",
       "      <td>172180.0</td>\n",
       "      <td>183720.0</td>\n",
       "      <td>195270.0</td>\n",
       "      <td>206810.0</td>\n",
       "      <td>218350.0</td>\n",
       "      <td>...</td>\n",
       "      <td>333730.000</td>\n",
       "      <td>NaN</td>\n",
       "      <td>356810.000</td>\n",
       "      <td>NaN</td>\n",
       "      <td>379880.000</td>\n",
       "      <td>NaN</td>\n",
       "      <td>402960.000</td>\n",
       "      <td>NaN</td>\n",
       "      <td>426040.000</td>\n",
       "      <td>NaN</td>\n",
       "    </tr>\n",
       "    <tr>\n",
       "      <th>4</th>\n",
       "      <td>10.0</td>\n",
       "      <td>V</td>\n",
       "      <td>1.010</td>\n",
       "      <td>14670.000</td>\n",
       "      <td>16030.0</td>\n",
       "      <td>17190.0</td>\n",
       "      <td>18350.0</td>\n",
       "      <td>19510.0</td>\n",
       "      <td>20660.0</td>\n",
       "      <td>21820.0</td>\n",
       "      <td>...</td>\n",
       "      <td>33370.000</td>\n",
       "      <td>NaN</td>\n",
       "      <td>35670.000</td>\n",
       "      <td>NaN</td>\n",
       "      <td>37980.000</td>\n",
       "      <td>NaN</td>\n",
       "      <td>40290.000</td>\n",
       "      <td>NaN</td>\n",
       "      <td>42600.000</td>\n",
       "      <td>NaN</td>\n",
       "    </tr>\n",
       "    <tr>\n",
       "      <th>8</th>\n",
       "      <td>20.0</td>\n",
       "      <td>V</td>\n",
       "      <td>1.017</td>\n",
       "      <td>7649.800</td>\n",
       "      <td>8000.0</td>\n",
       "      <td>8584.7</td>\n",
       "      <td>9167.1</td>\n",
       "      <td>9748.0</td>\n",
       "      <td>10320.0</td>\n",
       "      <td>10900.0</td>\n",
       "      <td>...</td>\n",
       "      <td>16680.000</td>\n",
       "      <td>NaN</td>\n",
       "      <td>17830.000</td>\n",
       "      <td>NaN</td>\n",
       "      <td>18990.000</td>\n",
       "      <td>NaN</td>\n",
       "      <td>20140.000</td>\n",
       "      <td>NaN</td>\n",
       "      <td>21300.000</td>\n",
       "      <td>NaN</td>\n",
       "    </tr>\n",
       "    <tr>\n",
       "      <th>12</th>\n",
       "      <td>30.0</td>\n",
       "      <td>V</td>\n",
       "      <td>1.022</td>\n",
       "      <td>5229.300</td>\n",
       "      <td>5322.0</td>\n",
       "      <td>5714.4</td>\n",
       "      <td>6104.6</td>\n",
       "      <td>6493.2</td>\n",
       "      <td>6880.8</td>\n",
       "      <td>7267.5</td>\n",
       "      <td>...</td>\n",
       "      <td>11120.000</td>\n",
       "      <td>NaN</td>\n",
       "      <td>11890.000</td>\n",
       "      <td>NaN</td>\n",
       "      <td>12660.000</td>\n",
       "      <td>NaN</td>\n",
       "      <td>13430.000</td>\n",
       "      <td>NaN</td>\n",
       "      <td>14190.000</td>\n",
       "      <td>NaN</td>\n",
       "    </tr>\n",
       "    <tr>\n",
       "      <th>16</th>\n",
       "      <td>40.0</td>\n",
       "      <td>V</td>\n",
       "      <td>1.027</td>\n",
       "      <td>3993.400</td>\n",
       "      <td>NaN</td>\n",
       "      <td>4279.2</td>\n",
       "      <td>4573.3</td>\n",
       "      <td>4865.8</td>\n",
       "      <td>5157.2</td>\n",
       "      <td>5447.8</td>\n",
       "      <td>...</td>\n",
       "      <td>8340.100</td>\n",
       "      <td>NaN</td>\n",
       "      <td>8917.600</td>\n",
       "      <td>NaN</td>\n",
       "      <td>9494.900</td>\n",
       "      <td>NaN</td>\n",
       "      <td>10070.000</td>\n",
       "      <td>NaN</td>\n",
       "      <td>10640.000</td>\n",
       "      <td>NaN</td>\n",
       "    </tr>\n",
       "    <tr>\n",
       "      <th>...</th>\n",
       "      <td>...</td>\n",
       "      <td>...</td>\n",
       "      <td>...</td>\n",
       "      <td>...</td>\n",
       "      <td>...</td>\n",
       "      <td>...</td>\n",
       "      <td>...</td>\n",
       "      <td>...</td>\n",
       "      <td>...</td>\n",
       "      <td>...</td>\n",
       "      <td>...</td>\n",
       "      <td>...</td>\n",
       "      <td>...</td>\n",
       "      <td>...</td>\n",
       "      <td>...</td>\n",
       "      <td>...</td>\n",
       "      <td>...</td>\n",
       "      <td>...</td>\n",
       "      <td>...</td>\n",
       "      <td>...</td>\n",
       "      <td>...</td>\n",
       "    </tr>\n",
       "    <tr>\n",
       "      <th>524</th>\n",
       "      <td>10600.0</td>\n",
       "      <td>V</td>\n",
       "      <td>1.474</td>\n",
       "      <td>16.778</td>\n",
       "      <td>NaN</td>\n",
       "      <td>NaN</td>\n",
       "      <td>NaN</td>\n",
       "      <td>NaN</td>\n",
       "      <td>NaN</td>\n",
       "      <td>NaN</td>\n",
       "      <td>...</td>\n",
       "      <td>27.834</td>\n",
       "      <td>29.313</td>\n",
       "      <td>30.732</td>\n",
       "      <td>32.106</td>\n",
       "      <td>33.444</td>\n",
       "      <td>34.753</td>\n",
       "      <td>36.039</td>\n",
       "      <td>37.304</td>\n",
       "      <td>38.552</td>\n",
       "      <td>NaN</td>\n",
       "    </tr>\n",
       "    <tr>\n",
       "      <th>528</th>\n",
       "      <td>10800.0</td>\n",
       "      <td>V</td>\n",
       "      <td>1.481</td>\n",
       "      <td>16.385</td>\n",
       "      <td>NaN</td>\n",
       "      <td>NaN</td>\n",
       "      <td>NaN</td>\n",
       "      <td>NaN</td>\n",
       "      <td>NaN</td>\n",
       "      <td>NaN</td>\n",
       "      <td>...</td>\n",
       "      <td>27.245</td>\n",
       "      <td>28.706</td>\n",
       "      <td>30.106</td>\n",
       "      <td>31.461</td>\n",
       "      <td>32.779</td>\n",
       "      <td>34.069</td>\n",
       "      <td>35.335</td>\n",
       "      <td>36.580</td>\n",
       "      <td>37.808</td>\n",
       "      <td>NaN</td>\n",
       "    </tr>\n",
       "    <tr>\n",
       "      <th>532</th>\n",
       "      <td>11000.0</td>\n",
       "      <td>V</td>\n",
       "      <td>1.489</td>\n",
       "      <td>16.006</td>\n",
       "      <td>NaN</td>\n",
       "      <td>NaN</td>\n",
       "      <td>NaN</td>\n",
       "      <td>NaN</td>\n",
       "      <td>NaN</td>\n",
       "      <td>NaN</td>\n",
       "      <td>...</td>\n",
       "      <td>26.676</td>\n",
       "      <td>28.120</td>\n",
       "      <td>29.503</td>\n",
       "      <td>30.839</td>\n",
       "      <td>32.139</td>\n",
       "      <td>33.410</td>\n",
       "      <td>34.656</td>\n",
       "      <td>35.882</td>\n",
       "      <td>37.091</td>\n",
       "      <td>NaN</td>\n",
       "    </tr>\n",
       "    <tr>\n",
       "      <th>536</th>\n",
       "      <td>11200.0</td>\n",
       "      <td>V</td>\n",
       "      <td>1.496</td>\n",
       "      <td>15.639</td>\n",
       "      <td>NaN</td>\n",
       "      <td>NaN</td>\n",
       "      <td>NaN</td>\n",
       "      <td>NaN</td>\n",
       "      <td>NaN</td>\n",
       "      <td>NaN</td>\n",
       "      <td>...</td>\n",
       "      <td>26.128</td>\n",
       "      <td>27.555</td>\n",
       "      <td>28.921</td>\n",
       "      <td>30.240</td>\n",
       "      <td>31.521</td>\n",
       "      <td>32.774</td>\n",
       "      <td>34.002</td>\n",
       "      <td>35.210</td>\n",
       "      <td>36.400</td>\n",
       "      <td>NaN</td>\n",
       "    </tr>\n",
       "    <tr>\n",
       "      <th>540</th>\n",
       "      <td>11400.0</td>\n",
       "      <td>V</td>\n",
       "      <td>1.504</td>\n",
       "      <td>15.284</td>\n",
       "      <td>NaN</td>\n",
       "      <td>NaN</td>\n",
       "      <td>NaN</td>\n",
       "      <td>NaN</td>\n",
       "      <td>NaN</td>\n",
       "      <td>NaN</td>\n",
       "      <td>...</td>\n",
       "      <td>25.599</td>\n",
       "      <td>27.010</td>\n",
       "      <td>28.359</td>\n",
       "      <td>29.661</td>\n",
       "      <td>30.925</td>\n",
       "      <td>32.160</td>\n",
       "      <td>33.370</td>\n",
       "      <td>34.560</td>\n",
       "      <td>35.733</td>\n",
       "      <td>NaN</td>\n",
       "    </tr>\n",
       "  </tbody>\n",
       "</table>\n",
       "<p>136 rows × 38 columns</p>\n",
       "</div>"
      ],
      "text/plain": [
       "     Pressure Property  Liq_Sat     Vap_Sat        75       100       125  \\\n",
       "0         1.0        V    1.000  129200.000  160640.0  172180.0  183720.0   \n",
       "4        10.0        V    1.010   14670.000   16030.0   17190.0   18350.0   \n",
       "8        20.0        V    1.017    7649.800    8000.0    8584.7    9167.1   \n",
       "12       30.0        V    1.022    5229.300    5322.0    5714.4    6104.6   \n",
       "16       40.0        V    1.027    3993.400       NaN    4279.2    4573.3   \n",
       "..        ...      ...      ...         ...       ...       ...       ...   \n",
       "524   10600.0        V    1.474      16.778       NaN       NaN       NaN   \n",
       "528   10800.0        V    1.481      16.385       NaN       NaN       NaN   \n",
       "532   11000.0        V    1.489      16.006       NaN       NaN       NaN   \n",
       "536   11200.0        V    1.496      15.639       NaN       NaN       NaN   \n",
       "540   11400.0        V    1.504      15.284       NaN       NaN       NaN   \n",
       "\n",
       "          150       175       200  ...         450     475         500  \\\n",
       "0    195270.0  206810.0  218350.0  ...  333730.000     NaN  356810.000   \n",
       "4     19510.0   20660.0   21820.0  ...   33370.000     NaN   35670.000   \n",
       "8      9748.0   10320.0   10900.0  ...   16680.000     NaN   17830.000   \n",
       "12     6493.2    6880.8    7267.5  ...   11120.000     NaN   11890.000   \n",
       "16     4865.8    5157.2    5447.8  ...    8340.100     NaN    8917.600   \n",
       "..        ...       ...       ...  ...         ...     ...         ...   \n",
       "524       NaN       NaN       NaN  ...      27.834  29.313      30.732   \n",
       "528       NaN       NaN       NaN  ...      27.245  28.706      30.106   \n",
       "532       NaN       NaN       NaN  ...      26.676  28.120      29.503   \n",
       "536       NaN       NaN       NaN  ...      26.128  27.555      28.921   \n",
       "540       NaN       NaN       NaN  ...      25.599  27.010      28.359   \n",
       "\n",
       "        525         550     575         600     625         650  ANS  \n",
       "0       NaN  379880.000     NaN  402960.000     NaN  426040.000  NaN  \n",
       "4       NaN   37980.000     NaN   40290.000     NaN   42600.000  NaN  \n",
       "8       NaN   18990.000     NaN   20140.000     NaN   21300.000  NaN  \n",
       "12      NaN   12660.000     NaN   13430.000     NaN   14190.000  NaN  \n",
       "16      NaN    9494.900     NaN   10070.000     NaN   10640.000  NaN  \n",
       "..      ...         ...     ...         ...     ...         ...  ...  \n",
       "524  32.106      33.444  34.753      36.039  37.304      38.552  NaN  \n",
       "528  31.461      32.779  34.069      35.335  36.580      37.808  NaN  \n",
       "532  30.839      32.139  33.410      34.656  35.882      37.091  NaN  \n",
       "536  30.240      31.521  32.774      34.002  35.210      36.400  NaN  \n",
       "540  29.661      30.925  32.160      33.370  34.560      35.733  NaN  \n",
       "\n",
       "[136 rows x 38 columns]"
      ]
     },
     "execution_count": 10,
     "metadata": {},
     "output_type": "execute_result"
    }
   ],
   "source": [
    "#your code here\n",
    "V_data =pd.DataFrame()\n",
    "U_data =pd.DataFrame()\n",
    "H_data =pd.DataFrame()\n",
    "S_data =pd.DataFrame()\n",
    "H_data =df1[df1.Property =='H']\n",
    "V_data =df1[df1.Property =='V']\n",
    "U_data =df1[df1.Property =='U']\n",
    "S_data =df1[df1.Property =='S']\n",
    "V_data\n"
   ]
  },
  {
   "cell_type": "markdown",
   "metadata": {
    "id": "0IqKY_vvW216"
   },
   "source": [
    "### 11) Plot the properties (specific volume, specific internal energy, specific enthalpy, specific entropy) vs Pressure for saturated liquid.\n",
    "\n",
    "Note: \n",
    "- Try using the subplot feature of matplotlib(Explore it!!)\n",
    "- Provide appropriate title, labels, markersize and other parameters to the plot "
   ]
  },
  {
   "cell_type": "code",
   "execution_count": 11,
   "metadata": {
    "id": "ZsUW7kZzXeKR"
   },
   "outputs": [
    {
     "data": {
      "image/png": "[encoded data removed]",
      "text/plain": [
       "<Figure size 640x480 with 4 Axes>"
      ]
     },
     "metadata": {},
     "output_type": "display_data"
    }
   ],
   "source": [
    "#your code here\n",
    "spec_vol = V_data['Liq_Sat']\n",
    "spec_U = U_data['Liq_Sat']\n",
    "spec_H = H_data['Liq_Sat']\n",
    "spec_S = S_data['Liq_Sat']\n",
    "plt.subplot(4,1,1)\n",
    "plt.plot(spec_vol,V_data['Pressure'],'go')\n",
    "plt.ylabel(\"Pressure\")\n",
    "plt.xlabel(\"Volume\")\n",
    "plt.title(\"1st subplot\")\n",
    "\n",
    "plt.subplot(4,1,2)\n",
    "plt.plot(spec_U,U_data['Pressure'],'r^')\n",
    "plt.ylabel(\"Pressure\")\n",
    "plt.xlabel(\"Internal energy\")\n",
    "plt.title(\"2nd subplot\")\n",
    "\n",
    "plt.subplot(4,1,3)\n",
    "plt.plot(spec_H,H_data['Pressure'],'bo')\n",
    "plt.ylabel(\"Pressure\")\n",
    "plt.xlabel(\"Enthalpy\")\n",
    "plt.title(\"3rd subplot\")\n",
    "\n",
    "plt.subplot(4,1,4)\n",
    "plt.plot(spec_S, S_data['Pressure'],'y^')\n",
    "plt.ylabel(\"Pressure\")\n",
    "plt.xlabel(\"Entropy\")\n",
    "plt.title(\"4th subplot\")\n",
    "plt.show()"
   ]
  },
  {
   "cell_type": "markdown",
   "metadata": {
    "id": "Ds33LC6dXema"
   },
   "source": [
    "### 12) Plot the same for saturated vapor."
   ]
  },
  {
   "cell_type": "code",
   "execution_count": 12,
   "metadata": {
    "id": "TRy2Tb_GXqcp"
   },
   "outputs": [
    {
     "data": {
      "image/png": "[encoded data removed]",
      "text/plain": [
       "<Figure size 640x480 with 4 Axes>"
      ]
     },
     "metadata": {},
     "output_type": "display_data"
    }
   ],
   "source": [
    "#your code here\n",
    "spec_vol2 = V_data['Vap_Sat']\n",
    "spec_U2 = U_data['Vap_Sat']\n",
    "spec_H2 = H_data['Vap_Sat']\n",
    "spec_S2 = S_data['Vap_Sat']\n",
    "plt.subplot(4,1,1)\n",
    "plt.plot(V_data['Pressure'],spec_vol2,'go')\n",
    "plt.ylabel(\"Pressure\")\n",
    "plt.xlabel(\"Volume\")\n",
    "plt.title(\"1st subplot\")\n",
    "\n",
    "plt.subplot(4,1,2)\n",
    "plt.plot(spec_U2,U_data['Pressure'],'r^')\n",
    "plt.ylabel(\"Pressure\")\n",
    "plt.xlabel(\"Internal energy\")\n",
    "plt.title(\"2nd subplot\")\n",
    "\n",
    "plt.subplot(4,1,3)\n",
    "plt.plot(spec_H2,H_data['Pressure'],'go')\n",
    "plt.ylabel(\"Pressure\")\n",
    "plt.xlabel(\"Enthalpy\")\n",
    "plt.title(\"3rd subplot\")\n",
    "\n",
    "plt.subplot(4,1,4)\n",
    "plt.plot(spec_S2, S_data['Pressure'],'r^')\n",
    "plt.ylabel(\"Pressure\")\n",
    "plt.xlabel(\"Entropy\")\n",
    "plt.title(\"4th subplot\")\n",
    "plt.show()"
   ]
  },
  {
   "cell_type": "markdown",
   "metadata": {
    "id": "ate8hMAkYCph"
   },
   "source": [
    "### 13) Plot the specific volume of saturated liquid between 300 kPa and 1500 kPa"
   ]
  },
  {
   "cell_type": "code",
   "execution_count": 13,
   "metadata": {
    "id": "pbBwBWxGZhAz"
   },
   "outputs": [
    {
     "data": {
      "image/png": "[encoded data removed]",
      "text/plain": [
       "<Figure size 640x480 with 1 Axes>"
      ]
     },
     "metadata": {},
     "output_type": "display_data"
    }
   ],
   "source": [
    "#your code here\n",
    "pre = V_data[(V_data['Pressure']>=300) & (V_data['Pressure']<=1500)]\n",
    "pre\n",
    "plt.plot(pre['Pressure'],pre['Liq_Sat'])\n",
    "plt.title(\"Plot\")\n",
    "plt.show()"
   ]
  },
  {
   "cell_type": "markdown",
   "metadata": {
    "id": "KeUT5_QFWySs"
   },
   "source": [
    "## Playing with Numpy"
   ]
  },
  {
   "cell_type": "markdown",
   "metadata": {
    "id": "xTFgCWtqdZSi"
   },
   "source": [
    "### 14) Implement the derivative of the sigmoid function using numpy. \n",
    "\n",
    "Note: \n",
    "- Read about sigmoid function over the internet.\n",
    "- Input of the function can be a scalar or a numpy array.\n",
    "\n",
    "**Test Case:**\n",
    "\n",
    "**Input:**\n",
    "\n",
    " [[9, 2, 5, 0, 0]\n",
    "\n",
    "   [7, 5, 0, 0, 0]]\n",
    "\n",
    "Output:\n",
    "\n",
    "[[0.99987661, 0.88079708, 0.99330715, 0.5, 0.5 ]\n",
    "\n",
    "[0.99908895, 0.99330715, 0.5,  0.5,  0.5 ]]"
   ]
  },
  {
   "cell_type": "code",
   "execution_count": 14,
   "metadata": {
    "id": "BMLOKdEQdg_J"
   },
   "outputs": [
    {
     "data": {
      "text/plain": [
       "array([[0.99987661, 0.88079708, 0.99330715, 0.5       , 0.5       ],\n",
       "       [0.99908895, 0.99330715, 0.5       , 0.5       , 0.5       ]])"
      ]
     },
     "execution_count": 14,
     "metadata": {},
     "output_type": "execute_result"
    }
   ],
   "source": [
    "#your code here\n",
    "my_list =[[9,2,5,0,0],[7,5,0,0,0]]\n",
    "arr =np.array(my_list)\n",
    "brr =np.exp(arr)/(np.exp(arr)+1)\n",
    "brr\n"
   ]
  },
  {
   "cell_type": "markdown",
   "metadata": {
    "id": "0nJ76FFIeTKq"
   },
   "source": [
    "### 15) Define a function which takes in a a numpy array of shape (length, height, depth) and returns a vector of shape (length\\*height*depth, 1)\n"
   ]
  },
  {
   "cell_type": "code",
   "execution_count": 15,
   "metadata": {
    "id": "e6XecJLkeUmK"
   },
   "outputs": [
    {
     "data": {
      "text/plain": [
       "array([6, 1])"
      ]
     },
     "execution_count": 15,
     "metadata": {},
     "output_type": "execute_result"
    }
   ],
   "source": [
    "#your code here\n",
    "x =np.array([1,2,3])\n",
    "a =x[0]\n",
    "b=x[1]\n",
    "c=x[2]\n",
    "y =np.array([a*b*c,1])\n",
    "y"
   ]
  },
  {
   "cell_type": "markdown",
   "metadata": {
    "id": "TyyKAFLGdHtx"
   },
   "source": [
    "### 16) Define a softmax function that calculates the softmax for each row of the input x.\n",
    "\n",
    "Note:\n",
    "- The code should work for a row vector and also for matrices of shape (n, m)\n",
    "\n",
    "**Test Case:**\n",
    "\n",
    "**Input:**\n",
    "\n",
    " [[9 2 5 0 0]\n",
    "\n",
    "   [7 5 0 0 0]]\n",
    "\n",
    "Output:\n",
    "\n",
    "[[9.80897665e-01 8.94462891e-04 1.79657674e-02 1.21052389e-04\n",
    "  1.21052389e-04]\n",
    "\n",
    " [8.78679856e-01 1.18916387e-01 8.01252314e-04 8.01252314e-04\n",
    "  8.01252314e-04]]"
   ]
  },
  {
   "cell_type": "code",
   "execution_count": 16,
   "metadata": {
    "id": "wvcifD48dYsC"
   },
   "outputs": [
    {
     "data": {
      "text/plain": [
       "array([[9.80897665e-01, 8.94462891e-04, 1.79657674e-02, 1.21052389e-04,\n",
       "        1.21052389e-04],\n",
       "       [8.78679856e-01, 1.18916387e-01, 8.01252314e-04, 8.01252314e-04,\n",
       "        8.01252314e-04]])"
      ]
     },
     "execution_count": 16,
     "metadata": {},
     "output_type": "execute_result"
    }
   ],
   "source": [
    "#your code here\n",
    "a =np.array([[9,2,5,0,0]])\n",
    "b=np.sum(np.exp(a))\n",
    "c=np.exp(a)/b\n",
    "x =np.array([[7,5,0,0,0]])\n",
    "y=np.sum(np.exp(x))\n",
    "z=np.exp(x)/y\n",
    "com = np.vstack((c,z))\n",
    "com"
   ]
  }
 ],
 "metadata": {
  "colab": {
   "provenance": []
  },
  "kernelspec": {
   "display_name": "Python 3 (ipykernel)",
   "language": "python",
   "name": "python3"
  },
  "language_info": {
   "codemirror_mode": {
    "name": "ipython",
    "version": 3
   },
   "file_extension": ".py",
   "mimetype": "text/x-python",
   "name": "python",
   "nbconvert_exporter": "python",
   "pygments_lexer": "ipython3",
   "version": "3.11.1"
  }
 },
 "nbformat": 4,
 "nbformat_minor": 1
}
