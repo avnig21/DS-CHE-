{
 "cells": [
  {
   "cell_type": "markdown",
   "metadata": {
    "id": "tIol1e9EzB-Z"
   },
   "source": [
    "# DS : CHE\n",
    "\n"
   ]
  },
  {
   "cell_type": "markdown",
   "metadata": {
    "id": "lV7ZG3lKzB-d"
   },
   "source": [
    "# Week-1 Assignment"
   ]
  },
  {
   "cell_type": "markdown",
   "metadata": {
    "id": "rLK_mGZlJ_Y_"
   },
   "source": [
    "**Welcome to your first assignment of SimuTech Winter Project 2022! I hope you are excited to implement and test everything you have learnt up until now. The dataset which you'll use includes information about properties of superheated vapor.**\n",
    "\n",
    "The dataset consists of the thermophysical properties: specific volume, specific internal energy, specific enthalpy, specific entropy of superheated vapor.\n",
    "\n",
    "Pressure is in kPa and Temperature in centigrade. In the dataframe 75, 100, 125 are temperatures.\n",
    "\n",
    "**There are some interesting set of questions for you to get a basic understanding of pandas and data visualization libraries. GOOD LUCK!**\n",
    "\n",
    "\n",
    "***Let's get started with importing numpy, pandas and matplotlib!***"
   ]
  },
  {
   "cell_type": "markdown",
   "metadata": {
    "id": "3urmJxE7KKVj"
   },
   "source": [
    "### 1) Import all the libraries"
   ]
  },
  {
   "cell_type": "code",
   "execution_count": 302,
   "metadata": {
    "id": "2kLDKA3bKGMD"
   },
   "outputs": [],
   "source": [
    "#your code here\n",
    "import numpy as np\n",
    "import pandas as pd\n",
    "import matplotlib.pyplot as plt"
   ]
  },
  {
   "cell_type": "markdown",
   "metadata": {
    "id": "0bpXri-3KVei"
   },
   "source": [
    "### 2) Read the csv file."
   ]
  },
  {
   "cell_type": "code",
   "execution_count": 303,
   "metadata": {
    "id": "XwzSYh42Kdej"
   },
   "outputs": [],
   "source": [
    "#your code here\n",
    "df = pd.read_csv('superheated_vapor_properties.csv')"
   ]
  },
  {
   "cell_type": "markdown",
   "metadata": {
    "id": "K72xx38QKeRU"
   },
   "source": [
    "### 3) Display shape of dataframe\n"
   ]
  },
  {
   "cell_type": "code",
   "execution_count": 304,
   "metadata": {
    "id": "YPqY3euIKoCk"
   },
   "outputs": [
    {
     "data": {
      "text/plain": [
       "(544, 37)"
      ]
     },
     "execution_count": 304,
     "metadata": {},
     "output_type": "execute_result"
    }
   ],
   "source": [
    "#your code here\n",
    "df.shape"
   ]
  },
  {
   "cell_type": "markdown",
   "metadata": {
    "id": "qJm2x6TMKolc"
   },
   "source": [
    "### 4) Print all columns of dataframe\n",
    "Return an array containing names of all the columns."
   ]
  },
  {
   "cell_type": "code",
   "execution_count": 305,
   "metadata": {
    "id": "ocVSOb3kKvQV"
   },
   "outputs": [
    {
     "name": "stdout",
     "output_type": "stream",
     "text": [
      "Pressure\n",
      "Property\n",
      "Liq_Sat\n",
      "Vap_Sat\n",
      "75\n",
      "100\n",
      "125\n",
      "150\n",
      "175\n",
      "200\n",
      "220\n",
      "225\n",
      "240\n",
      "250\n",
      "260\n",
      "275\n",
      "280\n",
      "290\n",
      "300\n",
      "320\n",
      "325\n",
      "340\n",
      "350\n",
      "360\n",
      "375\n",
      "380\n",
      "400\n",
      "425\n",
      "450\n",
      "475\n",
      "500\n",
      "525\n",
      "550\n",
      "575\n",
      "600\n",
      "625\n",
      "650\n"
     ]
    }
   ],
   "source": [
    "#your code here\n",
    "for col in df.columns:\n",
    "    print(col)"
   ]
  },
  {
   "cell_type": "markdown",
   "metadata": {
    "id": "HE0-ugnfKvl9"
   },
   "source": [
    "### 5) Display the number of null values in each column of the dataframe"
   ]
  },
  {
   "cell_type": "code",
   "execution_count": 311,
   "metadata": {
    "id": "xU-1sxGCK7UF"
   },
   "outputs": [
    {
     "data": {
      "text/plain": [
       "Pressure      0\n",
       "Property      0\n",
       "Liq_Sat       0\n",
       "Vap_Sat       0\n",
       "75          528\n",
       "100         508\n",
       "125         488\n",
       "150         448\n",
       "175         384\n",
       "200         320\n",
       "220         408\n",
       "225         400\n",
       "240         408\n",
       "250         344\n",
       "260         384\n",
       "275         340\n",
       "280         380\n",
       "290         488\n",
       "300          60\n",
       "320         480\n",
       "325         136\n",
       "340         476\n",
       "350          68\n",
       "360         476\n",
       "375         204\n",
       "380         476\n",
       "400           0\n",
       "425         204\n",
       "450           0\n",
       "475         204\n",
       "500           0\n",
       "525         272\n",
       "550           0\n",
       "575         340\n",
       "600           0\n",
       "625         476\n",
       "650           0\n",
       "dtype: int64"
      ]
     },
     "execution_count": 311,
     "metadata": {},
     "output_type": "execute_result"
    }
   ],
   "source": [
    "#your code here\n",
    "d = df.isnull()\n",
    "nd=d.sum()\n",
    "nd"
   ]
  },
  {
   "cell_type": "markdown",
   "metadata": {
    "id": "04L2giwTLElt"
   },
   "source": [
    "###  6) Print a list of all the unique items in the Property column"
   ]
  },
  {
   "cell_type": "code",
   "execution_count": 307,
   "metadata": {
    "id": "Svgs2agDLYxt"
   },
   "outputs": [
    {
     "data": {
      "text/plain": [
       "['V', 'U', 'H', 'S']"
      ]
     },
     "execution_count": 307,
     "metadata": {},
     "output_type": "execute_result"
    }
   ],
   "source": [
    "#your code here\n",
    "S = []\n",
    "for Property in df['Property']:\n",
    "    if Property not in S:\n",
    "        S.append(Property)\n",
    "S"
   ]
  },
  {
   "cell_type": "markdown",
   "metadata": {
    "id": "68YuzJ5zXJAx"
   },
   "source": [
    "### 7) Create a column which contains the Pressure and Property columns, seperated with 'at' (For eg. V at 1, H at 101.325). Using this print the following:\n",
    "- Enthalpy at 75 kPa and 573 K\n",
    "- Entropy at 493 K and 250 kPa"
   ]
  },
  {
   "cell_type": "code",
   "execution_count": 308,
   "metadata": {
    "id": "igpYFRjLXLiZ"
   },
   "outputs": [
    {
     "name": "stdout",
     "output_type": "stream",
     "text": [
      "nan 3132.4\n"
     ]
    }
   ],
   "source": [
    "#your code here\n",
    "for i in range(0,543):\n",
    "    if df.iloc[i]['Pressure']==75:\n",
    "        j=1\n",
    "    if df.iloc[i]['Pressure']==250:\n",
    "        k=1\n",
    "print(df.iloc[j]['575'],df.iloc[k]['500'])"
   ]
  },
  {
   "cell_type": "markdown",
   "metadata": {
    "id": "SR7p7NhNU2vy"
   },
   "source": [
    "### 8) Find out the column with the highest number of missing values"
   ]
  },
  {
   "cell_type": "code",
   "execution_count": 314,
   "metadata": {
    "id": "Jj4cUag7WZYB"
   },
   "outputs": [
    {
     "name": "stdout",
     "output_type": "stream",
     "text": [
      "75\n"
     ]
    }
   ],
   "source": [
    "#your code here\n",
    "b = nd.index\n",
    "for i in range(37):\n",
    "    if nd[i]==nd.max():\n",
    "        break\n",
    "print(b[i])"
   ]
  },
  {
   "cell_type": "markdown",
   "metadata": {
    "id": "yL9loV4IWZwp"
   },
   "source": [
    "### 9) What is the average enthalpy of Sat. Liq. at all different pressures in the dataset ?"
   ]
  },
  {
   "cell_type": "code",
   "execution_count": 315,
   "metadata": {
    "id": "WjOwyU89WlwR"
   },
   "outputs": [
    {
     "data": {
      "text/plain": [
       "468.2353709558824"
      ]
     },
     "execution_count": 315,
     "metadata": {},
     "output_type": "execute_result"
    }
   ],
   "source": [
    "#your code here\n",
    "sum = df['Liq_Sat'].sum()\n",
    "avg = sum/544\n",
    "avg"
   ]
  },
  {
   "cell_type": "markdown",
   "metadata": {
    "id": "PfUPj9e7Wmkx"
   },
   "source": [
    "### 10) Separate out the V,U,H,S data from the dataset into V_data, U_data, H_data, S_data"
   ]
  },
  {
   "cell_type": "code",
   "execution_count": 316,
   "metadata": {
    "id": "Qoy0rPpUW2lp"
   },
   "outputs": [],
   "source": [
    "#your code here\n",
    "V_data=pd.DataFrame()\n",
    "V_data_Pressure=[]\n",
    "V_data_Liq_Sat=[]\n",
    "V_data_Vap_Sat=[]\n",
    "H_data=pd.DataFrame()\n",
    "H_data_Pressure=[]\n",
    "H_data_Liq_Sat=[]\n",
    "H_data_Vap_Sat=[]\n",
    "U_data=pd.DataFrame()\n",
    "U_data_Pressure=[]\n",
    "U_data_Liq_Sat=[]\n",
    "U_data_Vap_Sat=[]\n",
    "S_data=pd.DataFrame()\n",
    "S_data_Pressure=[]\n",
    "S_data_Liq_Sat=[]\n",
    "S_data_Vap_Sat=[]\n",
    "for i in range(543):\n",
    "    if df.iloc[i]['Property']=='V':\n",
    "        V_data_Pressure.append(df.iloc[i]['Pressure'])\n",
    "        V_data_Liq_Sat.append(df.iloc[i]['Liq_Sat'])\n",
    "        V_data_Vap_Sat.append(df.iloc[i]['Vap_Sat'])\n",
    "    V_data = pd.DataFrame(V_data_Pressure, columns=['Pressure'])\n",
    "    V_data['Liq_Sat'] = V_data_Liq_Sat\n",
    "    V_data['Vap_Sat'] = V_data_Vap_Sat\n",
    "    if df.iloc[i]['Property']=='V':\n",
    "        H_data_Pressure.append(df.iloc[i]['Pressure'])\n",
    "        H_data_Liq_Sat.append(df.iloc[i]['Liq_Sat'])\n",
    "        H_data_Vap_Sat.append(df.iloc[i]['Vap_Sat'])\n",
    "    H_data = pd.DataFrame(H_data_Pressure, columns=['Pressure'])\n",
    "    H_data['Liq_Sat'] = H_data_Liq_Sat\n",
    "    H_data['Vap_Sat'] = H_data_Vap_Sat\n",
    "    if df.iloc[i]['Property']=='U':\n",
    "        U_data_Pressure.append(df.iloc[i]['Pressure'])\n",
    "        U_data_Liq_Sat.append(df.iloc[i]['Liq_Sat'])\n",
    "        U_data_Vap_Sat.append(df.iloc[i]['Vap_Sat'])\n",
    "    U_data = pd.DataFrame(U_data_Pressure, columns=['Pressure'])\n",
    "    U_data['Liq_Sat'] = U_data_Liq_Sat\n",
    "    U_data['Vap_Sat'] = U_data_Vap_Sat\n",
    "    if df.iloc[i]['Property']=='S':\n",
    "        S_data_Pressure.append(df.iloc[i]['Pressure'])\n",
    "        S_data_Liq_Sat.append(df.iloc[i]['Liq_Sat'])\n",
    "        S_data_Vap_Sat.append(df.iloc[i]['Vap_Sat'])\n",
    "    S_data = pd.DataFrame(S_data_Pressure, columns=['Pressure'])\n",
    "    S_data['Liq_Sat'] = S_data_Liq_Sat\n",
    "    S_data['Vap_Sat'] = S_data_Vap_Sat"
   ]
  },
  {
   "cell_type": "code",
   "execution_count": 317,
   "metadata": {},
   "outputs": [
    {
     "data": {
      "text/html": [
       "<div>\n",
       "<style scoped>\n",
       "    .dataframe tbody tr th:only-of-type {\n",
       "        vertical-align: middle;\n",
       "    }\n",
       "\n",
       "    .dataframe tbody tr th {\n",
       "        vertical-align: top;\n",
       "    }\n",
       "\n",
       "    .dataframe thead th {\n",
       "        text-align: right;\n",
       "    }\n",
       "</style>\n",
       "<table border=\"1\" class=\"dataframe\">\n",
       "  <thead>\n",
       "    <tr style=\"text-align: right;\">\n",
       "      <th></th>\n",
       "      <th>Pressure</th>\n",
       "      <th>Liq_Sat</th>\n",
       "      <th>Vap_Sat</th>\n",
       "    </tr>\n",
       "  </thead>\n",
       "  <tbody>\n",
       "    <tr>\n",
       "      <th>0</th>\n",
       "      <td>1.0</td>\n",
       "      <td>0.1060</td>\n",
       "      <td>8.9767</td>\n",
       "    </tr>\n",
       "    <tr>\n",
       "      <th>1</th>\n",
       "      <td>10.0</td>\n",
       "      <td>0.6493</td>\n",
       "      <td>8.1511</td>\n",
       "    </tr>\n",
       "    <tr>\n",
       "      <th>2</th>\n",
       "      <td>20.0</td>\n",
       "      <td>0.8321</td>\n",
       "      <td>7.9094</td>\n",
       "    </tr>\n",
       "    <tr>\n",
       "      <th>3</th>\n",
       "      <td>30.0</td>\n",
       "      <td>0.9441</td>\n",
       "      <td>7.7695</td>\n",
       "    </tr>\n",
       "    <tr>\n",
       "      <th>4</th>\n",
       "      <td>40.0</td>\n",
       "      <td>1.0261</td>\n",
       "      <td>7.6709</td>\n",
       "    </tr>\n",
       "    <tr>\n",
       "      <th>...</th>\n",
       "      <td>...</td>\n",
       "      <td>...</td>\n",
       "      <td>...</td>\n",
       "    </tr>\n",
       "    <tr>\n",
       "      <th>130</th>\n",
       "      <td>10400.0</td>\n",
       "      <td>3.3889</td>\n",
       "      <td>5.5955</td>\n",
       "    </tr>\n",
       "    <tr>\n",
       "      <th>131</th>\n",
       "      <td>10600.0</td>\n",
       "      <td>3.4029</td>\n",
       "      <td>5.5835</td>\n",
       "    </tr>\n",
       "    <tr>\n",
       "      <th>132</th>\n",
       "      <td>10800.0</td>\n",
       "      <td>3.4167</td>\n",
       "      <td>5.5715</td>\n",
       "    </tr>\n",
       "    <tr>\n",
       "      <th>133</th>\n",
       "      <td>11000.0</td>\n",
       "      <td>3.4304</td>\n",
       "      <td>5.5595</td>\n",
       "    </tr>\n",
       "    <tr>\n",
       "      <th>134</th>\n",
       "      <td>11200.0</td>\n",
       "      <td>3.4440</td>\n",
       "      <td>5.5476</td>\n",
       "    </tr>\n",
       "  </tbody>\n",
       "</table>\n",
       "<p>135 rows × 3 columns</p>\n",
       "</div>"
      ],
      "text/plain": [
       "     Pressure  Liq_Sat  Vap_Sat\n",
       "0         1.0   0.1060   8.9767\n",
       "1        10.0   0.6493   8.1511\n",
       "2        20.0   0.8321   7.9094\n",
       "3        30.0   0.9441   7.7695\n",
       "4        40.0   1.0261   7.6709\n",
       "..        ...      ...      ...\n",
       "130   10400.0   3.3889   5.5955\n",
       "131   10600.0   3.4029   5.5835\n",
       "132   10800.0   3.4167   5.5715\n",
       "133   11000.0   3.4304   5.5595\n",
       "134   11200.0   3.4440   5.5476\n",
       "\n",
       "[135 rows x 3 columns]"
      ]
     },
     "execution_count": 317,
     "metadata": {},
     "output_type": "execute_result"
    }
   ],
   "source": [
    "S_data"
   ]
  },
  {
   "cell_type": "markdown",
   "metadata": {
    "id": "0IqKY_vvW216"
   },
   "source": [
    "### 11) Plot the properties (specific volume, specific internal energy, specific enthalpy, specific entropy) vs Pressure for saturated liquid.\n",
    "\n",
    "Note: \n",
    "- Try using the subplot feature of matplotlib(Explore it!!)\n",
    "- Provide appropriate title, labels, markersize and other parameters to the plot "
   ]
  },
  {
   "cell_type": "code",
   "execution_count": 318,
   "metadata": {
    "id": "ZsUW7kZzXeKR"
   },
   "outputs": [
    {
     "data": {
      "image/png": "[encoded data removed]",
      "text/plain": [
       "<Figure size 432x288 with 4 Axes>"
      ]
     },
     "metadata": {
      "needs_background": "light"
     },
     "output_type": "display_data"
    }
   ],
   "source": [
    "#your code here\n",
    "plt.subplot(2,2,1)\n",
    "plt.plot(V_data['Pressure'],V_data['Liq_Sat'])\n",
    "plt.subplot(2,2,2)\n",
    "plt.plot(H_data['Pressure'],H_data['Liq_Sat'])\n",
    "plt.subplot(2,2,3)\n",
    "plt.plot(U_data['Pressure'],U_data['Liq_Sat'])\n",
    "plt.subplot(2,2,4)\n",
    "plt.plot(S_data['Pressure'],S_data['Liq_Sat'])\n",
    "plt.show()"
   ]
  },
  {
   "cell_type": "markdown",
   "metadata": {
    "id": "Ds33LC6dXema"
   },
   "source": [
    "### 12) Plot the same for saturated vapor."
   ]
  },
  {
   "cell_type": "code",
   "execution_count": 319,
   "metadata": {
    "id": "TRy2Tb_GXqcp"
   },
   "outputs": [
    {
     "data": {
      "image/png": "[encoded data removed]",
      "text/plain": [
       "<Figure size 432x288 with 4 Axes>"
      ]
     },
     "metadata": {
      "needs_background": "light"
     },
     "output_type": "display_data"
    }
   ],
   "source": [
    "#your code here\n",
    "plt.subplot(2,2,1)\n",
    "plt.plot(V_data['Pressure'],V_data['Vap_Sat'])\n",
    "plt.subplot(2,2,2)\n",
    "plt.plot(H_data['Pressure'],H_data['Vap_Sat'])\n",
    "plt.subplot(2,2,3)\n",
    "plt.plot(U_data['Pressure'],U_data['Vap_Sat'])\n",
    "plt.subplot(2,2,4)\n",
    "plt.plot(S_data['Pressure'],S_data['Vap_Sat'])\n",
    "plt.show()"
   ]
  },
  {
   "cell_type": "markdown",
   "metadata": {
    "id": "ate8hMAkYCph"
   },
   "source": [
    "### 13) Plot the specific volume of saturated liquid between 300 kPa and 1500 kPa"
   ]
  },
  {
   "cell_type": "code",
   "execution_count": 320,
   "metadata": {
    "id": "pbBwBWxGZhAz"
   },
   "outputs": [
    {
     "data": {
      "image/png": "[encoded data removed]",
      "text/plain": [
       "<Figure size 432x288 with 1 Axes>"
      ]
     },
     "metadata": {
      "needs_background": "light"
     },
     "output_type": "display_data"
    }
   ],
   "source": [
    "#your code here\n",
    "V_data_small=pd.DataFrame()\n",
    "P_small=[]\n",
    "SV_small=[]\n",
    "for i in range(134):\n",
    "    if V_data.iloc[i]['Pressure']>=300 and V_data.iloc[i]['Pressure']<=1500:\n",
    "        P_small.append(V_data.iloc[i]['Pressure'])\n",
    "        SV_small.append(V_data.iloc[i]['Liq_Sat'])\n",
    "V_data_small=pd.DataFrame(P_small,columns=['Pressure'])\n",
    "V_data_small['SV']=SV_small\n",
    "plt.plot(V_data_small['Pressure'],V_data_small['SV'])\n",
    "plt.show()"
   ]
  },
  {
   "cell_type": "markdown",
   "metadata": {
    "id": "KeUT5_QFWySs"
   },
   "source": [
    "## Playing with Numpy"
   ]
  },
  {
   "cell_type": "markdown",
   "metadata": {
    "id": "xTFgCWtqdZSi"
   },
   "source": [
    "### 14) Implement the derivative of the sigmoid function using numpy. \n",
    "\n",
    "Note: \n",
    "- Read about sigmoid function over the internet.\n",
    "- Input of the function can be a scalar or a numpy array.\n",
    "\n",
    "**Test Case:**\n",
    "\n",
    "**Input:**\n",
    "\n",
    " [[9, 2, 5, 0, 0]\n",
    "\n",
    "   [7, 5, 0, 0, 0]]\n",
    "\n",
    "Output:\n",
    "\n",
    "[[0.99987661, 0.88079708, 0.99330715, 0.5, 0.5 ]\n",
    "\n",
    "[0.99908895, 0.99330715, 0.5,  0.5,  0.5 ]]"
   ]
  },
  {
   "cell_type": "code",
   "execution_count": 321,
   "metadata": {
    "id": "BMLOKdEQdg_J"
   },
   "outputs": [
    {
     "data": {
      "text/plain": [
       "[[0.9998766054240137, 0.8807970779778823, 0.9933071490757153, 0.5, 0.5],\n",
       " [0.9990889488055994, 0.9933071490757153, 0.5, 0.5, 0.5]]"
      ]
     },
     "execution_count": 321,
     "metadata": {},
     "output_type": "execute_result"
    }
   ],
   "source": [
    "#your code here\n",
    "def Sigmoid(lst):\n",
    "    list1=[]\n",
    "    list2=[]\n",
    "    for l in lst[0]:\n",
    "        list1.append(1/(1+np.exp(-l)))\n",
    "    for l in lst[1]:\n",
    "        list2.append(1/(1+np.exp(-l)))\n",
    "    list = [list1,list2]\n",
    "    return list\n",
    "Sigmoid([[9, 2, 5, 0, 0],[7, 5, 0, 0, 0]])"
   ]
  },
  {
   "cell_type": "markdown",
   "metadata": {
    "id": "0nJ76FFIeTKq"
   },
   "source": [
    "### 15) Define a function which takes in a a numpy array of shape (length, height, depth) and returns a vector of shape (length\\*height*depth, 1)\n"
   ]
  },
  {
   "cell_type": "code",
   "execution_count": 322,
   "metadata": {
    "id": "e6XecJLkeUmK"
   },
   "outputs": [
    {
     "data": {
      "text/plain": [
       "(6, 1)"
      ]
     },
     "execution_count": 322,
     "metadata": {},
     "output_type": "execute_result"
    }
   ],
   "source": [
    "#your code here\n",
    "def function(list):\n",
    "    \n",
    "    v = np.array(list)\n",
    "    lst=[]\n",
    "    a=v[0]*v[1]*v[2]\n",
    "    lst.append([a])\n",
    "    for i in range(a-1):\n",
    "        lst.append([1])\n",
    "    v2=np.array(lst)\n",
    "    return v2.shape\n",
    "function([1,2,3])"
   ]
  },
  {
   "cell_type": "markdown",
   "metadata": {
    "id": "TyyKAFLGdHtx"
   },
   "source": [
    "### 16) Define a softmax function that calculates the softmax for each row of the input x.\n",
    "\n",
    "Note:\n",
    "- The code should work for a row vector and also for matrices of shape (n, m)\n",
    "\n",
    "**Test Case:**\n",
    "\n",
    "**Input:**\n",
    "\n",
    " [[9 2 5 0 0]\n",
    "\n",
    "   [7 5 0 0 0]]\n",
    "\n",
    "Output:\n",
    "\n",
    "[[9.80897665e-01 8.94462891e-04 1.79657674e-02 1.21052389e-04\n",
    "  1.21052389e-04]\n",
    "\n",
    " [8.78679856e-01 1.18916387e-01 8.01252314e-04 8.01252314e-04\n",
    "  8.01252314e-04]]"
   ]
  },
  {
   "cell_type": "code",
   "execution_count": 323,
   "metadata": {
    "id": "wvcifD48dYsC"
   },
   "outputs": [],
   "source": [
    "#your code here\n",
    "def softmax(lst):\n",
    "    list1=[]\n",
    "    list2=[]\n",
    "    sum=0\n",
    "    for x in lst[0]:\n",
    "        sum = sum + np.exp(x)\n",
    "    for x in lst[0]:\n",
    "        list1.append(np.exp(x)/sum)\n",
    "    sum = 0\n",
    "    for x in lst[1]:\n",
    "        sum = sum + np.exp(x)\n",
    "    for x in lst[1]:\n",
    "        list2.append(np.exp(x)/sum)\n",
    "    list = [list1,list2]\n",
    "    return list"
   ]
  },
  {
   "cell_type": "code",
   "execution_count": 324,
   "metadata": {},
   "outputs": [
    {
     "data": {
      "text/plain": [
       "[[0.9808976649146187,\n",
       "  0.0008944628906901777,\n",
       "  0.017965767417378736,\n",
       "  0.00012105238865619453,\n",
       "  0.00012105238865619453],\n",
       " [0.87867985588699,\n",
       "  0.11891638717077183,\n",
       "  0.0008012523140793875,\n",
       "  0.0008012523140793875,\n",
       "  0.0008012523140793875]]"
      ]
     },
     "execution_count": 324,
     "metadata": {},
     "output_type": "execute_result"
    }
   ],
   "source": [
    "softmax([[9, 2, 5, 0, 0],[7, 5, 0, 0, 0]])"
   ]
  }
 ],
 "metadata": {
  "colab": {
   "provenance": []
  },
  "kernelspec": {
   "display_name": "Python 3 (ipykernel)",
   "language": "python",
   "name": "python3"
  },
  "language_info": {
   "codemirror_mode": {
    "name": "ipython",
    "version": 3
   },
   "file_extension": ".py",
   "mimetype": "text/x-python",
   "name": "python",
   "nbconvert_exporter": "python",
   "pygments_lexer": "ipython3",
   "version": "3.10.4"
  }
 },
 "nbformat": 4,
 "nbformat_minor": 1
}
