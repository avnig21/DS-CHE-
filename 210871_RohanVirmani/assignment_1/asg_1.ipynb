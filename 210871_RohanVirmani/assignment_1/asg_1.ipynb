{
  "cells": [
    {
      "cell_type": "markdown",
      "metadata": {
        "id": "tIol1e9EzB-Z"
      },
      "source": [
        "# DS : CHE\n",
        "\n"
      ]
    },
    {
      "cell_type": "markdown",
      "metadata": {
        "id": "lV7ZG3lKzB-d"
      },
      "source": [
        "# Week-1 Assignment"
      ]
    },
    {
      "cell_type": "markdown",
      "metadata": {
        "id": "rLK_mGZlJ_Y_"
      },
      "source": [
        "**Welcome to your first assignment of SimuTech Winter Project 2022! I hope you are excited to implement and test everything you have learnt up until now. The dataset which you'll use includes information about properties of superheated vapor.**\n",
        "\n",
        "The dataset consists of the thermophysical properties: specific volume, specific internal energy, specific enthalpy, specific entropy of superheated vapor.\n",
        "\n",
        "Pressure is in kPa and Temperature in centigrade. In the dataframe 75, 100, 125 are temperatures.\n",
        "\n",
        "**There are some interesting set of questions for you to get a basic understanding of pandas and data visualization libraries. GOOD LUCK!**\n",
        "\n",
        "\n",
        "***Let's get started with importing numpy, pandas and matplotlib!***"
      ]
    },
    {
      "cell_type": "markdown",
      "metadata": {
        "id": "3urmJxE7KKVj"
      },
      "source": [
        "### 1) Import all the libraries"
      ]
    },
    {
      "cell_type": "code",
      "execution_count": null,
      "metadata": {
        "id": "2kLDKA3bKGMD"
      },
      "outputs": [],
      "source": [
        "#your code here\n",
        "import pandas as pd\n",
        "import matplotlib.pyplot as plt\n",
        "import numpy as np"
      ]
    },
    {
      "cell_type": "markdown",
      "metadata": {
        "id": "0bpXri-3KVei"
      },
      "source": [
        "### 2) Read the csv file."
      ]
    },
    {
      "cell_type": "code",
      "execution_count": null,
      "metadata": {
        "colab": {
          "base_uri": "https://localhost:8080/",
          "height": 74
        },
        "id": "XwzSYh42Kdej",
        "outputId": "7321c0b4-b332-4880-f57f-f1d9223090a5"
      },
      "outputs": [
        {
          "data": {
            "text/html": [
              "\n",
              "     <input type=\"file\" id=\"files-0ad47ca6-c953-46db-833b-e6a293c95ee3\" name=\"files[]\" multiple disabled\n",
              "        style=\"border:none\" />\n",
              "     <output id=\"result-0ad47ca6-c953-46db-833b-e6a293c95ee3\">\n",
              "      Upload widget is only available when the cell has been executed in the\n",
              "      current browser session. Please rerun this cell to enable.\n",
              "      </output>\n",
              "      <script>// Copyright 2017 Google LLC\n",
              "//\n",
              "// Licensed under the Apache License, Version 2.0 (the \"License\");\n",
              "// you may not use this file except in compliance with the License.\n",
              "// You may obtain a copy of the License at\n",
              "//\n",
              "//      http://www.apache.org/licenses/LICENSE-2.0\n",
              "//\n",
              "// Unless required by applicable law or agreed to in writing, software\n",
              "// distributed under the License is distributed on an \"AS IS\" BASIS,\n",
              "// WITHOUT WARRANTIES OR CONDITIONS OF ANY KIND, either express or implied.\n",
              "// See the License for the specific language governing permissions and\n",
              "// limitations under the License.\n",
              "\n",
              "/**\n",
              " * @fileoverview Helpers for google.colab Python module.\n",
              " */\n",
              "(function(scope) {\n",
              "function span(text, styleAttributes = {}) {\n",
              "  const element = document.createElement('span');\n",
              "  element.textContent = text;\n",
              "  for (const key of Object.keys(styleAttributes)) {\n",
              "    element.style[key] = styleAttributes[key];\n",
              "  }\n",
              "  return element;\n",
              "}\n",
              "\n",
              "// Max number of bytes which will be uploaded at a time.\n",
              "const MAX_PAYLOAD_SIZE = 100 * 1024;\n",
              "\n",
              "function _uploadFiles(inputId, outputId) {\n",
              "  const steps = uploadFilesStep(inputId, outputId);\n",
              "  const outputElement = document.getElementById(outputId);\n",
              "  // Cache steps on the outputElement to make it available for the next call\n",
              "  // to uploadFilesContinue from Python.\n",
              "  outputElement.steps = steps;\n",
              "\n",
              "  return _uploadFilesContinue(outputId);\n",
              "}\n",
              "\n",
              "// This is roughly an async generator (not supported in the browser yet),\n",
              "// where there are multiple asynchronous steps and the Python side is going\n",
              "// to poll for completion of each step.\n",
              "// This uses a Promise to block the python side on completion of each step,\n",
              "// then passes the result of the previous step as the input to the next step.\n",
              "function _uploadFilesContinue(outputId) {\n",
              "  const outputElement = document.getElementById(outputId);\n",
              "  const steps = outputElement.steps;\n",
              "\n",
              "  const next = steps.next(outputElement.lastPromiseValue);\n",
              "  return Promise.resolve(next.value.promise).then((value) => {\n",
              "    // Cache the last promise value to make it available to the next\n",
              "    // step of the generator.\n",
              "    outputElement.lastPromiseValue = value;\n",
              "    return next.value.response;\n",
              "  });\n",
              "}\n",
              "\n",
              "/**\n",
              " * Generator function which is called between each async step of the upload\n",
              " * process.\n",
              " * @param {string} inputId Element ID of the input file picker element.\n",
              " * @param {string} outputId Element ID of the output display.\n",
              " * @return {!Iterable<!Object>} Iterable of next steps.\n",
              " */\n",
              "function* uploadFilesStep(inputId, outputId) {\n",
              "  const inputElement = document.getElementById(inputId);\n",
              "  inputElement.disabled = false;\n",
              "\n",
              "  const outputElement = document.getElementById(outputId);\n",
              "  outputElement.innerHTML = '';\n",
              "\n",
              "  const pickedPromise = new Promise((resolve) => {\n",
              "    inputElement.addEventListener('change', (e) => {\n",
              "      resolve(e.target.files);\n",
              "    });\n",
              "  });\n",
              "\n",
              "  const cancel = document.createElement('button');\n",
              "  inputElement.parentElement.appendChild(cancel);\n",
              "  cancel.textContent = 'Cancel upload';\n",
              "  const cancelPromise = new Promise((resolve) => {\n",
              "    cancel.onclick = () => {\n",
              "      resolve(null);\n",
              "    };\n",
              "  });\n",
              "\n",
              "  // Wait for the user to pick the files.\n",
              "  const files = yield {\n",
              "    promise: Promise.race([pickedPromise, cancelPromise]),\n",
              "    response: {\n",
              "      action: 'starting',\n",
              "    }\n",
              "  };\n",
              "\n",
              "  cancel.remove();\n",
              "\n",
              "  // Disable the input element since further picks are not allowed.\n",
              "  inputElement.disabled = true;\n",
              "\n",
              "  if (!files) {\n",
              "    return {\n",
              "      response: {\n",
              "        action: 'complete',\n",
              "      }\n",
              "    };\n",
              "  }\n",
              "\n",
              "  for (const file of files) {\n",
              "    const li = document.createElement('li');\n",
              "    li.append(span(file.name, {fontWeight: 'bold'}));\n",
              "    li.append(span(\n",
              "        `(${file.type || 'n/a'}) - ${file.size} bytes, ` +\n",
              "        `last modified: ${\n",
              "            file.lastModifiedDate ? file.lastModifiedDate.toLocaleDateString() :\n",
              "                                    'n/a'} - `));\n",
              "    const percent = span('0% done');\n",
              "    li.appendChild(percent);\n",
              "\n",
              "    outputElement.appendChild(li);\n",
              "\n",
              "    const fileDataPromise = new Promise((resolve) => {\n",
              "      const reader = new FileReader();\n",
              "      reader.onload = (e) => {\n",
              "        resolve(e.target.result);\n",
              "      };\n",
              "      reader.readAsArrayBuffer(file);\n",
              "    });\n",
              "    // Wait for the data to be ready.\n",
              "    let fileData = yield {\n",
              "      promise: fileDataPromise,\n",
              "      response: {\n",
              "        action: 'continue',\n",
              "      }\n",
              "    };\n",
              "\n",
              "    // Use a chunked sending to avoid message size limits. See b/62115660.\n",
              "    let position = 0;\n",
              "    do {\n",
              "      const length = Math.min(fileData.byteLength - position, MAX_PAYLOAD_SIZE);\n",
              "      const chunk = new Uint8Array(fileData, position, length);\n",
              "      position += length;\n",
              "\n",
              "      const base64 = btoa(String.fromCharCode.apply(null, chunk));\n",
              "      yield {\n",
              "        response: {\n",
              "          action: 'append',\n",
              "          file: file.name,\n",
              "          data: base64,\n",
              "        },\n",
              "      };\n",
              "\n",
              "      let percentDone = fileData.byteLength === 0 ?\n",
              "          100 :\n",
              "          Math.round((position / fileData.byteLength) * 100);\n",
              "      percent.textContent = `${percentDone}% done`;\n",
              "\n",
              "    } while (position < fileData.byteLength);\n",
              "  }\n",
              "\n",
              "  // All done.\n",
              "  yield {\n",
              "    response: {\n",
              "      action: 'complete',\n",
              "    }\n",
              "  };\n",
              "}\n",
              "\n",
              "scope.google = scope.google || {};\n",
              "scope.google.colab = scope.google.colab || {};\n",
              "scope.google.colab._files = {\n",
              "  _uploadFiles,\n",
              "  _uploadFilesContinue,\n",
              "};\n",
              "})(self);\n",
              "</script> "
            ],
            "text/plain": [
              "<IPython.core.display.HTML object>"
            ]
          },
          "metadata": {},
          "output_type": "display_data"
        },
        {
          "name": "stdout",
          "output_type": "stream",
          "text": [
            "Saving superheated_vapor_properties.csv to superheated_vapor_properties.csv\n"
          ]
        }
      ],
      "source": [
        "#your code here\n",
        "from google.colab import files\n",
        "uploaded=files.upload()"
      ]
    },
    {
      "cell_type": "markdown",
      "metadata": {
        "id": "K72xx38QKeRU"
      },
      "source": [
        "### 3) Display shape of dataframe\n"
      ]
    },
    {
      "cell_type": "code",
      "execution_count": null,
      "metadata": {
        "colab": {
          "base_uri": "https://localhost:8080/"
        },
        "id": "YPqY3euIKoCk",
        "outputId": "6a5a3fb5-0811-473a-ee11-e9ec47a0e20d"
      },
      "outputs": [
        {
          "data": {
            "text/plain": [
              "(544, 37)"
            ]
          },
          "execution_count": 3,
          "metadata": {},
          "output_type": "execute_result"
        }
      ],
      "source": [
        "#your code here\n",
        "df=pd.read_csv('superheated_vapor_properties.csv')\n",
        "df.shape"
      ]
    },
    {
      "cell_type": "markdown",
      "metadata": {
        "id": "qJm2x6TMKolc"
      },
      "source": [
        "### 4) Print all columns of dataframe\n",
        "Return an array containing names of all the columns."
      ]
    },
    {
      "cell_type": "code",
      "execution_count": null,
      "metadata": {
        "colab": {
          "base_uri": "https://localhost:8080/"
        },
        "id": "ocVSOb3kKvQV",
        "outputId": "2f8c7c74-6cfd-4279-f750-6cfcba6c2600"
      },
      "outputs": [
        {
          "data": {
            "text/plain": [
              "Index(['Pressure', 'Property', 'Liq_Sat', 'Vap_Sat', '75', '100', '125', '150',\n",
              "       '175', '200', '220', '225', '240', '250', '260', '275', '280', '290',\n",
              "       '300', '320', '325', '340', '350', '360', '375', '380', '400', '425',\n",
              "       '450', '475', '500', '525', '550', '575', '600', '625', '650'],\n",
              "      dtype='object')"
            ]
          },
          "execution_count": 4,
          "metadata": {},
          "output_type": "execute_result"
        }
      ],
      "source": [
        "#your code here\n",
        "df.columns"
      ]
    },
    {
      "cell_type": "markdown",
      "metadata": {
        "id": "HE0-ugnfKvl9"
      },
      "source": [
        "### 5) Display the number of null values in each column of the dataframe"
      ]
    },
    {
      "cell_type": "code",
      "execution_count": null,
      "metadata": {
        "colab": {
          "base_uri": "https://localhost:8080/"
        },
        "id": "xU-1sxGCK7UF",
        "outputId": "e83ea455-b233-4302-e277-f7ffc37b47a7"
      },
      "outputs": [
        {
          "data": {
            "text/plain": [
              "Pressure      0\n",
              "Property      0\n",
              "Liq_Sat       0\n",
              "Vap_Sat       0\n",
              "75          528\n",
              "100         508\n",
              "125         488\n",
              "150         448\n",
              "175         384\n",
              "200         320\n",
              "220         408\n",
              "225         400\n",
              "240         408\n",
              "250         344\n",
              "260         384\n",
              "275         340\n",
              "280         380\n",
              "290         488\n",
              "300          60\n",
              "320         480\n",
              "325         136\n",
              "340         476\n",
              "350          68\n",
              "360         476\n",
              "375         204\n",
              "380         476\n",
              "400           0\n",
              "425         204\n",
              "450           0\n",
              "475         204\n",
              "500           0\n",
              "525         272\n",
              "550           0\n",
              "575         340\n",
              "600           0\n",
              "625         476\n",
              "650           0\n",
              "dtype: int64"
            ]
          },
          "execution_count": 5,
          "metadata": {},
          "output_type": "execute_result"
        }
      ],
      "source": [
        "#your code here\n",
        "df.isna().sum()"
      ]
    },
    {
      "cell_type": "markdown",
      "metadata": {
        "id": "04L2giwTLElt"
      },
      "source": [
        "###  6) Print a list of all the unique items in the Property column"
      ]
    },
    {
      "cell_type": "code",
      "execution_count": null,
      "metadata": {
        "colab": {
          "base_uri": "https://localhost:8080/"
        },
        "id": "Svgs2agDLYxt",
        "outputId": "9b9d8e5a-5132-46fa-df96-b8fd8753790d"
      },
      "outputs": [
        {
          "data": {
            "text/plain": [
              "array(['V', 'U', 'H', 'S'], dtype=object)"
            ]
          },
          "execution_count": 6,
          "metadata": {},
          "output_type": "execute_result"
        }
      ],
      "source": [
        "#your code here\n",
        "df.Property.unique()"
      ]
    },
    {
      "cell_type": "markdown",
      "metadata": {
        "id": "68YuzJ5zXJAx"
      },
      "source": [
        "### 7) Create a column which contains the Pressure and Property columns, seperated with 'at' (For eg. V at 1, H at 101.325). Using this print the following:\n",
        "- Enthalpy at 75 kPa and 573 K\n",
        "- Entropy at 493 K and 250 kPa"
      ]
    },
    {
      "cell_type": "code",
      "execution_count": null,
      "metadata": {
        "colab": {
          "base_uri": "https://localhost:8080/"
        },
        "id": "igpYFRjLXLiZ",
        "outputId": "67846588-1c37-4b88-da6d-793e574ab6c3"
      },
      "outputs": [
        {
          "name": "stdout",
          "output_type": "stream",
          "text": [
            "26    3075.1\n",
            "Name: 300, dtype: float64\n",
            "59   NaN\n",
            "Name: 220, dtype: float64\n"
          ]
        }
      ],
      "source": [
        "#your code here\n",
        "new=[]\n",
        "for i in range(544):\n",
        "  new.append(df['Property'][i]+' at ' + str(df['Pressure'][i]))\n",
        "df['Press and prop'] = new\n",
        "ans=df[df['Press and prop']=='H at 75.0']\n",
        "print(ans['300'])\n",
        "ans=df[df['Press and prop']=='S at 250.0']\n",
        "print(ans['220'])\n"
      ]
    },
    {
      "cell_type": "markdown",
      "metadata": {
        "id": "SR7p7NhNU2vy"
      },
      "source": [
        "### 8) Find out the column with the highest number of missing values"
      ]
    },
    {
      "cell_type": "code",
      "execution_count": null,
      "metadata": {
        "colab": {
          "base_uri": "https://localhost:8080/",
          "height": 36
        },
        "id": "Jj4cUag7WZYB",
        "outputId": "7b883b9f-fdee-49ac-90d7-f13e4898102d"
      },
      "outputs": [
        {
          "data": {
            "application/vnd.google.colaboratory.intrinsic+json": {
              "type": "string"
            },
            "text/plain": [
              "'Pressure'"
            ]
          },
          "execution_count": 26,
          "metadata": {},
          "output_type": "execute_result"
        }
      ],
      "source": [
        "#your code here\n",
        "df.count().idxmax()"
      ]
    },
    {
      "cell_type": "markdown",
      "metadata": {
        "id": "yL9loV4IWZwp"
      },
      "source": [
        "### 9) What is the average enthalpy of Sat. Liq. at all different pressures in the dataset ?"
      ]
    },
    {
      "cell_type": "code",
      "execution_count": null,
      "metadata": {
        "colab": {
          "base_uri": "https://localhost:8080/"
        },
        "id": "WjOwyU89WlwR",
        "outputId": "831ad2df-d3c3-4b16-9203-99ed61be73b7"
      },
      "outputs": [
        {
          "name": "stdout",
          "output_type": "stream",
          "text": [
            "average enthalpy of Sat. Liq. at all different pressures\n",
            "936.9707720588237\n"
          ]
        }
      ],
      "source": [
        "#your code here\n",
        "print('average enthalpy of Sat. Liq. at all different pressures')\n",
        "x=len(df.Pressure)\n",
        "s=0\n",
        "n=0\n",
        "for i in range(x):\n",
        "  if df['Property'][i]=='H':\n",
        "    #print(df['Pressure'][i],'--',df['Liq_Sat'][i])\n",
        "    n+=1\n",
        "    s+=df['Liq_Sat'][i]\n",
        "print(s/n)    "
      ]
    },
    {
      "cell_type": "markdown",
      "metadata": {
        "id": "PfUPj9e7Wmkx"
      },
      "source": [
        "### 10) Separate out the V,U,H,S data from the dataset into V_data, U_data, H_data, S_data"
      ]
    },
    {
      "cell_type": "code",
      "execution_count": null,
      "metadata": {
        "id": "Qoy0rPpUW2lp"
      },
      "outputs": [],
      "source": [
        "#your code here\n",
        "V_data=df[df['Property']=='V']\n",
        "U_data=df[df['Property']=='U']\n",
        "H_data=df[df['Property']=='H']\n",
        "S_data=df[df['Property']=='S']"
      ]
    },
    {
      "cell_type": "markdown",
      "metadata": {
        "id": "0IqKY_vvW216"
      },
      "source": [
        "### 11) Plot the properties (specific volume, specific internal energy, specific enthalpy, specific entropy) vs Pressure for saturated liquid.\n",
        "\n",
        "Note: \n",
        "- Try using the subplot feature of matplotlib(Explore it!!)\n",
        "- Provide appropriate title, labels, markersize and other parameters to the plot "
      ]
    },
    {
      "cell_type": "code",
      "execution_count": null,
      "metadata": {
        "colab": {
          "base_uri": "https://localhost:8080/",
          "height": 303
        },
        "id": "ZsUW7kZzXeKR",
        "outputId": "d6ce30eb-ab60-42e8-d19e-1fe13a3d70d4"
      },
      "outputs": [
        {
          "data": {
            "image/png": "[encoded data removed]",
            "text/plain": [
              "<Figure size 432x288 with 4 Axes>"
            ]
          },
          "metadata": {
            "needs_background": "light"
          },
          "output_type": "display_data"
        }
      ],
      "source": [
        "#your code here\n",
        "import matplotlib.pyplot as plt\n",
        "figure, axis = plt.subplots(2, 2)\n",
        "\n",
        "axis[0, 0].plot(V_data['Pressure'],V_data['Liq_Sat'],color='green',label='V')\n",
        "axis[0, 0].set_title(\"vol vs press\")\n",
        "axis[0,0].legend(loc='upper left')\n",
        "axis[0, 1].plot(U_data['Pressure'],U_data['Liq_Sat'],label='U')\n",
        "axis[0, 1].set_title(\"U vs press\")\n",
        "axis[0,1].legend(loc='lower right')\n",
        "axis[1, 0].plot(H_data['Pressure'],H_data['Liq_Sat'],color='pink',marker='.',label='H')\n",
        "axis[1, 0].set_title(\"H vs press\")\n",
        "axis[1,0].legend(loc='lower right')\n",
        "axis[1, 1].plot(S_data['Pressure'],S_data['Liq_Sat'],color='black',marker='*',label='S')\n",
        "axis[1, 1].set_title(\"S vs press\")\n",
        "axis[1,1].legend(loc='lower right')\n",
        "plt.suptitle(\"   prop.s of sat_liq\",color='r')\n",
        "figure.tight_layout(pad=1)\n",
        "\n",
        "\n",
        "plt.show()"
      ]
    },
    {
      "cell_type": "markdown",
      "metadata": {
        "id": "Ds33LC6dXema"
      },
      "source": [
        "### 12) Plot the same for saturated vapor."
      ]
    },
    {
      "cell_type": "code",
      "execution_count": null,
      "metadata": {
        "colab": {
          "base_uri": "https://localhost:8080/",
          "height": 303
        },
        "id": "TRy2Tb_GXqcp",
        "outputId": "a9c014ff-336a-43fe-938d-df9f18ef924e"
      },
      "outputs": [
        {
          "data": {
            "image/png": "[encoded data removed]",
            "text/plain": [
              "<Figure size 432x288 with 4 Axes>"
            ]
          },
          "metadata": {
            "needs_background": "light"
          },
          "output_type": "display_data"
        }
      ],
      "source": [
        "#your code here\n",
        "import matplotlib.pyplot as plt\n",
        "figure, axis = plt.subplots(2, 2)\n",
        "\n",
        "axis[0, 0].plot(V_data['Pressure'],V_data['Vap_Sat'],color='green',label='V')\n",
        "axis[0, 0].set_title(\"vol vs press\")\n",
        "axis[0,0].legend(loc='upper left')\n",
        "axis[0, 1].plot(U_data['Pressure'],U_data['Vap_Sat'],label='U')\n",
        "axis[0, 1].set_title(\"U vs press\")\n",
        "axis[0,1].legend(loc='lower right')\n",
        "axis[1, 0].plot(H_data['Pressure'],H_data['Vap_Sat'],color='pink',marker='.',label='H')\n",
        "axis[1, 0].set_title(\"H vs press\")\n",
        "axis[1,0].legend(loc='lower right')\n",
        "axis[1, 1].plot(S_data['Pressure'],S_data['Vap_Sat'],color='black',marker='*',label='S')\n",
        "axis[1, 1].set_title(\"S vs press\")\n",
        "axis[1,1].legend(loc='lower right')\n",
        "plt.suptitle(\"   prop.s of sat_liq\",color='r')\n",
        "figure.tight_layout(pad=1)\n",
        "\n",
        "\n",
        "plt.show()"
      ]
    },
    {
      "cell_type": "markdown",
      "metadata": {
        "id": "ate8hMAkYCph"
      },
      "source": [
        "### 13) Plot the specific volume of saturated liquid between 300 kPa and 1500 kPa"
      ]
    },
    {
      "cell_type": "code",
      "execution_count": null,
      "metadata": {
        "colab": {
          "base_uri": "https://localhost:8080/",
          "height": 265
        },
        "id": "pbBwBWxGZhAz",
        "outputId": "de191780-9796-471f-9419-8f34f330d189"
      },
      "outputs": [
        {
          "data": {
            "image/png": "[encoded data removed]",
            "text/plain": [
              "<Figure size 432x288 with 1 Axes>"
            ]
          },
          "metadata": {
            "needs_background": "light"
          },
          "output_type": "display_data"
        }
      ],
      "source": [
        "#your code here\n",
        "new_data=V_data[V_data['Pressure']>300  ]\n",
        "new_data=new_data[new_data['Pressure']<1500  ]\n",
        "plt.plot(new_data['Pressure'],new_data['Liq_Sat'])\n",
        "plt.show()"
      ]
    },
    {
      "cell_type": "markdown",
      "metadata": {
        "id": "KeUT5_QFWySs"
      },
      "source": [
        "## Playing with Numpy"
      ]
    },
    {
      "cell_type": "markdown",
      "metadata": {
        "id": "xTFgCWtqdZSi"
      },
      "source": [
        "### 14) Implement the derivative of the sigmoid function using numpy. \n",
        "\n",
        "Note: \n",
        "- Read about sigmoid function over the internet.\n",
        "- Input of the function can be a scalar or a numpy array.\n",
        "\n",
        "**Test Case:**\n",
        "\n",
        "**Input:**\n",
        "\n",
        " [[9, 2, 5, 0, 0]\n",
        "\n",
        "   [7, 5, 0, 0, 0]]\n",
        "\n",
        "Output:\n",
        "\n",
        "[[0.99987661, 0.88079708, 0.99330715, 0.5, 0.5 ]\n",
        "\n",
        "[0.99908895, 0.99330715, 0.5,  0.5,  0.5 ]]"
      ]
    },
    {
      "cell_type": "code",
      "execution_count": null,
      "metadata": {
        "colab": {
          "base_uri": "https://localhost:8080/"
        },
        "id": "BMLOKdEQdg_J",
        "outputId": "9651e58e-befe-407f-873d-fa97041d5e6f"
      },
      "outputs": [
        {
          "data": {
            "text/plain": [
              "[[0.99987661, 0.88079708, 0.99330715, 0.5, 0.5],\n",
              " [0.99908895, 0.99330715, 0.5, 0.5, 0.5]]"
            ]
          },
          "execution_count": 32,
          "metadata": {},
          "output_type": "execute_result"
        }
      ],
      "source": [
        "#your code here\n",
        "import numpy as np\n",
        "def sigmoid(l):\n",
        "  s=l\n",
        "  for i in range(len(l)):\n",
        "    for d in range(len(l[i])):\n",
        "      \n",
        "      s[i][d]= round(1/(1 + np.exp(-1*l[i][d])),8)\n",
        "  return s\n",
        "l=[[9, 2, 5, 0, 0],[7, 5, 0, 0, 0]]  ### we can take any input of any shape\n",
        "ans=sigmoid(l)\n",
        "ans\n"
      ]
    },
    {
      "cell_type": "markdown",
      "metadata": {
        "id": "0nJ76FFIeTKq"
      },
      "source": [
        "### 15) Define a function which takes in a a numpy array of shape (length, height, depth) and returns a vector of shape (length\\*height*depth, 1)\n"
      ]
    },
    {
      "cell_type": "code",
      "execution_count": null,
      "metadata": {
        "colab": {
          "base_uri": "https://localhost:8080/"
        },
        "id": "e6XecJLkeUmK",
        "outputId": "39b80263-f10d-4900-b3c1-19428c0b384d"
      },
      "outputs": [
        {
          "name": "stdout",
          "output_type": "stream",
          "text": [
            "length: 2\n",
            "height: 3\n",
            "depth: 4\n"
          ]
        },
        {
          "data": {
            "text/plain": [
              "array([[0],\n",
              "       [0],\n",
              "       [0],\n",
              "       [0],\n",
              "       [0],\n",
              "       [0],\n",
              "       [0],\n",
              "       [0],\n",
              "       [0],\n",
              "       [0],\n",
              "       [0],\n",
              "       [0],\n",
              "       [0],\n",
              "       [0],\n",
              "       [0],\n",
              "       [0],\n",
              "       [0],\n",
              "       [0],\n",
              "       [0],\n",
              "       [0],\n",
              "       [0],\n",
              "       [0],\n",
              "       [0],\n",
              "       [0]])"
            ]
          },
          "execution_count": 34,
          "metadata": {},
          "output_type": "execute_result"
        }
      ],
      "source": [
        "\n",
        "import numpy as np\n",
        "l = int(input(\"length: \"))\n",
        "h = int(input(\"height: \"))\n",
        "d = int(input(\"depth: \"))\n",
        "mylist= [[[0 for l1 in range(l)]for h1 in range(h)] for d1 in range(d)]\n",
        "arr1 = np.array(mylist)\n",
        "\n",
        "\n",
        "arr1 = arr1.reshape((arr1.shape[0]*arr1.shape[1]*arr1.shape[2], 1)) \n",
        "\n",
        "arr1"
      ]
    },
    {
      "cell_type": "markdown",
      "metadata": {
        "id": "TyyKAFLGdHtx"
      },
      "source": [
        "### 16) Define a softmax function that calculates the softmax for each row of the input x.\n",
        "\n",
        "Note:\n",
        "- The code should work for a row vector and also for matrices of shape (n, m)\n",
        "\n",
        "**Test Case:**\n",
        "\n",
        "**Input:**\n",
        "\n",
        " [[9 2 5 0 0]\n",
        "\n",
        "   [7 5 0 0 0]]\n",
        "\n",
        "Output:\n",
        "\n",
        "[[9.80897665e-01 8.94462891e-04 1.79657674e-02 1.21052389e-04\n",
        "  1.21052389e-04]\n",
        "\n",
        " [8.78679856e-01 1.18916387e-01 8.01252314e-04 8.01252314e-04\n",
        "  8.01252314e-04]]"
      ]
    },
    {
      "cell_type": "code",
      "execution_count": null,
      "metadata": {
        "colab": {
          "base_uri": "https://localhost:8080/"
        },
        "id": "wvcifD48dYsC",
        "outputId": "0bce913d-5fe7-4cde-f8a5-d6c8aee2dab7"
      },
      "outputs": [
        {
          "data": {
            "text/plain": [
              "[array([9.80897665e-01, 8.94462891e-04, 1.79657674e-02, 1.21052389e-04,\n",
              "        1.21052389e-04]),\n",
              " array([8.78679856e-01, 1.18916387e-01, 8.01252314e-04, 8.01252314e-04,\n",
              "        8.01252314e-04])]"
            ]
          },
          "execution_count": 35,
          "metadata": {},
          "output_type": "execute_result"
        }
      ],
      "source": [
        "#your code here\n",
        "import numpy as np\n",
        "\n",
        "def softmax(x):\n",
        "  ans=x\n",
        "  for i in range(len(x)):\n",
        "    e_x = np.exp(x[i] )\n",
        "    ans[i]= e_x / e_x.sum()\n",
        "  return ans\n",
        "l=[[9, 2, 5, 0, 0],[7, 5, 0, 0, 0]]  ### any input of any shape\n",
        "\n",
        "\n",
        "ans=softmax(l)\n",
        "ans"
      ]
    }
  ],
  "metadata": {
    "colab": {
      "provenance": []
    },
    "kernelspec": {
      "display_name": "Python 3",
      "language": "python",
      "name": "python3"
    },
    "language_info": {
      "codemirror_mode": {
        "name": "ipython",
        "version": 3
      },
      "file_extension": ".py",
      "mimetype": "text/x-python",
      "name": "python",
      "nbconvert_exporter": "python",
      "pygments_lexer": "ipython3",
      "version": "3.7.6"
    }
  },
  "nbformat": 4,
  "nbformat_minor": 0
}
