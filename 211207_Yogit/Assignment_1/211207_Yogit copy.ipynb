{
 "cells": [
  {
   "cell_type": "markdown",
   "metadata": {
    "id": "tIol1e9EzB-Z"
   },
   "source": [
    "# DS : CHE\n",
    "\n"
   ]
  },
  {
   "cell_type": "markdown",
   "metadata": {
    "id": "lV7ZG3lKzB-d"
   },
   "source": [
    "# Week-1 Assignment"
   ]
  },
  {
   "cell_type": "markdown",
   "metadata": {
    "id": "rLK_mGZlJ_Y_"
   },
   "source": [
    "**Welcome to your first assignment of SimuTech Winter Project 2022! I hope you are excited to implement and test everything you have learnt up until now. The dataset which you'll use includes information about properties of superheated vapor.**\n",
    "\n",
    "The dataset consists of the thermophysical properties: specific volume, specific internal energy, specific enthalpy, specific entropy of superheated vapor.\n",
    "\n",
    "Pressure is in kPa and Temperature in centigrade. In the dataframe 75, 100, 125 are temperatures.\n",
    "\n",
    "**There are some interesting set of questions for you to get a basic understanding of pandas and data visualization libraries. GOOD LUCK!**\n",
    "\n",
    "\n",
    "***Let's get started with importing numpy, pandas and matplotlib!***"
   ]
  },
  {
   "cell_type": "markdown",
   "metadata": {
    "id": "3urmJxE7KKVj"
   },
   "source": [
    "### 1) Import all the libraries"
   ]
  },
  {
   "cell_type": "code",
   "execution_count": 19,
   "metadata": {
    "id": "2kLDKA3bKGMD"
   },
   "outputs": [],
   "source": [
    "#your code here\n",
    "import numpy as np\n",
    "import matplotlib.pyplot as plt\n",
    "import pandas as pd"
   ]
  },
  {
   "cell_type": "markdown",
   "metadata": {
    "id": "0bpXri-3KVei"
   },
   "source": [
    "### 2) Read the csv file."
   ]
  },
  {
   "cell_type": "code",
   "execution_count": 20,
   "metadata": {
    "id": "XwzSYh42Kdej",
    "scrolled": true
   },
   "outputs": [],
   "source": [
    "#your code here\n",
    "dataset = pd.read_csv('superheated_vapor_properties.csv')"
   ]
  },
  {
   "cell_type": "markdown",
   "metadata": {
    "id": "K72xx38QKeRU"
   },
   "source": [
    "### 3) Display shape of dataframe\n"
   ]
  },
  {
   "cell_type": "code",
   "execution_count": 21,
   "metadata": {
    "id": "YPqY3euIKoCk"
   },
   "outputs": [
    {
     "name": "stdout",
     "output_type": "stream",
     "text": [
      "(544, 37)\n"
     ]
    }
   ],
   "source": [
    "#your code here\n",
    "print(dataset.shape)"
   ]
  },
  {
   "cell_type": "markdown",
   "metadata": {
    "id": "qJm2x6TMKolc"
   },
   "source": [
    "### 4) Print all columns of dataframe\n",
    "Return an array containing names of all the columns."
   ]
  },
  {
   "cell_type": "code",
   "execution_count": 22,
   "metadata": {
    "id": "ocVSOb3kKvQV"
   },
   "outputs": [
    {
     "name": "stdout",
     "output_type": "stream",
     "text": [
      "Index(['Pressure', 'Property', 'Liq_Sat', 'Vap_Sat', '75', '100', '125', '150',\n",
      "       '175', '200', '220', '225', '240', '250', '260', '275', '280', '290',\n",
      "       '300', '320', '325', '340', '350', '360', '375', '380', '400', '425',\n",
      "       '450', '475', '500', '525', '550', '575', '600', '625', '650'],\n",
      "      dtype='object')\n"
     ]
    }
   ],
   "source": [
    "#your code here\n",
    "print(dataset.columns)"
   ]
  },
  {
   "cell_type": "markdown",
   "metadata": {
    "id": "HE0-ugnfKvl9"
   },
   "source": [
    "### 5) Display the number of null values in each column of the dataframe"
   ]
  },
  {
   "cell_type": "code",
   "execution_count": 23,
   "metadata": {
    "id": "xU-1sxGCK7UF"
   },
   "outputs": [
    {
     "data": {
      "text/plain": [
       "Pressure      0\n",
       "Property      0\n",
       "Liq_Sat       0\n",
       "Vap_Sat       0\n",
       "75          528\n",
       "100         508\n",
       "125         488\n",
       "150         448\n",
       "175         384\n",
       "200         320\n",
       "220         408\n",
       "225         400\n",
       "240         408\n",
       "250         344\n",
       "260         384\n",
       "275         340\n",
       "280         380\n",
       "290         488\n",
       "300          60\n",
       "320         480\n",
       "325         136\n",
       "340         476\n",
       "350          68\n",
       "360         476\n",
       "375         204\n",
       "380         476\n",
       "400           0\n",
       "425         204\n",
       "450           0\n",
       "475         204\n",
       "500           0\n",
       "525         272\n",
       "550           0\n",
       "575         340\n",
       "600           0\n",
       "625         476\n",
       "650           0\n",
       "dtype: int64"
      ]
     },
     "execution_count": 23,
     "metadata": {},
     "output_type": "execute_result"
    }
   ],
   "source": [
    "#your code here\n",
    "dataset.isna().sum(axis = 0)"
   ]
  },
  {
   "cell_type": "markdown",
   "metadata": {
    "id": "04L2giwTLElt"
   },
   "source": [
    "###  6) Print a list of all the unique items in the Property column"
   ]
  },
  {
   "cell_type": "code",
   "execution_count": 24,
   "metadata": {
    "id": "Svgs2agDLYxt"
   },
   "outputs": [
    {
     "data": {
      "text/plain": [
       "array(['V', 'U', 'H', 'S'], dtype=object)"
      ]
     },
     "execution_count": 24,
     "metadata": {},
     "output_type": "execute_result"
    }
   ],
   "source": [
    "#your code here\n",
    "dataset[\"Property\"].unique()"
   ]
  },
  {
   "cell_type": "markdown",
   "metadata": {
    "id": "68YuzJ5zXJAx"
   },
   "source": [
    "### 7) Create a column which contains the Pressure and Property columns, seperated with 'at' (For eg. V at 1, H at 101.325). Using this print the following:\n",
    "- Enthalpy at 75 kPa and 573 K\n",
    "- Entropy at 493 K and 250 kPa"
   ]
  },
  {
   "cell_type": "code",
   "execution_count": 25,
   "metadata": {
    "id": "igpYFRjLXLiZ"
   },
   "outputs": [
    {
     "name": "stdout",
     "output_type": "stream",
     "text": [
      "26    3075.1\n",
      "Name: 300, dtype: float64\n",
      "59   NaN\n",
      "Name: 220, dtype: float64\n"
     ]
    }
   ],
   "source": [
    "#your code here\n",
    "dataset[\"Property_at_Press\"] = dataset[\"Property\"] +\" at \"+ dataset[\"Pressure\"].astype(str)\n",
    "# print(dataset[\"Property_at_Press\"])\n",
    "print(dataset.loc[(dataset[\"Property_at_Press\"] == \"H at 75.0\"),\"300\"])\n",
    "print(dataset.loc[(dataset[\"Property_at_Press\"] == \"S at 250.0\"),\"220\"])"
   ]
  },
  {
   "cell_type": "markdown",
   "metadata": {
    "id": "SR7p7NhNU2vy"
   },
   "source": [
    "### 8) Find out the column with the highest number of missing values"
   ]
  },
  {
   "cell_type": "code",
   "execution_count": 26,
   "metadata": {
    "id": "Jj4cUag7WZYB"
   },
   "outputs": [
    {
     "data": {
      "text/plain": [
       "'75'"
      ]
     },
     "execution_count": 26,
     "metadata": {},
     "output_type": "execute_result"
    }
   ],
   "source": [
    "#your code here#your code here\n",
    "dataset.count().idxmin()"
   ]
  },
  {
   "cell_type": "markdown",
   "metadata": {
    "id": "yL9loV4IWZwp"
   },
   "source": [
    "### 9) What is the average enthalpy of Sat. Liq. at all different pressures in the dataset ?"
   ]
  },
  {
   "cell_type": "code",
   "execution_count": 27,
   "metadata": {
    "id": "WjOwyU89WlwR"
   },
   "outputs": [
    {
     "name": "stdout",
     "output_type": "stream",
     "text": [
      "936.9707720588237\n"
     ]
    }
   ],
   "source": [
    "#your code here\n",
    "sum = 0.0;\n",
    "count = 0;\n",
    "for x in range(dataset.shape[0]):\n",
    "  if(dataset[\"Property\"][x] == 'H'):\n",
    "    sum = sum + dataset[\"Liq_Sat\"][x]\n",
    "    count = count +1;\n",
    "print(sum/count)"
   ]
  },
  {
   "cell_type": "markdown",
   "metadata": {
    "id": "PfUPj9e7Wmkx"
   },
   "source": [
    "### 10) Separate out the V,U,H,S data from the dataset into V_data, U_data, H_data, S_data"
   ]
  },
  {
   "cell_type": "code",
   "execution_count": 28,
   "metadata": {
    "id": "Qoy0rPpUW2lp"
   },
   "outputs": [],
   "source": [
    "#your code here\n",
    "V_data = dataset.loc[(dataset[\"Property\"] == \"V\"),:]\n",
    "U_data = dataset.loc[(dataset[\"Property\"] == \"U\"),:]\n",
    "H_data = dataset.loc[(dataset[\"Property\"] == \"H\"),:]\n",
    "S_data = dataset.loc[(dataset[\"Property\"] == \"S\"),:]"
   ]
  },
  {
   "cell_type": "code",
   "execution_count": 29,
   "metadata": {},
   "outputs": [
    {
     "data": {
      "text/plain": [
       "936.9707720588237"
      ]
     },
     "execution_count": 29,
     "metadata": {},
     "output_type": "execute_result"
    }
   ],
   "source": [
    "#ANOTHER METHOD TO CALCULATE THE MEAN USING THIS SEPRATED DATA\n",
    "H_data.Liq_Sat.mean()"
   ]
  },
  {
   "cell_type": "markdown",
   "metadata": {
    "id": "0IqKY_vvW216"
   },
   "source": [
    "### 11) Plot the properties (specific volume, specific internal energy, specific enthalpy, specific entropy) vs Pressure for saturated liquid.\n",
    "\n",
    "Note: \n",
    "- Try using the subplot feature of matplotlib(Explore it!!)\n",
    "- Provide appropriate title, labels, markersize and other parameters to the plot "
   ]
  },
  {
   "cell_type": "code",
   "execution_count": 30,
   "metadata": {
    "id": "ZsUW7kZzXeKR"
   },
   "outputs": [
    {
     "data": {
      "image/png": "[encoded data removed]",
      "text/plain": [
       "<Figure size 640x480 with 4 Axes>"
      ]
     },
     "metadata": {},
     "output_type": "display_data"
    }
   ],
   "source": [
    "#your code here\n",
    "x_v = V_data[\"Pressure\"]\n",
    "y_v = V_data[\"Liq_Sat\"]\n",
    "plt.subplot(2,2,1)\n",
    "plt.plot(x_v,y_v)\n",
    "plt.xlabel(\"Pressure\")\n",
    "plt.ylabel(\"Specific Volume\")\n",
    "plt.suptitle(\"Saturated Liquid\")\n",
    "\n",
    "x_h = H_data[\"Pressure\"]\n",
    "y_h = H_data[\"Liq_Sat\"]\n",
    "plt.subplot(2,2,2)\n",
    "plt.plot(x_h,y_h)\n",
    "plt.xlabel(\"Pressure\")\n",
    "plt.ylabel(\"Specific Enthalpy\")\n",
    "\n",
    "x_u = U_data[\"Pressure\"]\n",
    "y_u = U_data[\"Liq_Sat\"]\n",
    "plt.subplot(2,2,3)\n",
    "plt.plot(x_u,y_u)\n",
    "plt.xlabel(\"Pressure\")\n",
    "plt.ylabel(\"Specific Internal Energy\")\n",
    "\n",
    "x_s = S_data[\"Pressure\"]\n",
    "y_s = S_data[\"Liq_Sat\"]\n",
    "plt.subplot(2,2,4)\n",
    "plt.plot(x_s,y_s)\n",
    "plt.xlabel(\"Pressure\")\n",
    "plt.ylabel(\"Specific Entropy\")\n",
    "plt.tight_layout(rect=[0, 0.02, 1, 0.95])"
   ]
  },
  {
   "cell_type": "markdown",
   "metadata": {
    "id": "Ds33LC6dXema"
   },
   "source": [
    "### 12) Plot the same for saturated vapor."
   ]
  },
  {
   "cell_type": "code",
   "execution_count": 31,
   "metadata": {
    "id": "TRy2Tb_GXqcp"
   },
   "outputs": [
    {
     "data": {
      "image/png": "[encoded data removed]",
      "text/plain": [
       "<Figure size 640x480 with 4 Axes>"
      ]
     },
     "metadata": {},
     "output_type": "display_data"
    }
   ],
   "source": [
    "#your code here\n",
    "plt.suptitle(\"Saturated Liquid\")\n",
    "x_v = V_data[\"Pressure\"]\n",
    "y_v = V_data[\"Vap_Sat\"]\n",
    "plt.subplot(2,2,1)\n",
    "plt.plot(x_v,y_v)\n",
    "plt.xlabel(\"Pressure\")\n",
    "plt.ylabel(\"Specific Volume\")\n",
    "\n",
    "x_u = U_data[\"Pressure\"]\n",
    "y_u = U_data[\"Vap_Sat\"]\n",
    "plt.subplot(2,2,2)\n",
    "plt.plot(x_u,y_u)\n",
    "plt.xlabel(\"Pressure\")\n",
    "plt.ylabel(\"Specific Enthalpy\")\n",
    "\n",
    "x_h = H_data[\"Pressure\"]\n",
    "y_h = H_data[\"Vap_Sat\"]\n",
    "plt.subplot(2,2,3)\n",
    "plt.plot(x_h,y_h)\n",
    "plt.xlabel(\"Pressure\")\n",
    "plt.ylabel(\"Specific Internal Energy\")\n",
    "\n",
    "x_s = S_data[\"Pressure\"]\n",
    "y_s = S_data[\"Vap_Sat\"]\n",
    "plt.subplot(2,2,4)\n",
    "plt.plot(x_s,y_s)\n",
    "plt.xlabel(\"Pressure\")\n",
    "plt.ylabel(\"Specific Entropy\")\n",
    "plt.tight_layout(rect=[0, 0.02, 1, 0.95])"
   ]
  },
  {
   "cell_type": "markdown",
   "metadata": {
    "id": "ate8hMAkYCph"
   },
   "source": [
    "### 13) Plot the specific volume of saturated liquid between 300 kPa and 1500 kPa"
   ]
  },
  {
   "cell_type": "code",
   "execution_count": 14,
   "metadata": {
    "id": "pbBwBWxGZhAz"
   },
   "outputs": [
    {
     "data": {
      "text/plain": [
       "Text(0.5, 1.0, 'Saturated Liquid')"
      ]
     },
     "execution_count": 14,
     "metadata": {},
     "output_type": "execute_result"
    },
    {
     "data": {
      "image/png": "[encoded data removed]",
      "text/plain": [
       "<Figure size 640x480 with 1 Axes>"
      ]
     },
     "metadata": {},
     "output_type": "display_data"
    }
   ],
   "source": [
    "#your code here\n",
    "x_v = V_data[\"Pressure\"]\n",
    "y_v = V_data[\"Liq_Sat\"]\n",
    "plt.xlim(300,1500)\n",
    "plt.plot(x_v,y_v)\n",
    "plt.xlabel(\"Pressure\")\n",
    "plt.ylabel(\"Specific Volume\")\n",
    "plt.title(\"Saturated Liquid\")"
   ]
  },
  {
   "cell_type": "markdown",
   "metadata": {
    "id": "KeUT5_QFWySs"
   },
   "source": [
    "## Playing with Numpy"
   ]
  },
  {
   "cell_type": "markdown",
   "metadata": {
    "id": "xTFgCWtqdZSi"
   },
   "source": [
    "### 14) Implement the derivative of the sigmoid function using numpy. \n",
    "\n",
    "Note: \n",
    "- Read about sigmoid function over the internet.\n",
    "- Input of the function can be a scalar or a numpy array.\n",
    "\n",
    "**Test Case:**\n",
    "\n",
    "**Input:**\n",
    "\n",
    " [[9, 2, 5, 0, 0]\n",
    "\n",
    "   [7, 5, 0, 0, 0]]\n",
    "\n",
    "Output:\n",
    "\n",
    "[[0.99987661, 0.88079708, 0.99330715, 0.5, 0.5 ]\n",
    "\n",
    "[0.99908895, 0.99330715, 0.5,  0.5,  0.5 ]]"
   ]
  },
  {
   "cell_type": "code",
   "execution_count": 32,
   "metadata": {
    "id": "BMLOKdEQdg_J"
   },
   "outputs": [
    {
     "name": "stdout",
     "output_type": "stream",
     "text": [
      "Value of Sigmoid:\n",
      " [[0.99987661 0.88079708 0.99330715 0.5        0.5       ]\n",
      " [0.99908895 0.99330715 0.5        0.5        0.5       ]] \n",
      "\n",
      "Value of derivate of Sigmoid:\n",
      " [[1.23379350e-04 1.04993585e-01 6.64805667e-03 2.50000000e-01\n",
      "  2.50000000e-01]\n",
      " [9.10221180e-04 6.64805667e-03 2.50000000e-01 2.50000000e-01\n",
      "  2.50000000e-01]]\n"
     ]
    }
   ],
   "source": [
    "#your code here\n",
    "z = np.array([[9, 2, 5, 0, 0],[7, 5, 0, 0, 0]])\n",
    "sigmoid = 1 / (1 + np.exp(-z))\n",
    "derivate_of_sigmoid = (sigmoid)*(1-sigmoid)\n",
    "print(\"Value of Sigmoid:\\n\",sigmoid,'\\n')\n",
    "print(\"Value of derivate of Sigmoid:\\n\",derivate_of_sigmoid)"
   ]
  },
  {
   "cell_type": "markdown",
   "metadata": {
    "id": "0nJ76FFIeTKq"
   },
   "source": [
    "### 15) Define a function which takes in a a numpy array of shape (length, height, depth) and returns a vector of shape (length\\*height*depth, 1)\n"
   ]
  },
  {
   "cell_type": "code",
   "execution_count": 16,
   "metadata": {
    "id": "e6XecJLkeUmK"
   },
   "outputs": [
    {
     "data": {
      "text/plain": [
       "array([ 0,  1,  2,  3,  4,  5,  6,  7,  8,  9, 10, 11, 12, 13, 14, 15, 16,\n",
       "       17, 18, 19, 20, 21, 22, 23, 24, 25, 26])"
      ]
     },
     "execution_count": 16,
     "metadata": {},
     "output_type": "execute_result"
    }
   ],
   "source": [
    "#your code here\n",
    "def fun(array):\n",
    "  a = np.array(array)\n",
    "  return a.flat[:]\n",
    "b = np.arange(27).reshape(3,3,3)\n",
    "fun(b)"
   ]
  },
  {
   "cell_type": "code",
   "execution_count": 18,
   "metadata": {},
   "outputs": [
    {
     "data": {
      "text/plain": [
       "(27,)"
      ]
     },
     "execution_count": 18,
     "metadata": {},
     "output_type": "execute_result"
    }
   ],
   "source": [
    "fun(b).shape"
   ]
  },
  {
   "cell_type": "markdown",
   "metadata": {
    "id": "TyyKAFLGdHtx"
   },
   "source": [
    "### 16) Define a softmax function that calculates the softmax for each row of the input x.\n",
    "\n",
    "Note:\n",
    "- The code should work for a row vector and also for matrices of shape (n, m)\n",
    "\n",
    "**Test Case:**\n",
    "\n",
    "**Input:**\n",
    "\n",
    " [[9 2 5 0 0]\n",
    "\n",
    "   [7 5 0 0 0]]\n",
    "\n",
    "Output:\n",
    "\n",
    "[[9.80897665e-01 8.94462891e-04 1.79657674e-02 1.21052389e-04\n",
    "  1.21052389e-04]\n",
    "\n",
    " [8.78679856e-01 1.18916387e-01 8.01252314e-04 8.01252314e-04\n",
    "  8.01252314e-04]]"
   ]
  },
  {
   "cell_type": "code",
   "execution_count": 17,
   "metadata": {
    "id": "wvcifD48dYsC"
   },
   "outputs": [
    {
     "name": "stdout",
     "output_type": "stream",
     "text": [
      "[[9.80897665e-01 8.94462891e-04 1.79657674e-02 1.21052389e-04\n",
      "  1.21052389e-04]\n",
      " [8.78679856e-01 1.18916387e-01 8.01252314e-04 8.01252314e-04\n",
      "  8.01252314e-04]]\n"
     ]
    }
   ],
   "source": [
    "#your code here\n",
    "def softmax(z):\n",
    "    assert len(z.shape) == 2\n",
    "    s = np.max(z, axis=1)\n",
    "    s = s[:, np.newaxis] # necessary step to do broadcasting\n",
    "    e_x = np.exp(z - s)\n",
    "    div = np.sum(e_x, axis=1)\n",
    "    div = div[:, np.newaxis] # dito\n",
    "    return e_x / div\n",
    "z = np.array([[9, 2, 5, 0, 0],[7, 5, 0, 0, 0]])\n",
    "print(softmax(z))"
   ]
  },
  {
   "cell_type": "code",
   "execution_count": null,
   "metadata": {},
   "outputs": [],
   "source": []
  },
  {
   "cell_type": "code",
   "execution_count": null,
   "metadata": {},
   "outputs": [],
   "source": []
  }
 ],
 "metadata": {
  "colab": {
   "provenance": []
  },
  "kernelspec": {
   "display_name": "Python 3 (ipykernel)",
   "language": "python",
   "name": "python3"
  },
  "language_info": {
   "codemirror_mode": {
    "name": "ipython",
    "version": 3
   },
   "file_extension": ".py",
   "mimetype": "text/x-python",
   "name": "python",
   "nbconvert_exporter": "python",
   "pygments_lexer": "ipython3",
   "version": "3.9.13"
  }
 },
 "nbformat": 4,
 "nbformat_minor": 1
}
