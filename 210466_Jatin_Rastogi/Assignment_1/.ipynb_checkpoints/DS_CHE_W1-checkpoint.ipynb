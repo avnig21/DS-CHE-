{
 "cells": [
  {
   "cell_type": "markdown",
   "metadata": {
    "colab_type": "text",
    "id": "view-in-github"
   },
   "source": [
    "<a href=\"https://colab.research.google.com/github/RastogiJ31/DS-CHE/blob/master/DS_CHE_W1.ipynb\" target=\"_parent\"><img src=\"https://colab.research.google.com/assets/colab-badge.svg\" alt=\"Open In Colab\"/></a>"
   ]
  },
  {
   "cell_type": "markdown",
   "metadata": {
    "id": "tIol1e9EzB-Z"
   },
   "source": [
    "# DS : CHE\n",
    "\n"
   ]
  },
  {
   "cell_type": "markdown",
   "metadata": {
    "id": "lV7ZG3lKzB-d"
   },
   "source": [
    "# Week-1 Assignment"
   ]
  },
  {
   "cell_type": "markdown",
   "metadata": {
    "id": "rLK_mGZlJ_Y_"
   },
   "source": [
    "**Welcome to your first assignment of SimuTech Winter Project 2022! I hope you are excited to implement and test everything you have learnt up until now. The dataset which you'll use includes information about properties of superheated vapor.**\n",
    "\n",
    "The dataset consists of the thermophysical properties: specific volume, specific internal energy, specific enthalpy, specific entropy of superheated vapor.\n",
    "\n",
    "Pressure is in kPa and Temperature in centigrade. In the dataframe 75, 100, 125 are temperatures.\n",
    "\n",
    "**There are some interesting set of questions for you to get a basic understanding of pandas and data visualization libraries. GOOD LUCK!**\n",
    "\n",
    "\n",
    "***Let's get started with importing numpy, pandas and matplotlib!***"
   ]
  },
  {
   "cell_type": "markdown",
   "metadata": {
    "id": "3urmJxE7KKVj"
   },
   "source": [
    "### 1) Import all the libraries"
   ]
  },
  {
   "cell_type": "code",
   "execution_count": 1,
   "metadata": {
    "id": "2kLDKA3bKGMD"
   },
   "outputs": [],
   "source": [
    "import pandas as pd\n",
    "import numpy as np\n",
    "import matplotlib.pyplot as plt\n"
   ]
  },
  {
   "cell_type": "markdown",
   "metadata": {
    "id": "0bpXri-3KVei"
   },
   "source": [
    "### 2) Read the csv file."
   ]
  },
  {
   "cell_type": "code",
   "execution_count": 2,
   "metadata": {
    "id": "XwzSYh42Kdej"
   },
   "outputs": [],
   "source": [
    "#your code here\n",
    "df=pd.read_csv('superheated_vapor_properties.csv')"
   ]
  },
  {
   "cell_type": "markdown",
   "metadata": {
    "id": "K72xx38QKeRU"
   },
   "source": [
    "### 3) Display shape of dataframe\n"
   ]
  },
  {
   "cell_type": "code",
   "execution_count": 3,
   "metadata": {
    "id": "YPqY3euIKoCk"
   },
   "outputs": [
    {
     "data": {
      "text/plain": [
       "(544, 37)"
      ]
     },
     "execution_count": 3,
     "metadata": {},
     "output_type": "execute_result"
    }
   ],
   "source": [
    "#your code here\n",
    "df.shape"
   ]
  },
  {
   "cell_type": "markdown",
   "metadata": {
    "id": "qJm2x6TMKolc"
   },
   "source": [
    "### 4) Print all columns of dataframe\n",
    "Return an array containing names of all the columns."
   ]
  },
  {
   "cell_type": "code",
   "execution_count": 4,
   "metadata": {
    "id": "ocVSOb3kKvQV"
   },
   "outputs": [
    {
     "name": "stdout",
     "output_type": "stream",
     "text": [
      "Empty DataFrame\n",
      "Columns: [Pressure, Property, Liq_Sat, Vap_Sat, 75, 100, 125, 150, 175, 200, 220, 225, 240, 250, 260, 275, 280, 290, 300, 320, 325, 340, 350, 360, 375, 380, 400, 425, 450, 475, 500, 525, 550, 575, 600, 625, 650]\n",
      "Index: []\n",
      "\n",
      "[0 rows x 37 columns]\n"
     ]
    }
   ],
   "source": [
    "#your code here\n",
    "print(df.head(0))"
   ]
  },
  {
   "cell_type": "markdown",
   "metadata": {
    "id": "HE0-ugnfKvl9"
   },
   "source": [
    "### 5) Display the number of null values in each column of the dataframe"
   ]
  },
  {
   "cell_type": "code",
   "execution_count": 5,
   "metadata": {
    "id": "xU-1sxGCK7UF",
    "scrolled": true
   },
   "outputs": [
    {
     "data": {
      "text/plain": [
       "Pressure      0\n",
       "Property      0\n",
       "Liq_Sat       0\n",
       "Vap_Sat       0\n",
       "75          528\n",
       "100         508\n",
       "125         488\n",
       "150         448\n",
       "175         384\n",
       "200         320\n",
       "220         408\n",
       "225         400\n",
       "240         408\n",
       "250         344\n",
       "260         384\n",
       "275         340\n",
       "280         380\n",
       "290         488\n",
       "300          60\n",
       "320         480\n",
       "325         136\n",
       "340         476\n",
       "350          68\n",
       "360         476\n",
       "375         204\n",
       "380         476\n",
       "400           0\n",
       "425         204\n",
       "450           0\n",
       "475         204\n",
       "500           0\n",
       "525         272\n",
       "550           0\n",
       "575         340\n",
       "600           0\n",
       "625         476\n",
       "650           0\n",
       "dtype: int64"
      ]
     },
     "execution_count": 5,
     "metadata": {},
     "output_type": "execute_result"
    }
   ],
   "source": [
    "#your code here\n",
    "final=df.isna().sum()\n",
    "final"
   ]
  },
  {
   "cell_type": "markdown",
   "metadata": {
    "id": "04L2giwTLElt"
   },
   "source": [
    "###  6) Print a list of all the unique items in the Property column"
   ]
  },
  {
   "cell_type": "code",
   "execution_count": 6,
   "metadata": {
    "id": "Svgs2agDLYxt"
   },
   "outputs": [
    {
     "data": {
      "text/plain": [
       "array(['V', 'U', 'H', 'S'], dtype=object)"
      ]
     },
     "execution_count": 6,
     "metadata": {},
     "output_type": "execute_result"
    }
   ],
   "source": [
    "#your code here\n",
    "df.Property.unique()"
   ]
  },
  {
   "cell_type": "markdown",
   "metadata": {
    "id": "68YuzJ5zXJAx"
   },
   "source": [
    "### 7) Create a column which contains the Pressure and Property columns, seperated with 'at' (For eg. V at 1, H at 101.325). Using this print the following:\n",
    "- Enthalpy at 75 kPa and 573 K\n",
    "- Entropy at 493 K and 250 kPa"
   ]
  },
  {
   "cell_type": "code",
   "execution_count": 7,
   "metadata": {
    "id": "igpYFRjLXLiZ",
    "scrolled": true
   },
   "outputs": [
    {
     "name": "stdout",
     "output_type": "stream",
     "text": [
      "26    3075.1\n",
      "Name: 300, dtype: float64\n",
      "59   NaN\n",
      "Name: 220, dtype: float64\n"
     ]
    }
   ],
   "source": [
    "#your code here\n",
    "df2=df['Property'].astype(str)+\" \"+\"at\"+\" \"+df[\"Pressure\"].astype(str)\n",
    "df['prop at press']=df2\n",
    "r1=df[df['prop at press']=='H at 75.0']\n",
    "r2=df[df['prop at press']=='S at 250.0']\n",
    "ans_1=r1['300']\n",
    "print(ans_1)\n",
    "ans_2=r2['220']\n",
    "print(ans_2)"
   ]
  },
  {
   "cell_type": "markdown",
   "metadata": {
    "id": "SR7p7NhNU2vy"
   },
   "source": [
    "### 8) Find out the column with the highest number of missing values"
   ]
  },
  {
   "cell_type": "code",
   "execution_count": 8,
   "metadata": {
    "id": "Jj4cUag7WZYB"
   },
   "outputs": [
    {
     "data": {
      "text/plain": [
       "'75'"
      ]
     },
     "execution_count": 8,
     "metadata": {},
     "output_type": "execute_result"
    }
   ],
   "source": [
    "#your code here\n",
    "isNull=df.isna().sum()\n",
    "y=0\n",
    "max=0\n",
    "for i in range(0,len(isNull)):\n",
    "    if(isNull[i]>isNull[max]):\n",
    "        max=i\n",
    "df.columns[max]\n"
   ]
  },
  {
   "cell_type": "markdown",
   "metadata": {
    "id": "yL9loV4IWZwp"
   },
   "source": [
    "### 9) What is the average enthalpy of Sat. Liq. at all different pressures in the dataset ?"
   ]
  },
  {
   "cell_type": "code",
   "execution_count": 9,
   "metadata": {
    "id": "WjOwyU89WlwR"
   },
   "outputs": [
    {
     "name": "stdout",
     "output_type": "stream",
     "text": [
      "936.9707720588237\n"
     ]
    }
   ],
   "source": [
    "#your code here\n",
    "new=len(df.index)\n",
    "#df.column\n",
    "\n",
    "row_count=-1\n",
    "sum=0\n",
    "count=0\n",
    "for row in range(new):\n",
    "    row_count+=1\n",
    "    if df[\"Property\"].values[row_count] is'H':\n",
    "    #if df[\"Property\"].values[row_count]==H\n",
    "        count+=1\n",
    "        sum+=df.Liq_Sat[row_count]\n",
    "       # print (df.Liq_Sat[row_count])\n",
    "print(sum/count)"
   ]
  },
  {
   "cell_type": "markdown",
   "metadata": {
    "id": "PfUPj9e7Wmkx"
   },
   "source": [
    "### 10) Separate out the V,U,H,S data from the dataset into V_data, U_data, H_data, S_data"
   ]
  },
  {
   "cell_type": "code",
   "execution_count": 10,
   "metadata": {
    "id": "Qoy0rPpUW2lp"
   },
   "outputs": [
    {
     "name": "stdout",
     "output_type": "stream",
     "text": [
      "        100     125     150     175     200  220     225  240     250  260  \\\n",
      "0    2688.6  2736.0  2783.7  2831.7  2880.1  NaN  2928.7  NaN  2977.7  NaN   \n",
      "1    2687.5  2735.2  2783.1  2831.2  2879.6  NaN  2928.4  NaN  2977.4  NaN   \n",
      "2    2686.3  2734.2  2782.3  2830.6  2879.2  NaN  2928.0  NaN  2977.1  NaN   \n",
      "3    2685.1  2733.3  2781.6  2830.0  2878.7  NaN  2927.6  NaN  2976.8  NaN   \n",
      "4    2683.8  2732.3  2780.9  2829.5  2878.2  NaN  2927.2  NaN  2976.5  NaN   \n",
      "..      ...     ...     ...     ...     ...  ...     ...  ...     ...  ...   \n",
      "131     NaN     NaN     NaN     NaN     NaN  NaN     NaN  NaN     NaN  NaN   \n",
      "132     NaN     NaN     NaN     NaN     NaN  NaN     NaN  NaN     NaN  NaN   \n",
      "133     NaN     NaN     NaN     NaN     NaN  NaN     NaN  NaN     NaN  NaN   \n",
      "134     NaN     NaN     NaN     NaN     NaN  NaN     NaN  NaN     NaN  NaN   \n",
      "135     NaN     NaN     NaN     NaN     NaN  NaN     NaN  NaN     NaN  NaN   \n",
      "\n",
      "     ...     575     600     625     650      75   Liq_Sat  Pressure  \\\n",
      "0    ...     NaN  3705.6     NaN  3816.4  2641.5    29.335       1.0   \n",
      "1    ...     NaN  3705.5     NaN  3816.3  2640.0   191.832      10.0   \n",
      "2    ...     NaN  3705.4     NaN  3816.2  2638.4   251.453      20.0   \n",
      "3    ...     NaN  3705.4     NaN  3816.2  2636.8   289.302      30.0   \n",
      "4    ...     NaN  3705.3     NaN  3816.1     NaN   317.650      40.0   \n",
      "..   ...     ...     ...     ...     ...     ...       ...       ...   \n",
      "131  ...  3555.9  3617.6  3679.1  3740.4     NaN  1433.700   10600.0   \n",
      "132  ...  3554.1  3615.9  3677.5  3738.9     NaN  1442.200   10800.0   \n",
      "133  ...  3552.2  3614.2  3675.9  3737.5     NaN  1450.600   11000.0   \n",
      "134  ...  3550.4  3612.5  3674.4  3736.0     NaN  1458.900   11200.0   \n",
      "135  ...  3548.5  3610.8  3672.8  3734.6     NaN  1467.200   11400.0   \n",
      "\n",
      "     Property  Vap_Sat  prop at press  \n",
      "0           H   2514.4       H at 1.0  \n",
      "1           H   2584.8      H at 10.0  \n",
      "2           H   2609.9      H at 20.0  \n",
      "3           H   2625.4      H at 30.0  \n",
      "4           H   2636.9      H at 40.0  \n",
      "..        ...      ...            ...  \n",
      "131         H   2716.9   H at 10600.0  \n",
      "132         H   2713.1   H at 10800.0  \n",
      "133         H   2709.3   H at 11000.0  \n",
      "134         H   2705.4   H at 11200.0  \n",
      "135         H   2701.5   H at 11400.0  \n",
      "\n",
      "[136 rows x 38 columns]\n",
      "          100       125       150       175       200  220       225  240  \\\n",
      "0    172180.0  183720.0  195270.0  206810.0  218350.0  NaN  229890.0  NaN   \n",
      "1     17190.0   18350.0   19510.0   20660.0   21820.0  NaN   22980.0  NaN   \n",
      "2      8584.7    9167.1    9748.0   10320.0   10900.0  NaN   11480.0  NaN   \n",
      "3      5714.4    6104.6    6493.2    6880.8    7267.5  NaN    7653.8  NaN   \n",
      "4      4279.2    4573.3    4865.8    5157.2    5447.8  NaN    5738.0  NaN   \n",
      "..        ...       ...       ...       ...       ...  ...       ...  ...   \n",
      "131       NaN       NaN       NaN       NaN       NaN  NaN       NaN  NaN   \n",
      "132       NaN       NaN       NaN       NaN       NaN  NaN       NaN  NaN   \n",
      "133       NaN       NaN       NaN       NaN       NaN  NaN       NaN  NaN   \n",
      "134       NaN       NaN       NaN       NaN       NaN  NaN       NaN  NaN   \n",
      "135       NaN       NaN       NaN       NaN       NaN  NaN       NaN  NaN   \n",
      "\n",
      "          250  260  ...     575         600     625         650        75  \\\n",
      "0    241430.0  NaN  ...     NaN  402960.000     NaN  426040.000  160640.0   \n",
      "1     24130.0  NaN  ...     NaN   40290.000     NaN   42600.000   16030.0   \n",
      "2     12060.0  NaN  ...     NaN   20140.000     NaN   21300.000    8000.0   \n",
      "3      8039.7  NaN  ...     NaN   13430.000     NaN   14190.000    5322.0   \n",
      "4      6027.7  NaN  ...     NaN   10070.000     NaN   10640.000       NaN   \n",
      "..        ...  ...  ...     ...         ...     ...         ...       ...   \n",
      "131       NaN  NaN  ...  34.753      36.039  37.304      38.552       NaN   \n",
      "132       NaN  NaN  ...  34.069      35.335  36.580      37.808       NaN   \n",
      "133       NaN  NaN  ...  33.410      34.656  35.882      37.091       NaN   \n",
      "134       NaN  NaN  ...  32.774      34.002  35.210      36.400       NaN   \n",
      "135       NaN  NaN  ...  32.160      33.370  34.560      35.733       NaN   \n",
      "\n",
      "     Liq_Sat  Pressure  Property     Vap_Sat  prop at press  \n",
      "0      1.000       1.0         V  129200.000       V at 1.0  \n",
      "1      1.010      10.0         V   14670.000      V at 10.0  \n",
      "2      1.017      20.0         V    7649.800      V at 20.0  \n",
      "3      1.022      30.0         V    5229.300      V at 30.0  \n",
      "4      1.027      40.0         V    3993.400      V at 40.0  \n",
      "..       ...       ...       ...         ...            ...  \n",
      "131    1.474   10600.0         V      16.778   V at 10600.0  \n",
      "132    1.481   10800.0         V      16.385   V at 10800.0  \n",
      "133    1.489   11000.0         V      16.006   V at 11000.0  \n",
      "134    1.496   11200.0         V      15.639   V at 11200.0  \n",
      "135    1.504   11400.0         V      15.284   V at 11400.0  \n",
      "\n",
      "[136 rows x 38 columns]\n",
      "        100     125     150     175     200  220      225  240      250  260  \\\n",
      "0    9.5136  9.6365  9.7527  9.8629  9.9679  NaN  10.0681  NaN  10.1641  NaN   \n",
      "1    8.4486  8.5722  8.6888  8.7994  8.9045  NaN   9.0049  NaN   9.1010  NaN   \n",
      "2    8.1261  8.2504  8.3676  8.4785  8.5839  NaN   8.6844  NaN   8.7806  NaN   \n",
      "3    7.9363  8.0614  8.1791  8.2903  8.3960  NaN   8.4967  NaN   8.5930  NaN   \n",
      "4    7.8009  7.9268  8.0450  8.1566  8.2624  NaN   8.3633  NaN   8.4598  NaN   \n",
      "..      ...     ...     ...     ...     ...  ...      ...  ...      ...  ...   \n",
      "131     NaN     NaN     NaN     NaN     NaN  NaN      NaN  NaN      NaN  NaN   \n",
      "132     NaN     NaN     NaN     NaN     NaN  NaN      NaN  NaN      NaN  NaN   \n",
      "133     NaN     NaN     NaN     NaN     NaN  NaN      NaN  NaN      NaN  NaN   \n",
      "134     NaN     NaN     NaN     NaN     NaN  NaN      NaN  NaN      NaN  NaN   \n",
      "135     NaN     NaN     NaN     NaN     NaN  NaN      NaN  NaN      NaN  NaN   \n",
      "\n",
      "     ...     575      600     625      650      75  Liq_Sat  Pressure  \\\n",
      "0    ...     NaN  11.2243     NaN  11.3476  9.3828   0.1060       1.0   \n",
      "1    ...     NaN  10.1616     NaN  10.2849  8.3168   0.6493      10.0   \n",
      "2    ...     NaN   9.8416     NaN   9.9650  7.9933   0.8321      20.0   \n",
      "3    ...     NaN   9.6544     NaN   9.7778  7.8024   0.9441      30.0   \n",
      "4    ...     NaN   9.5216     NaN   9.6450     NaN   1.0261      40.0   \n",
      "..   ...     ...      ...     ...      ...     ...      ...       ...   \n",
      "131  ...  6.7983   6.8700  6.9394   7.0067     NaN   3.4029   10600.0   \n",
      "132  ...  6.7880   6.8599  6.9294   6.9969     NaN   3.4167   10800.0   \n",
      "133  ...  6.7779   6.8499  6.9196   6.9872     NaN   3.4304   11000.0   \n",
      "134  ...  6.7679   6.8401  6.9099   6.9777     NaN   3.4440   11200.0   \n",
      "135  ...  6.7580   6.8304  6.9004   6.9683     NaN   3.4575   11400.0   \n",
      "\n",
      "     Property  Vap_Sat  prop at press  \n",
      "0           S   8.9767       S at 1.0  \n",
      "1           S   8.1511      S at 10.0  \n",
      "2           S   7.9094      S at 20.0  \n",
      "3           S   7.7695      S at 30.0  \n",
      "4           S   7.6709      S at 40.0  \n",
      "..        ...      ...            ...  \n",
      "131         S   5.5835   S at 10600.0  \n",
      "132         S   5.5715   S at 10800.0  \n",
      "133         S   5.5595   S at 11000.0  \n",
      "134         S   5.5476   S at 11200.0  \n",
      "135         S   5.5357   S at 11400.0  \n",
      "\n",
      "[136 rows x 38 columns]\n",
      "        100     125     150     175     200  220     225  240     250  260  \\\n",
      "0    2516.4  2552.3  2588.5  2624.9  2661.7  NaN  2698.8  NaN  2736.3  NaN   \n",
      "1    2515.6  2551.6  2588.0  2624.5  2661.4  NaN  2698.6  NaN  2736.1  NaN   \n",
      "2    2514.6  2550.9  2587.4  2624.1  2661.0  NaN  2698.3  NaN  2735.8  NaN   \n",
      "3    2513.6  2550.2  2586.8  2623.6  2660.7  NaN  2698.0  NaN  2735.6  NaN   \n",
      "4    2512.6  2549.4  2586.2  2623.2  2660.3  NaN  2697.7  NaN  2735.4  NaN   \n",
      "..      ...     ...     ...     ...     ...  ...     ...  ...     ...  ...   \n",
      "131     NaN     NaN     NaN     NaN     NaN  NaN     NaN  NaN     NaN  NaN   \n",
      "132     NaN     NaN     NaN     NaN     NaN  NaN     NaN  NaN     NaN  NaN   \n",
      "133     NaN     NaN     NaN     NaN     NaN  NaN     NaN  NaN     NaN  NaN   \n",
      "134     NaN     NaN     NaN     NaN     NaN  NaN     NaN  NaN     NaN  NaN   \n",
      "135     NaN     NaN     NaN     NaN     NaN  NaN     NaN  NaN     NaN  NaN   \n",
      "\n",
      "     ...     575     600     625     650      75   Liq_Sat  Pressure  \\\n",
      "0    ...     NaN  3302.6     NaN  3390.3  2480.8    29.334       1.0   \n",
      "1    ...     NaN  3302.6     NaN  3390.3  2479.7   191.822      10.0   \n",
      "2    ...     NaN  3302.5     NaN  3390.2  2478.4   251.432      20.0   \n",
      "3    ...     NaN  3302.5     NaN  3390.2  2477.1   289.271      30.0   \n",
      "4    ...     NaN  3302.4     NaN  3390.1     NaN   317.609      40.0   \n",
      "..   ...     ...     ...     ...     ...     ...       ...       ...   \n",
      "131  ...  3187.5  3235.6  3283.6  3331.7     NaN  1418.100   10600.0   \n",
      "132  ...  3186.1  3234.3  3282.4  3330.6     NaN  1426.200   10800.0   \n",
      "133  ...  3184.7  3233.0  3281.2  3329.5     NaN  1434.200   11000.0   \n",
      "134  ...  3183.3  3231.7  3280.0  3328.4     NaN  1442.100   11200.0   \n",
      "135  ...  3181.9  3230.4  3278.8  3327.2     NaN  1450.000   11400.0   \n",
      "\n",
      "     Property  Vap_Sat  prop at press  \n",
      "0           U   2385.2       U at 1.0  \n",
      "1           U   2438.0      U at 10.0  \n",
      "2           U   2456.9      U at 20.0  \n",
      "3           U   2468.6      U at 30.0  \n",
      "4           U   2477.1      U at 40.0  \n",
      "..        ...      ...            ...  \n",
      "131         U   2539.0   U at 10600.0  \n",
      "132         U   2536.2   U at 10800.0  \n",
      "133         U   2533.2   U at 11000.0  \n",
      "134         U   2530.3   U at 11200.0  \n",
      "135         U   2527.2   U at 11400.0  \n",
      "\n",
      "[136 rows x 38 columns]\n"
     ]
    }
   ],
   "source": [
    "#your code here\n",
    "\n",
    "V_data=pd.DataFrame()\n",
    "S_data=pd.DataFrame()\n",
    "U_data=pd.DataFrame()\n",
    "H_data=pd.DataFrame()\n",
    "for row in range(len(df.index)):\n",
    "    count=row\n",
    "    if df[\"Property\"].values[count] is \"H\":\n",
    "        H_data=H_data.append(df.loc[row],ignore_index=True)\n",
    "    elif df[\"Property\"].values[count] is \"V\":\n",
    "        V_data=V_data.append(df.loc[row],ignore_index=True)\n",
    "    elif df[\"Property\"].values[count] is \"S\":\n",
    "        S_data=S_data.append(df.loc[row],ignore_index=True)\n",
    "    elif df[\"Property\"].values[count] is \"U\":\n",
    "        U_data=U_data.append(df.loc[row],ignore_index=True)\n",
    "print(H_data)\n",
    "print(V_data)\n",
    "print(S_data)\n",
    "print(U_data)"
   ]
  },
  {
   "cell_type": "markdown",
   "metadata": {
    "id": "0IqKY_vvW216"
   },
   "source": [
    "### 11) Plot the properties (specific volume, specific internal energy, specific enthalpy, specific entropy) vs Pressure for saturated liquid.\n",
    "\n",
    "Note: \n",
    "- Try using the subplot feature of matplotlib(Explore it!!)\n",
    "- Provide appropriate title, labels, markersize and other parameters to the plot "
   ]
  },
  {
   "cell_type": "code",
   "execution_count": 11,
   "metadata": {
    "id": "ZsUW7kZzXeKR"
   },
   "outputs": [
    {
     "data": {
      "image/png": "[encoded data removed]",
      "text/plain": [
       "<Figure size 432x288 with 4 Axes>"
      ]
     },
     "metadata": {
      "needs_background": "light"
     },
     "output_type": "display_data"
    }
   ],
   "source": [
    "#your code here\n",
    "#V_data.plot(x=\"Property\" , y=\"Pressure\")\n",
    "fig,axes=plt.subplots(nrows=2,ncols=2,)\n",
    "V_data.plot(ax=axes[0,0],x=\"Pressure\",y=\"Liq_Sat\")\n",
    "U_data.plot(ax=axes[0,1],x=\"Pressure\",y=\"Liq_Sat\")\n",
    "H_data.plot(ax=axes[1,0],x=\"Pressure\",y=\"Liq_Sat\")\n",
    "S_data.plot(ax=axes[1,1],x=\"Pressure\",y=\"Liq_Sat\")\n",
    "axes[0,1].set_title(\"U v/s P\")\n",
    "axes[1,0].set_title(\"H v/s P\")\n",
    "axes[1,1].set_title(\"S v/s P\")\n",
    "axes[0,0].set_title(\"V v/s P\")\n",
    "fig.tight_layout()\n",
    "#plt.show(\"GRAPHhhhhhhh\")"
   ]
  },
  {
   "cell_type": "markdown",
   "metadata": {
    "id": "Ds33LC6dXema"
   },
   "source": [
    "### 12) Plot the same for saturated vapor."
   ]
  },
  {
   "cell_type": "code",
   "execution_count": 12,
   "metadata": {
    "id": "TRy2Tb_GXqcp"
   },
   "outputs": [
    {
     "data": {
      "image/png": "[encoded data removed]",
      "text/plain": [
       "<Figure size 432x288 with 4 Axes>"
      ]
     },
     "metadata": {
      "needs_background": "light"
     },
     "output_type": "display_data"
    }
   ],
   "source": [
    "#your code here\n",
    "fig,axes=plt.subplots(nrows=2,ncols=2,)\n",
    "V_data.plot(ax=axes[0,0],x=\"Pressure\",y=\"Vap_Sat\")\n",
    "U_data.plot(ax=axes[0,1],x=\"Pressure\",y=\"Vap_Sat\")\n",
    "H_data.plot(ax=axes[1,0],x=\"Pressure\",y=\"Vap_Sat\")\n",
    "S_data.plot(ax=axes[1,1],x=\"Pressure\",y=\"Vap_Sat\")\n",
    "axes[0,1].set_title(\"U v/s P\")\n",
    "axes[1,0].set_title(\"H v/s P\")\n",
    "axes[1,1].set_title(\"S v/s P\")\n",
    "axes[0,0].set_title(\"V v/s P\")\n",
    "fig.tight_layout()\n"
   ]
  },
  {
   "cell_type": "markdown",
   "metadata": {
    "id": "ate8hMAkYCph"
   },
   "source": [
    "### 13) Plot the specific volume of saturated liquid between 300 kPa and 1500 kPa"
   ]
  },
  {
   "cell_type": "code",
   "execution_count": 13,
   "metadata": {
    "id": "pbBwBWxGZhAz"
   },
   "outputs": [
    {
     "data": {
      "text/plain": [
       "Text(0, 0.5, 'Saturated Liquid')"
      ]
     },
     "execution_count": 13,
     "metadata": {},
     "output_type": "execute_result"
    },
    {
     "data": {
      "image/png": "[encoded data removed]",
      "text/plain": [
       "<Figure size 432x288 with 1 Axes>"
      ]
     },
     "metadata": {
      "needs_background": "light"
     },
     "output_type": "display_data"
    }
   ],
   "source": [
    "#your code here\n",
    "plt.plot(V_data[\"Pressure\"],V_data[\"Liq_Sat\"],\"c-\")\n",
    "plt.xlim(300,1500)\n",
    "plt.title(\"Graph of Specific Volume vs Pressure\")\n",
    "plt.xlabel(\"Pressure\")\n",
    "plt.ylabel(\"Saturated Liquid\")"
   ]
  },
  {
   "cell_type": "markdown",
   "metadata": {
    "id": "KeUT5_QFWySs"
   },
   "source": [
    "## Playing with Numpy"
   ]
  },
  {
   "cell_type": "markdown",
   "metadata": {
    "id": "xTFgCWtqdZSi"
   },
   "source": [
    "### 14) Implement the derivative of the sigmoid function using numpy. \n",
    "\n",
    "Note: \n",
    "- Read about sigmoid function over the internet.\n",
    "- Input of the function can be a scalar or a numpy array.\n",
    "\n",
    "**Test Case:**\n",
    "\n",
    "**Input:**\n",
    "\n",
    " [[9, 2, 5, 0, 0]\n",
    "\n",
    "   [7, 5, 0, 0, 0]]\n",
    "\n",
    "Output:\n",
    "\n",
    "[[0.99987661, 0.88079708, 0.99330715, 0.5, 0.5 ]\n",
    "\n",
    "[0.99908895, 0.99330715, 0.5,  0.5,  0.5 ]]"
   ]
  },
  {
   "cell_type": "code",
   "execution_count": 14,
   "metadata": {
    "id": "BMLOKdEQdg_J"
   },
   "outputs": [
    {
     "name": "stdout",
     "output_type": "stream",
     "text": [
      "9 2 5 0 0 7 5 0 0 0\n",
      "[[9 2 5 0 0]\n",
      " [7 5 0 0 0]]\n"
     ]
    },
    {
     "data": {
      "text/plain": [
       "array([[1.23379350e-04, 1.04993585e-01, 6.64805667e-03, 2.50000000e-01,\n",
       "        2.50000000e-01],\n",
       "       [9.10221180e-04, 6.64805667e-03, 2.50000000e-01, 2.50000000e-01,\n",
       "        2.50000000e-01]])"
      ]
     },
     "execution_count": 14,
     "metadata": {},
     "output_type": "execute_result"
    }
   ],
   "source": [
    "#your code here\n",
    "\n",
    "entries = list(map( int,input().split()))\n",
    "matrix = np.array(entries).reshape(2, 5)\n",
    "print(matrix)\n",
    "#9 2 5 0 0 7 5 0 0 0\n",
    "def sigmoid_derivative(x):\n",
    "    s = 1 / (1 + np.exp(-x))\n",
    "    \n",
    "    ds = s * (1 - s)\n",
    "    \n",
    "    return ds\n",
    "sigmoid_derivative(matrix)"
   ]
  },
  {
   "cell_type": "markdown",
   "metadata": {
    "id": "0nJ76FFIeTKq"
   },
   "source": [
    "### 15) Define a function which takes in a a numpy array of shape (length, height, depth) and returns a vector of shape (length\\*height*depth, 1)\n"
   ]
  },
  {
   "cell_type": "code",
   "execution_count": 15,
   "metadata": {
    "id": "e6XecJLkeUmK"
   },
   "outputs": [
    {
     "name": "stdout",
     "output_type": "stream",
     "text": [
      "9 2 5\n"
     ]
    },
    {
     "data": {
      "text/plain": [
       "array([[90]])"
      ]
     },
     "execution_count": 15,
     "metadata": {},
     "output_type": "execute_result"
    }
   ],
   "source": [
    "#your code here\n",
    "#def vec():\n",
    "def answer(x):\n",
    "    z=[x[0,0]*x[0,1]*x[0,2]]\n",
    "    y=np.array(z).reshape(1,1)\n",
    "    #print(y)\n",
    "    return y\n",
    "import numpy as np\n",
    "#matrix=[\"length\",\"height\",\"depth\"]\n",
    "entries = list(map( int,input().split()))\n",
    "  \n",
    "#For printing the matrix\n",
    "matrix = np.array(entries).reshape(1, 3)\n",
    "#print(matrix)\n",
    "answer(matrix)"
   ]
  },
  {
   "cell_type": "markdown",
   "metadata": {
    "id": "TyyKAFLGdHtx"
   },
   "source": [
    "### 16) Define a softmax function that calculates the softmax for each row of the input x.\n",
    "\n",
    "Note:\n",
    "- The code should work for a row vector and also for matrices of shape (n, m)\n",
    "\n",
    "**Test Case:**\n",
    "\n",
    "**Input:**\n",
    "\n",
    " [[9 2 5 0 0]\n",
    "\n",
    "   [7 5 0 0 0]]\n",
    "\n",
    "Output:\n",
    "\n",
    "[[9.80897665e-01 8.94462891e-04 1.79657674e-02 1.21052389e-04\n",
    "  1.21052389e-04]\n",
    "\n",
    " [8.78679856e-01 1.18916387e-01 8.01252314e-04 8.01252314e-04\n",
    "  8.01252314e-04]]"
   ]
  },
  {
   "cell_type": "code",
   "execution_count": 16,
   "metadata": {
    "id": "wvcifD48dYsC"
   },
   "outputs": [
    {
     "name": "stdout",
     "output_type": "stream",
     "text": [
      "9 2 5 0 0 7 5 0 0 0\n"
     ]
    },
    {
     "data": {
      "text/plain": [
       "array([[9.80897665e-01, 8.94462891e-04, 1.79657674e-02, 1.21052389e-04,\n",
       "        1.21052389e-04],\n",
       "       [8.78679856e-01, 1.18916387e-01, 8.01252314e-04, 8.01252314e-04,\n",
       "        8.01252314e-04]])"
      ]
     },
     "execution_count": 16,
     "metadata": {},
     "output_type": "execute_result"
    }
   ],
   "source": [
    "#your code here\n",
    "def answer(x):\n",
    "    \n",
    "    i,j=np.shape(x)\n",
    "    y=np.empty((i,j))\n",
    "    #print(i,j)\n",
    "    for k in range(i):\n",
    "      for l in range(j):\n",
    "        y[k,l]=np.exp(x[k,l])/(np.sum(np.exp(x[k,:])))\n",
    "\n",
    "    return y\n",
    "#matrix=[\"length\",\"height\",\"depth\"]\n",
    "entries = list(map( int,input().split()))\n",
    "  \n",
    "#For printing the matrix\n",
    "matrix = np.array(entries).reshape(2, 5)\n",
    "\n",
    "answer(matrix)\n",
    "       # np.exp(x) / np.sum(np.exp(x), axis=0)"
   ]
  }
 ],
 "metadata": {
  "colab": {
   "include_colab_link": true,
   "provenance": []
  },
  "kernelspec": {
   "display_name": "Python 3",
   "language": "python",
   "name": "python3"
  },
  "language_info": {
   "codemirror_mode": {
    "name": "ipython",
    "version": 3
   },
   "file_extension": ".py",
   "mimetype": "text/x-python",
   "name": "python",
   "nbconvert_exporter": "python",
   "pygments_lexer": "ipython3",
   "version": "3.6.9"
  }
 },
 "nbformat": 4,
 "nbformat_minor": 1
}
